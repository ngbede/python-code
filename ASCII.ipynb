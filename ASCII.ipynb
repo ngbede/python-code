{
 "cells": [
  {
   "cell_type": "code",
   "execution_count": 2,
   "metadata": {},
   "outputs": [
    {
     "name": "stdout",
     "output_type": "stream",
     "text": [
      "'Hello' in greeting= True\n"
     ]
    }
   ],
   "source": [
    "greeting = \"Hello World!\" # greeting contains string Hello World\n",
    "print(\"'Hello' in greeting=\",'Hello' in greeting) # checks if Hello is in greeting"
   ]
  },
  {
   "cell_type": "code",
   "execution_count": 3,
   "metadata": {},
   "outputs": [
    {
     "name": "stdout",
     "output_type": "stream",
     "text": [
      "'hello' in greeting if lower is used= True\n"
     ]
    }
   ],
   "source": [
    "print(\"'hello' in greeting if lower is used=\",'hello'.lower() in greeting.lower()) # checks if hello is in lower case"
   ]
  },
  {
   "cell_type": "code",
   "execution_count": 7,
   "metadata": {},
   "outputs": [
    {
     "name": "stdout",
     "output_type": "stream",
     "text": [
      "Pizza in menu = True is True\n",
      "I asked if there was SOUP on the menu and he replied True\n"
     ]
    }
   ],
   "source": [
    "menu =\"pizza, soup, and dessert\" # menu contains items on a menu\n",
    "print(\"Pizza in menu = True is\", 'PIZZA'.lower() in menu) # checks if pizza is on the menu\n",
    "print(\"I asked if there was SOUP on the menu and he replied\",'SOUP'.lower() in menu) # checks if soup is on the menu"
   ]
  },
  {
   "cell_type": "code",
   "execution_count": 2,
   "metadata": {},
   "outputs": [
    {
     "name": "stdout",
     "output_type": "stream",
     "text": [
      "ehi\n",
      "True\n"
     ]
    }
   ],
   "source": [
    "x = 'Ehi,Shedrack,Titi,Agbenu,Ojilima' # variable contains names if my siblings\n",
    "y = input() # collects user input\n",
    "print(y.title() in x) # checks if user input is in list of siblings"
   ]
  },
  {
   "cell_type": "code",
   "execution_count": 9,
   "metadata": {},
   "outputs": [
    {
     "name": "stdout",
     "output_type": "stream",
     "text": [
      "Hello!\n"
     ]
    }
   ],
   "source": [
    "print(\"Hello!\") # prints Hello!"
   ]
  },
  {
   "cell_type": "code",
   "execution_count": 10,
   "metadata": {},
   "outputs": [
    {
     "name": "stdout",
     "output_type": "stream",
     "text": [
      "Watch for the cat!\n"
     ]
    }
   ],
   "source": [
    "print('Watch for the cat!') # prints Watch for the cat!"
   ]
  },
  {
   "cell_type": "code",
   "execution_count": 13,
   "metadata": {},
   "outputs": [
    {
     "name": "stdout",
     "output_type": "stream",
     "text": [
      "Emmanuel Ngbede Sule\n",
      "is using python to code\n"
     ]
    }
   ],
   "source": [
    "your_name =\"Emmanuel Ngbede Sule\" # variable contains my name\n",
    "print(your_name)#print out my name\n",
    "print(\"is using python to code\")#prints out 'is using python to code'"
   ]
  },
  {
   "cell_type": "code",
   "execution_count": 15,
   "metadata": {},
   "outputs": [
    {
     "name": "stdout",
     "output_type": "stream",
     "text": [
      "Emmanuel Sule's favourite song is Paradise by coldplay His shoe size is: 44 inches. He believes 3 is OK\n"
     ]
    }
   ],
   "source": [
    "favorite_song = \"Paradise by coldplay\" # variable contains my favourite song\n",
    "shoe_size = \"44\" # my shoe size\n",
    "lucky_number = \"3\" # my lucky number\n",
    "print(\"Emmanuel Sule's favourite song is\",favorite_song,\"His shoe size is:\",shoe_size,\"inches. He believes\",lucky_number,\"is OK\") # prints out information using my input variables"
   ]
  },
  {
   "cell_type": "code",
   "execution_count": 17,
   "metadata": {},
   "outputs": [
    {
     "name": "stdout",
     "output_type": "stream",
     "text": [
      "*\n",
      "  *\n",
      "    *\n",
      "      *\n",
      "        *\n",
      "          *\n",
      "            *\n",
      "              *\n"
     ]
    }
   ],
   "source": [
    "print(\"*\")#ASCII program which displays diagonal line\n",
    "print(\"  *\")#ASCII program which displays diagonal line\n",
    "print(\"    *\")#ASCII program which displays diagonal line\n",
    "print(\"      *\")#ASCII program which displays diagonal line\n",
    "print(\"        *\")#ASCII program which displays diagonal line\n",
    "print(\"          *\")#ASCII program which displays diagonal line\n",
    "print(\"            *\")#ASCII program which displays diagonal line\n",
    "print(\"              *\")#ASCII program which displays diagonal line\n"
   ]
  },
  {
   "cell_type": "code",
   "execution_count": 19,
   "metadata": {},
   "outputs": [
    {
     "name": "stdout",
     "output_type": "stream",
     "text": [
      "***********************\n",
      "*                     *\n",
      "*                     *\n",
      "***********************\n"
     ]
    }
   ],
   "source": [
    "print(\"***********************\")#ASCII program which displays rectangle\n",
    "print(\"*                     *\")#ASCII program which displays rectangle\n",
    "print(\"*                     *\")#ASCII program which displays rectangle\n",
    "print(\"***********************\")#ASCII program which displays rectangle"
   ]
  },
  {
   "cell_type": "code",
   "execution_count": 1,
   "metadata": {},
   "outputs": [
    {
     "name": "stdout",
     "output_type": "stream",
     "text": [
      "        *  *  *  *        \n",
      "     *             *\n",
      "   *                 *\n",
      "  *     *       *     *\n",
      " *                     *\n",
      " *                     *\n",
      " *  *               *  *\n",
      "  *  *             *  *\n",
      "   *   *         *   *\n",
      "     *   *  *  *    *\n",
      "        *  *  *  *          \n"
     ]
    }
   ],
   "source": [
    "print(\"        *  *  *  *        \")#ASCII program which displays smiley face\n",
    "print(\"     *             *\")#ASCII program which displays smiley face\n",
    "print(\"   *                 *\")#ASCII program which displays smiley face\n",
    "print(\"  *     *       *     *\")#ASCII program which displays smiley face\n",
    "print(\" *                     *\")#ASCII program which displays smiley face\n",
    "print(\" *                     *\")#ASCII program which displays smiley face\n",
    "print(\" *  *               *  *\")#ASCII program which displays smiley face\n",
    "print(\"  *  *             *  *\")#ASCII program which displays smiley face\n",
    "print(\"   *   *         *   *\")#ASCII program which displays smiley face\n",
    "print(\"     *   *  *  *    *\")#ASCII program which displays smiley face\n",
    "print(\"        *  *  *  *          \") #ASCII program which displays smiley face      "
   ]
  },
  {
   "cell_type": "code",
   "execution_count": 23,
   "metadata": {},
   "outputs": [
    {
     "data": {
      "text/plain": [
       "str"
      ]
     },
     "execution_count": 23,
     "metadata": {},
     "output_type": "execute_result"
    }
   ],
   "source": [
    "type('Emmanuel Ngbede Sule') # checks type of date"
   ]
  },
  {
   "cell_type": "code",
   "execution_count": 25,
   "metadata": {},
   "outputs": [
    {
     "data": {
      "text/plain": [
       "str"
      ]
     },
     "execution_count": 25,
     "metadata": {},
     "output_type": "execute_result"
    }
   ],
   "source": [
    "type(\"Save your Notebook!\") # checks data type"
   ]
  },
  {
   "cell_type": "code",
   "execution_count": 2,
   "metadata": {},
   "outputs": [
    {
     "name": "stdout",
     "output_type": "stream",
     "text": [
      "<class 'str'>\n",
      "<class 'int'>\n",
      "<class 'float'>\n",
      "<class 'str'>\n",
      "<class 'float'>\n"
     ]
    }
   ],
   "source": [
    "#Run this cells before starting the next module\n",
    "student_name = 'Gus' # Gus is stored in variable student_name\n",
    "student_age = 16 # stores age in atudent_age\n",
    "student_grade = 3.5 # students gpa\n",
    "student_id = \"ABC-000-000\" # students id\n",
    "print(type(student_name)) # checks data type\n",
    "print(type(student_age))# checks data type\n",
    "print(type(student_grade)) # checks data type\n",
    "print(type(student_id)) # checks data type\n",
    "print(type(student_age + student_grade)) # checks data type"
   ]
  },
  {
   "cell_type": "code",
   "execution_count": 33,
   "metadata": {},
   "outputs": [
    {
     "name": "stdout",
     "output_type": "stream",
     "text": [
      "106\n"
     ]
    }
   ],
   "source": [
    "x = 34 #this is an integer assigned to x\n",
    "y = 60 #this is an integer assigned to y\n",
    "z = 12 #this is an integer assigned to z\n",
    "xyz_sum = x + y + z #xyz_sum is the summation of x, y and z\n",
    "print(xyz_sum) #prints out the result of x + y + z"
   ]
  },
  {
   "cell_type": "code",
   "execution_count": 35,
   "metadata": {},
   "outputs": [
    {
     "name": "stdout",
     "output_type": "stream",
     "text": [
      "hello\n",
      "hello\n"
     ]
    }
   ],
   "source": [
    "remind_me = input()#collects random input\n",
    "print(remind_me)#prints out the random input"
   ]
  },
  {
   "cell_type": "code",
   "execution_count": 3,
   "metadata": {},
   "outputs": [
    {
     "name": "stdout",
     "output_type": "stream",
     "text": [
      "What is the subject:fghj\n",
      "What time does the meeting start:y\n",
      "The subject is fghj starting by y\n"
     ]
    }
   ],
   "source": [
    "# Meeting details in an office\n",
    "meeting_subject = input(\"What is the subject:\") # collects user input\n",
    "meeting_time = input(\"What time does the meeting start:\") # collects user input\n",
    "print('The subject is',meeting_subject,'starting by',meeting_time) # prints out info using user inputs"
   ]
  },
  {
   "cell_type": "code",
   "execution_count": null,
   "metadata": {},
   "outputs": [],
   "source": []
  },
  {
   "cell_type": "code",
   "execution_count": 1,
   "metadata": {},
   "outputs": [
    {
     "data": {
      "text/plain": [
       "4"
      ]
     },
     "execution_count": 1,
     "metadata": {},
     "output_type": "execute_result"
    }
   ],
   "source": [
    "2 + 2"
   ]
  },
  {
   "cell_type": "code",
   "execution_count": 3,
   "metadata": {},
   "outputs": [
    {
     "name": "stdout",
     "output_type": "stream",
     "text": [
      "HELLO\n",
      "HELLO is alphanumerical = True\n",
      "HELLO is alphabetical = True\n",
      "HELLO is capitalized = False\n",
      "HELLO is lower case = False\n",
      "True\n"
     ]
    }
   ],
   "source": [
    "vehicle = input()#vehicle test\n",
    "print(vehicle, \"is alphanumerical =\",vehicle.isalnum())#checks if the input is alphanumerical\n",
    "print(vehicle, \"is alphabetical =\",vehicle.isalpha())#checks if the input is alphabetical\n",
    "print(vehicle, \"is capitalized =\",vehicle.istitle())#checks if the input is capitaluzed at the begining\n",
    "print(vehicle, \"is lower case =\",vehicle.islower())#checs if the input is all in lower case\n",
    "x = \"baseball\"\n",
    "print(\"e\" in x)"
   ]
  },
  {
   "cell_type": "code",
   "execution_count": 15,
   "metadata": {},
   "outputs": [
    {
     "name": "stdout",
     "output_type": "stream",
     "text": [
      "The time is noon\n"
     ]
    }
   ],
   "source": [
    "capitalize_this = \"the TIME is Noon\"# This is a variable\n",
    "print(capitalize_this.capitalize())# Prints out the variable in capitalized form"
   ]
  },
  {
   "cell_type": "code",
   "execution_count": 16,
   "metadata": {},
   "outputs": [
    {
     "name": "stdout",
     "output_type": "stream",
     "text": [
      "Who WRITES like This?\n"
     ]
    }
   ],
   "source": [
    "swap_this = \"wHO writes LIKE tHIS?\" # This is a variable\n",
    "print(swap_this.swapcase()) # swaps the cases and prints out the result"
   ]
  },
  {
   "cell_type": "code",
   "execution_count": 17,
   "metadata": {},
   "outputs": [
    {
     "name": "stdout",
     "output_type": "stream",
     "text": [
      "can you hear me?\n"
     ]
    }
   ],
   "source": [
    "whisper_this = \"Can you hear me?\"# This is a variable\n",
    "print(whisper_this.lower())# prints out the variable in lower case"
   ]
  },
  {
   "cell_type": "code",
   "execution_count": 18,
   "metadata": {},
   "outputs": [
    {
     "name": "stdout",
     "output_type": "stream",
     "text": [
      "CAN YOU HEAR ME NOW!?\n"
     ]
    }
   ],
   "source": [
    "yell_this = \"Can you hear me Now!?\"# This is a variable\n",
    "print(yell_this.upper())# prints out the variable in upper case"
   ]
  },
  {
   "cell_type": "code",
   "execution_count": 20,
   "metadata": {},
   "outputs": [
    {
     "name": "stdout",
     "output_type": "stream",
     "text": [
      "What is your favourite colour:BLUE\n",
      "Your favourite colour is \"blue\"\n"
     ]
    }
   ],
   "source": [
    "color = input(\"What is your favourite colour:\") # collects user input for favourite colour\n",
    "print(\"Your favourite colour is\",'\"'+color.lower()+'\"') # prints out info and favourite colour in lower case"
   ]
  },
  {
   "cell_type": "code",
   "execution_count": 4,
   "metadata": {},
   "outputs": [
    {
     "name": "stdout",
     "output_type": "stream",
     "text": [
      "Remind me to say...Nonsense\n",
      "nonsense\n"
     ]
    }
   ],
   "source": [
    "remind_me = input(\"Remind me to say...\") # collects user input \n",
    "print(remind_me.lower()) # prints user input in lower case"
   ]
  },
  {
   "cell_type": "code",
   "execution_count": 25,
   "metadata": {},
   "outputs": [
    {
     "name": "stdout",
     "output_type": "stream",
     "text": [
      "yell\n",
      "\"YELL\"\n"
     ]
    }
   ],
   "source": [
    "yell_this = input() # collects user input\n",
    "print('\"'+yell_this.upper()+'\"') # prints out user input in upper case"
   ]
  },
  {
   "cell_type": "code",
   "execution_count": 2,
   "metadata": {},
   "outputs": [
    {
     "data": {
      "text/plain": [
       "2074"
      ]
     },
     "execution_count": 2,
     "metadata": {},
     "output_type": "execute_result"
    }
   ],
   "source": [
    "x = 1326 # variable x contains integer value\n",
    "y = 748 # variable y contains integer value\n",
    "x + y # prints out result of x + y"
   ]
  },
  {
   "cell_type": "code",
   "execution_count": 4,
   "metadata": {},
   "outputs": [
    {
     "name": "stdout",
     "output_type": "stream",
     "text": [
      "<class 'float'>\n",
      "<class 'str'>\n",
      "<class 'float'>\n"
     ]
    }
   ],
   "source": [
    "x = 436.0 # float value is stored in x\n",
    "y = \"hello\" # string is stored in y\n",
    "z = 3.5 # float value is stored in z\n",
    "print(type(x))# prints out type of x\n",
    "print(type(y))# prints out type of y\n",
    "print(type(z))# prints out type of z"
   ]
  },
  {
   "cell_type": "code",
   "execution_count": 14,
   "metadata": {},
   "outputs": [
    {
     "name": "stdout",
     "output_type": "stream",
     "text": [
      "chinonso is a boy who is 18 years old\n"
     ]
    }
   ],
   "source": [
    "my_age = 18 # variable contains integer\n",
    "name = \"chinonso\" # variable contains string\n",
    "print(name,\"is a boy who is\",my_age,\"years old\") # prints out info using already stored variables"
   ]
  },
  {
   "cell_type": "code",
   "execution_count": 17,
   "metadata": {},
   "outputs": [
    {
     "name": "stdout",
     "output_type": "stream",
     "text": [
      "What is your sex:male\\\n"
     ]
    },
    {
     "data": {
      "text/plain": [
       "'male\\\\'"
      ]
     },
     "execution_count": 17,
     "metadata": {},
     "output_type": "execute_result"
    }
   ],
   "source": [
    "name = input(\"What level are you in\") # collects user data\n",
    "print() # prints out user data"
   ]
  },
  {
   "cell_type": "markdown",
   "metadata": {},
   "source": []
  },
  {
   "cell_type": "code",
   "execution_count": 1,
   "metadata": {},
   "outputs": [
    {
     "name": "stdout",
     "output_type": "stream",
     "text": [
      "What is your name:QEWRUIO\n",
      "hello QEWRUIO how old are you?\n",
      "1324789\n",
      "QEWRUIO is 1324789 years old\n"
     ]
    }
   ],
   "source": [
    "name = input(\"What is your name:\") # collects user inputTY]\n",
    "print(\"hello\",name,\"how old are you?\") # prints out info using user input\n",
    "x = input() # collects user\n",
    "print(name,\"is\",x,\"years old\")"
   ]
  },
  {
   "cell_type": "code",
   "execution_count": 2,
   "metadata": {},
   "outputs": [
    {
     "name": "stdout",
     "output_type": "stream",
     "text": [
      "hello world\n"
     ]
    }
   ],
   "source": [
    "print(\"hello world\")"
   ]
  },
  {
   "cell_type": "code",
   "execution_count": null,
   "metadata": {},
   "outputs": [],
   "source": []
  }
 ],
 "metadata": {
  "kernelspec": {
   "display_name": "Python 3",
   "language": "python",
   "name": "python3"
  },
  "language_info": {
   "codemirror_mode": {
    "name": "ipython",
    "version": 3
   },
   "file_extension": ".py",
   "mimetype": "text/x-python",
   "name": "python",
   "nbconvert_exporter": "python",
   "pygments_lexer": "ipython3",
   "version": "3.6.4"
  }
 },
 "nbformat": 4,
 "nbformat_minor": 2
}
