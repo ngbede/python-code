{
 "cells": [
  {
   "cell_type": "code",
   "execution_count": 3,
   "metadata": {},
   "outputs": [
    {
     "name": "stdout",
     "output_type": "stream",
     "text": [
      "Enter a word or an integer:ue6\n",
      "Wow your input is neither an integer or an alphabetical character\n"
     ]
    }
   ],
   "source": [
    "def str_analysis(x): # creates a function\n",
    "    x = \"Wow your input is neither an integer or an alphabetical character\" # variable contains string\n",
    "    return x # returns x\n",
    "message = \"\" # message contains empty string\n",
    "while message == \"\": # message represents True\n",
    "    message = input(\"Enter a word or an integer:\") # contains to loop message unless user inputs something\n",
    "    if message.isdigit() == True:  # checks if message is all digits\n",
    "        if int(message) > 99: # checks if message is greater than 99\n",
    "            print(\"Wow!\",message,\"Is a very large number\") # runs when True\n",
    "        else: # else\n",
    "            print(\"I expected something larger than\",message) # runs when False\n",
    "    if message.isdigit() != True: # checks if message is not all digits\n",
    "        if message.isalpha(): # checks if message is all alphabetical characters\n",
    "            print(\"Your input is all alphabetic\") # runs when True\n",
    "y = str_analysis(\"hello\") # calls str_analysis function\n",
    "if message.isalpha() == False: # if message is not all alphabetical characters\n",
    "    if message.isdigit() == False: # if message is not all digits \n",
    "        print(y) # line runs"
   ]
  }
 ],
 "metadata": {
  "kernelspec": {
   "display_name": "Python 3",
   "language": "python",
   "name": "python3"
  },
  "language_info": {
   "codemirror_mode": {
    "name": "ipython",
    "version": 3
   },
   "file_extension": ".py",
   "mimetype": "text/x-python",
   "name": "python",
   "nbconvert_exporter": "python",
   "pygments_lexer": "ipython3",
   "version": "3.6.4"
  }
 },
 "nbformat": 4,
 "nbformat_minor": 2
}
