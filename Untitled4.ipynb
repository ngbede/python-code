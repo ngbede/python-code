{
 "cells": [
  {
   "cell_type": "code",
   "execution_count": null,
   "metadata": {},
   "outputs": [],
   "source": [
    "common_birds = [\"chicken\",\"blue jay\",\"crow\",\"pigeon\"]\n",
    "birds_seen = [\"eagle\",\"vulture\",\"parrot\"]\n",
    "common_birds.extend(birds_seen)\n",
    "print(common_birds)"
   ]
  },
  {
   "cell_type": "code",
   "execution_count": null,
   "metadata": {},
   "outputs": [],
   "source": [
    "zero_nine = [1,2,3,4,5,6,7,8,9,0]\n",
    "ten_onehundred = [10,20,30,40,50,60,70,80,90,100]\n",
    "all_num = zero_nine + ten_onehundred\n",
    "print(all_num)"
   ]
  },
  {
   "cell_type": "code",
   "execution_count": null,
   "metadata": {},
   "outputs": [],
   "source": [
    "five_hundred = [5,10,15,20,25,30,35,40,45,50,55,60,70,75,80,85,90,95,100]\n",
    "five_hundred.reverse()\n",
    "print(five_hundred)"
   ]
  },
  {
   "cell_type": "code",
   "execution_count": null,
   "metadata": {},
   "outputs": [],
   "source": [
    "fours = [4,8,12,16,20,24,28,32,36,40,44]\n",
    "more_fours = [44,40,36,32,28,24,20,16,12,8,4]\n",
    "fours.extend(more_fours)\n",
    "fours.reverse()\n",
    "print(fours)"
   ]
  },
  {
   "cell_type": "code",
   "execution_count": null,
   "metadata": {},
   "outputs": [],
   "source": [
    "visited_cities = [\"New York\",\"Shanghai\",\"Munich\",\"Tokyo\",\"Dubai\",\"Mexico City\",\"Sao Paulo\",\"Hyberdad\"]\n",
    "visited_cities.sort()\n",
    "print(visited_cities)"
   ]
  },
  {
   "cell_type": "code",
   "execution_count": null,
   "metadata": {},
   "outputs": [],
   "source": [
    "sorted_cities = visited_cities.sorted()\n",
    "new = \"\"\n",
    "for city in sorted_cities:\n",
    "    if int(len(city)) < 5:\n",
    "        new += city\n",
    "        print(city)\n",
    "        "
   ]
  },
  {
   "cell_type": "code",
   "execution_count": 4,
   "metadata": {},
   "outputs": [
    {
     "name": "stdout",
     "output_type": "stream",
     "text": [
      "Enter an animals name:gh\n",
      "['g', 'h']\n"
     ]
    }
   ],
   "source": [
    "add_animals = list(input(\"Enter an animals name:\"))\n",
    "print(add_animals)"
   ]
  },
  {
   "cell_type": "code",
   "execution_count": 5,
   "metadata": {},
   "outputs": [
    {
     "name": "stdout",
     "output_type": "stream",
     "text": [
      "['Jack', 'and', 'Jill', 'went', 'up', 'the', 'hill', 'to', 'fetch', 'a', 'pail', 'of', 'water']\n",
      "Jack\n",
      "and\n",
      "Jill\n",
      "went\n",
      "up\n",
      "the\n",
      "hill\n",
      "to\n",
      "fetch\n",
      "a\n",
      "pail\n",
      "of\n",
      "water\n"
     ]
    }
   ],
   "source": [
    "rhyme = \"Jack and Jill went up the hill to fetch a pail of water\"\n",
    "rhyme_words = rhyme.split()\n",
    "print(rhyme_words)\n",
    "for words in rhyme_words:\n",
    "    print(words)"
   ]
  },
  {
   "cell_type": "code",
   "execution_count": 6,
   "metadata": {},
   "outputs": [
    {
     "name": "stdout",
     "output_type": "stream",
     "text": [
      "['Python', 'uses', 'spaces', 'for', 'indentation']\n"
     ]
    }
   ],
   "source": [
    "code_tip = \"Python uses spaces for indentation\"\n",
    "code = code_tip.split()\n",
    "print(code)"
   ]
  },
  {
   "cell_type": "code",
   "execution_count": 10,
   "metadata": {},
   "outputs": [
    {
     "name": "stdout",
     "output_type": "stream",
     "text": [
      "Write code frequently\n",
      "Save code frequently\n",
      "Comment code frequently\n",
      "Study code frequently\n",
      "\n"
     ]
    }
   ],
   "source": [
    "poem = \"Write code frequently*Save code frequently*Comment code frequently*Study code frequently*\"\n",
    "phrase = poem.split(\"*\")\n",
    "for words in phrase:\n",
    "    print(words)"
   ]
  },
  {
   "cell_type": "code",
   "execution_count": 12,
   "metadata": {},
   "outputs": [
    {
     "name": "stdout",
     "output_type": "stream",
     "text": [
      "A*s*t*e*r*i*s*k\n"
     ]
    }
   ],
   "source": [
    "letters = [\"A\",\"s\",\"t\",\"e\",\"r\",\"i\",\"s\",\"k\"]\n",
    "joint = \"*\".join(letters)\n",
    "print(joint)"
   ]
  },
  {
   "cell_type": "code",
   "execution_count": 15,
   "metadata": {},
   "outputs": [
    {
     "name": "stdout",
     "output_type": "stream",
     "text": [
      "What do you want to use to seperate words:0\n",
      "Jack0and0Jill0went0up0the0hil0to0fetch0a0pail0of0water\n"
     ]
    }
   ],
   "source": [
    "opt = input(\"What do you want to use to seperate words:\")\n",
    "phrase_words = [\"Jack\",\"and\",\"Jill\",\"went\",\"up\",\"the\",\"hil\",\"to\",\"fetch\",\"a\",\"pail\",\"of\",\"water\"]\n",
    "hello = opt.join(phrase_words)\n",
    "print(hello)"
   ]
  },
  {
   "cell_type": "code",
   "execution_count": 1,
   "metadata": {},
   "outputs": [
    {
     "name": "stdout",
     "output_type": "stream",
     "text": [
      "J\n",
      "e\n",
      "s\n",
      "u\n",
      "s\n",
      " \n",
      "i\n",
      "s\n",
      " \n",
      "t\n",
      "h\n",
      "e\n",
      " \n",
      "S\n",
      "a\n",
      "v\n",
      "i\n",
      "o\n",
      "u\n",
      "r\n",
      " \n",
      "o\n",
      "f\n",
      " \n",
      "t\n",
      "h\n",
      "e\n",
      " \n",
      "W\n",
      "o\n",
      "r\n",
      "l\n",
      "d\n"
     ]
    }
   ],
   "source": [
    "message_characters = list(\"Always test your code\")\n",
    "fact_list = list(\"Jesus is the Saviour of the World\")\n",
    "\n",
    "for words in fact_list:\n",
    "    print(words)"
   ]
  },
  {
   "cell_type": "code",
   "execution_count": 6,
   "metadata": {},
   "outputs": [
    {
     "name": "stdout",
     "output_type": "stream",
     "text": [
      "['3', ',', '1', '0', ',', '1', '2', ',', '1', '4', ',', '1', '6', ',', '1', '8', ',', '2', '9', ',', '2', '6', ',', '3', '7', ',', '5', '2', ',', '1', '9', ',', '2', '0', ',', '1', '7', ',', '2', '7', ',', '3', '0', ',', '3', '3', ',', '2', '6', ',', '2', '5', ',', '1', '9', ',', '2', '0']\n"
     ]
    }
   ],
   "source": [
    "digit_string = \"3,10,12,14,16,18,29,26,37,52,19,20,17,27,30,33,26,25,19,20\"\n",
    "x = list(digit_string)\n",
    "\"+\".join(x)\n",
    "print(x)"
   ]
  },
  {
   "cell_type": "code",
   "execution_count": 9,
   "metadata": {},
   "outputs": [
    {
     "name": "stdout",
     "output_type": "stream",
     "text": [
      "physical states of matter\n",
      "solid - is a state of matter\n",
      "liquid - is a state of matter\n",
      "gas - is a state of matter\n",
      "plasma - is a state of matter\n"
     ]
    }
   ],
   "source": [
    "print(\"physical states of matter\")\n",
    "matter_states = [\"solid\",\"liquid\",\"gas\",\"plasma\"]\n",
    "for word in matter_states:\n",
    "    print(word,\"- is a state of matter\")"
   ]
  },
  {
   "cell_type": "code",
   "execution_count": 19,
   "metadata": {},
   "outputs": [
    {
     "name": "stdout",
     "output_type": "stream",
     "text": [
      "bird list before removal: ['turkey', 'hawk', 'chicken', 'dove', 'crow']\n",
      "turkey\n",
      "hawk\n",
      "dove\n"
     ]
    }
   ],
   "source": [
    "birds = [\"turkey\",\"hawk\",\"chicken\",\"dove\",\"crow\"]\n",
    "print(\"bird list before removal:\",birds)\n",
    "for bird in birds:\n",
    "    if bird.startswith(\"c\") != True:\n",
    "        print(bird)"
   ]
  },
  {
   "cell_type": "code",
   "execution_count": null,
   "metadata": {},
   "outputs": [],
   "source": []
  }
 ],
 "metadata": {
  "kernelspec": {
   "display_name": "Python 3",
   "language": "python",
   "name": "python3"
  },
  "language_info": {
   "codemirror_mode": {
    "name": "ipython",
    "version": 3
   },
   "file_extension": ".py",
   "mimetype": "text/x-python",
   "name": "python",
   "nbconvert_exporter": "python",
   "pygments_lexer": "ipython3",
   "version": "3.6.4"
  }
 },
 "nbformat": 4,
 "nbformat_minor": 2
}
