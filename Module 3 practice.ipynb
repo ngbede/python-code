{
 "cells": [
  {
   "cell_type": "code",
   "execution_count": 10,
   "metadata": {},
   "outputs": [
    {
     "name": "stdout",
     "output_type": "stream",
     "text": [
      "it is good to be 2\n"
     ]
    }
   ],
   "source": [
    "age = '2' # age stores a string\n",
    "y = int(age) # casting string to an integer\n",
    "if y >= 12: # if y is greater or equal to twelve\n",
    "    print(\"you will be 23 in 10 yrs\") # runs when True \n",
    "else: # else\n",
    "    print('it is good to be',age) # runs when False"
   ]
  },
  {
   "cell_type": "code",
   "execution_count": 2,
   "metadata": {},
   "outputs": [
    {
     "name": "stdout",
     "output_type": "stream",
     "text": [
      "What is the number:67\n",
      "Are you confused\n"
     ]
    }
   ],
   "source": [
    "number = input(\"What is the number:\") # collects user input \n",
    "y = int(number) # casts string into integer\n",
    "if y > 100: # if y is greater than hundred\n",
    "    print(y,\"is greater than 100\") # runs when True\n",
    "else: # else\n",
    "    print(\"Are you confused\") # runs when False"
   ]
  }
 ],
 "metadata": {
  "kernelspec": {
   "display_name": "Python 3",
   "language": "python",
   "name": "python3"
  },
  "language_info": {
   "codemirror_mode": {
    "name": "ipython",
    "version": 3
   },
   "file_extension": ".py",
   "mimetype": "text/x-python",
   "name": "python",
   "nbconvert_exporter": "python",
   "pygments_lexer": "ipython3",
   "version": "3.6.4"
  }
 },
 "nbformat": 4,
 "nbformat_minor": 2
}
