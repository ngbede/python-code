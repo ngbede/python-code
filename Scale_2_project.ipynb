{
 "cells": [
  {
   "cell_type": "code",
   "execution_count": 2,
   "metadata": {},
   "outputs": [
    {
     "name": "stdout",
     "output_type": "stream",
     "text": [
      "7| 8| 9 \n",
      "4| 5| 6 \n",
      "1| 2| 3 \n"
     ]
    }
   ],
   "source": [
    "from IPython.display import clear_output\n",
    "from random import randint\n",
    "def draw(board):\n",
    "    board = [['7|', '8|', '9'], ['4|', '5|', '6'], ['1|', '2|', '3']]\n",
    "    for row in board:\n",
    "        for col in row:\n",
    "            print(col, end = \" \")\n",
    "        print()\n",
    "draw(\"u\")"
   ]
  }
 ],
 "metadata": {
  "kernelspec": {
   "display_name": "Python 3",
   "language": "python",
   "name": "python3"
  },
  "language_info": {
   "codemirror_mode": {
    "name": "ipython",
    "version": 3
   },
   "file_extension": ".py",
   "mimetype": "text/x-python",
   "name": "python",
   "nbconvert_exporter": "python",
   "pygments_lexer": "ipython3",
   "version": "3.6.4"
  }
 },
 "nbformat": 4,
 "nbformat_minor": 2
}
