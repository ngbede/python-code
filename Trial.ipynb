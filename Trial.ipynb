{
 "cells": [
  {
   "cell_type": "code",
   "execution_count": 7,
   "metadata": {},
   "outputs": [
    {
     "name": "stdout",
     "output_type": "stream",
     "text": [
      "what is ur name?SULE\n",
      "how are you sule?\n"
     ]
    }
   ],
   "source": [
    "name=input(\"what is ur name?\").lower()\n",
    "if name ==\"sule\":\n",
    "    print(\"how are you sule?\")\n",
    "elif name==\"lucy\":\n",
    "    print(\"hy lucy\")\n",
    "elif name==\"stephen\":\n",
    "    print(\"u are late stephen\")\n",
    "elif name==\"divine\":\n",
    "    print(\"you are logged in DIVINE\")\n",
    "else:\n",
    "    print(\"Sorry u are not a valid user\")"
   ]
  },
  {
   "cell_type": "code",
   "execution_count": 12,
   "metadata": {},
   "outputs": [
    {
     "name": "stdout",
     "output_type": "stream",
     "text": [
      "what is your name:Divine iNyaNg\n",
      "divine inyang\n",
      "DIVINE INYANG\n"
     ]
    }
   ],
   "source": [
    "name = input(\"what is your name:\")\n",
    "print(name.lower())\n",
    "print(name.upper())"
   ]
  },
  {
   "cell_type": "code",
   "execution_count": 13,
   "metadata": {},
   "outputs": [
    {
     "name": "stdout",
     "output_type": "stream",
     "text": [
      "10\n",
      "17\n",
      "24\n",
      "31\n",
      "38\n",
      "45\n"
     ]
    }
   ],
   "source": [
    "for x in range(10,50,7):\n",
    "    print(x)\n"
   ]
  },
  {
   "cell_type": "code",
   "execution_count": 39,
   "metadata": {},
   "outputs": [
    {
     "name": "stdout",
     "output_type": "stream",
     "text": [
      "2018-04-29 13:33:32.365363\n"
     ]
    }
   ],
   "source": [
    "from datetime import datetime\n",
    "now = datetime.today()\n",
    "print(now)"
   ]
  },
  {
   "cell_type": "code",
   "execution_count": 1,
   "metadata": {},
   "outputs": [
    {
     "name": "stdout",
     "output_type": "stream",
     "text": [
      "What is your name:divine\n",
      "['d', 'i', 'v', 'i', 'n', 'e']\n"
     ]
    }
   ],
   "source": [
    "hello = input(\"What is your name:\")\n",
    "(\" \").join(hello)\n",
    "print(list(hello))"
   ]
  },
  {
   "cell_type": "code",
   "execution_count": null,
   "metadata": {},
   "outputs": [],
   "source": []
  }
 ],
 "metadata": {
  "kernelspec": {
   "display_name": "Python 3",
   "language": "python",
   "name": "python3"
  },
  "language_info": {
   "codemirror_mode": {
    "name": "ipython",
    "version": 3
   },
   "file_extension": ".py",
   "mimetype": "text/x-python",
   "name": "python",
   "nbconvert_exporter": "python",
   "pygments_lexer": "ipython3",
   "version": "3.6.4"
  }
 },
 "nbformat": 4,
 "nbformat_minor": 2
}
