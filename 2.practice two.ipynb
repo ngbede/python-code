{
 "cells": [
  {
   "cell_type": "code",
   "execution_count": 1,
   "metadata": {},
   "outputs": [
    {
     "name": "stdout",
     "output_type": "stream",
     "text": [
      "monday\n",
      "wednesday\n",
      "friday\n"
     ]
    }
   ],
   "source": [
    "days_of_the_week = [\"sunday\",\"monday\",\"tuesday\",\"wednesday\",\"thursday\",\"friday\",\"saturday\"] # list containing days of the week\n",
    "print(days_of_the_week[1])# prints monday\n",
    "print(days_of_the_week[3])# prints wednesday\n",
    "print(days_of_the_week[5])# prints friday"
   ]
  },
  {
   "cell_type": "code",
   "execution_count": 2,
   "metadata": {},
   "outputs": [
    {
     "name": "stdout",
     "output_type": "stream",
     "text": [
      "[0, 1, 2, 3, 4, 5, 6, 7, 8, 9]\n",
      "[' ', '', 'ABC', 'DEF', 'GHI', 'JKL', 'MNO', 'PQRS', 'TUV', 'WXYZ']\n"
     ]
    }
   ],
   "source": [
    "phone_letters = [0,1,2,3,4,5,6,7,8,9] # list containing numbers from zero to ten\n",
    "print(phone_letters) # prints out the numbers\n",
    "phone_letters[0] = \" \" # assigns index[0] to space\n",
    "phone_letters[1] = \"\" # assigns index[1] to empty\n",
    "phone_letters[2] = \"ABC\" # assigns index[2] to 'ABC'\n",
    "phone_letters[3] = \"DEF\" # assigns index[3] to 'DEF'\n",
    "phone_letters[4] = \"GHI\" # assigns index[4] to 'GHI'\n",
    "phone_letters[5] = \"JKL\" # assigns index[5] to 'JKL'\n",
    "phone_letters[6] = \"MNO\" # assigns index[6] to 'MNO' \n",
    "phone_letters[7] = \"PQRS\" # assigns index[7] to 'PQRS'\n",
    "phone_letters[8] = \"TUV\" # assigns index[8] to 'TUV'\n",
    "phone_letters[9] = \"WXYZ\" # assigns index[9] to 'WXYZ'\n",
    "print(phone_letters) # prints new_list"
   ]
  },
  {
   "cell_type": "code",
   "execution_count": 3,
   "metadata": {},
   "outputs": [
    {
     "name": "stdout",
     "output_type": "stream",
     "text": [
      "tuesday\n",
      "friday\n"
     ]
    }
   ],
   "source": [
    "days_of_the_week # calls days of the week\n",
    "day = days_of_the_week[2] # assigns tuesday to variable day\n",
    "print(day) # prints day\n",
    "day = days_of_the_week[5] # assigns friday to variable day\n",
    "print(day) # prints day"
   ]
  },
  {
   "cell_type": "code",
   "execution_count": 5,
   "metadata": {},
   "outputs": [
    {
     "name": "stdout",
     "output_type": "stream",
     "text": [
      "['sunday', 'monday', 'tuesday', 'peaceday', 'wednesday', 'thursday', 'friday', 'family', 'saturday', 'suleday']\n",
      "['sunday', 'monday', 'tuesday', 'peaceday', 'wednesday', 'thursday', 'friday', 'family', 'saturday', 'suleday', 'suleday']\n",
      "['sunday', 'monday', 'tuesday', 'peaceday', 'wednesday', 'thursday', 'friday', 'family']\n",
      "['sunday', 'monday', 'tuesday', 'peaceday', 'peaceday', 'wednesday', 'thursday', 'friday', 'family']\n",
      "['sunday', 'monday', 'tuesday', 'peaceday', 'peaceday', 'wednesday', 'thursday', 'family', 'friday', 'family']\n"
     ]
    }
   ],
   "source": [
    "days_of_the_week # calls day of the week variable\n",
    "print(days_of_the_week) # prints out list containing the seven days in a week\n",
    "new_day = \"suleday\" # variable conntains a string\n",
    "days_of_the_week.append(new_day) # adds new_day to days_of_the_week variable\n",
    "print(days_of_the_week) # prints out updated list\n",
    "del days_of_the_week[8:] # delets data begining from the 8th index to the end\n",
    "print(days_of_the_week) # prints updated list\n",
    "my_day = \"peaceday\" # variable contains a string\n",
    "days_of_the_week.insert(3,my_day) # inserts the variable at index[3]\n",
    "print(days_of_the_week) # prints updated list\n",
    "days_of_the_week.insert(7,\"family\") # inserts string at index[7]\n",
    "print(days_of_the_week) # prints updated list"
   ]
  },
  {
   "cell_type": "code",
   "execution_count": 43,
   "metadata": {},
   "outputs": [
    {
     "name": "stdout",
     "output_type": "stream",
     "text": [
      "['sunday', 'monday', 'wednesday', 'wednesday', 'thursday', 'friday', 'saturday']\n",
      "saturday\n",
      "['sunday', 'monday', 'wednesday', 'wednesday', 'thursday', 'friday']\n",
      "['sunday', 'monday', 'wednesday']\n",
      "['sunday', 'monday', 'wednesday', 'wednesday', 'thursday', 'friday', 'saturday']\n",
      "['sunday', 'monday', 'tueday', 'wednesday', 'thursday', 'friday', 'saturday']\n"
     ]
    }
   ],
   "source": [
    "print(days_of_the_week) # prints out days_of_the_week\n",
    "x = days_of_the_week.pop() # pops out the last item in the list\n",
    "print(x) # prints updated list\n",
    "print(days_of_the_week) # prints out days_of_the_week\n",
    "del days_of_the_week[3:] # deletes index[3] from days_of_the_week\n",
    "print(days_of_the_week) # prints updated list\n",
    "days_of_the_week.append(\"wednesday\") # adds wednesday to days_of_the_week\n",
    "days_of_the_week.append(\"thursday\") # adds thursday to days_of_the_week\n",
    "days_of_the_week.append(\"friday\") # adds friday to days_of_the_week\n",
    "days_of_the_week.append(\"saturday\") # adds saturday to days_of_the_week\n",
    "print(days_of_the_week) # prints updated list\n",
    "del days_of_the_week[2] # del index[2] from days of the week\n",
    "days_of_the_week.insert(2,\"tueday\") # inserts tuesday at index[2]\n",
    "print(days_of_the_week) # prints updated list"
   ]
  },
  {
   "cell_type": "code",
   "execution_count": 44,
   "metadata": {},
   "outputs": [
    {
     "data": {
      "text/plain": [
       "[' ', '', 'ABC', 'DEF', 'GHI', 'JKL', 'MNO', 'PQRS', 'TUV', 'WXYZ']"
      ]
     },
     "execution_count": 44,
     "metadata": {},
     "output_type": "execute_result"
    }
   ],
   "source": [
    "phone_letters # calls phone_letters"
   ]
  },
  {
   "cell_type": "code",
   "execution_count": null,
   "metadata": {},
   "outputs": [],
   "source": [
    "def let_to_num():\n",
    "    key = 0\n",
    "    letter = input()\n",
    "    while key < 10:\n",
    "        key = phone_letters"
   ]
  }
 ],
 "metadata": {
  "kernelspec": {
   "display_name": "Python 3",
   "language": "python",
   "name": "python3"
  },
  "language_info": {
   "codemirror_mode": {
    "name": "ipython",
    "version": 3
   },
   "file_extension": ".py",
   "mimetype": "text/x-python",
   "name": "python",
   "nbconvert_exporter": "python",
   "pygments_lexer": "ipython3",
   "version": "3.6.4"
  }
 },
 "nbformat": 4,
 "nbformat_minor": 2
}
