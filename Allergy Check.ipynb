{
 "cells": [
  {
   "cell_type": "code",
   "execution_count": 1,
   "metadata": {},
   "outputs": [
    {
     "name": "stdout",
     "output_type": "stream",
     "text": [
      "Enter the food you have eaten in the last 24 hours:seafood,dairy,nuts, and chocolate\n",
      "True\n",
      "it is true that \"seafood,dairy,nuts, and chocolate\" contains \"dairy\"\n",
      "True\n",
      "True\n",
      "it is true that \"seafood,dairy,nuts, and chocolate\" contains \"seafood\"\n",
      "True\n",
      "it is true that \"seafood,dairy,nuts, and chocolate\" contains \"chocolate\"\n"
     ]
    }
   ],
   "source": [
    "input_test = input(\"Enter the food you have eaten in the last 24 hours:\").lower()#creates a variable called input_test\n",
    "print(\"dairy\" in input_test)#checks if dairy is contained in input_test\n",
    "print(\"it is true that\",'\"'+input_test+'\"','contains \"dairy\"')#prints out a conirmation message\n",
    "print(\"nuts\" in input_test)#checks if nuts is contained in input_test\n",
    "print(\"seafood\" in input_test)#checks if seafood is contained in input_test\n",
    "print(\"it is true that\",'\"'+input_test+'\"','contains \"seafood\"')#prints out a conirmation message\n",
    "print(\"chocolate\" in input_test)#checks if chocolate is contained in input_test\n",
    "print(\"it is true that\",'\"'+input_test+'\"','contains \"chocolate\"')#prints out a conirmation message"
   ]
  }
 ],
 "metadata": {
  "kernelspec": {
   "display_name": "Python 3",
   "language": "python",
   "name": "python3"
  },
  "language_info": {
   "codemirror_mode": {
    "name": "ipython",
    "version": 3
   },
   "file_extension": ".py",
   "mimetype": "text/x-python",
   "name": "python",
   "nbconvert_exporter": "python",
   "pygments_lexer": "ipython3",
   "version": "3.6.4"
  }
 },
 "nbformat": 4,
 "nbformat_minor": 2
}
