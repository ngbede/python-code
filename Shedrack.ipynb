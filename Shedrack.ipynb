{
 "cells": [
  {
   "cell_type": "code",
   "execution_count": 5,
   "metadata": {},
   "outputs": [
    {
     "name": "stdout",
     "output_type": "stream",
     "text": [
      "Welcome to \"Bro. Sule's\" restaurant\n",
      "\n",
      "\n",
      "We have the following delicasies: rice,beans,moi-moi,akara,meat,fish,swallow,egusi,\n",
      "What would you like to eat?: rice and fish\n",
      "here is your rice and fish\n"
     ]
    }
   ],
   "source": [
    "print(\"Welcome to \\\"Bro. Sule's\\\" restaurant\")\n",
    "print(\"\\n\")\n",
    "print(\"We have the following delicasies: rice,beans,moi-moi,akara,meat,fish,swallow,egusi,\")\n",
    "order = \"\"\n",
    "menu = \"rice,beans,moi-moi,akara,meat,fish,swallow,egusi\"\n",
    "order = input(\"What would you like to eat?: \")\n",
    "if \"moi-moi\" or \"rice\" in order.lower():\n",
    "    print(\"here is your fish\")\n",
    "elif \"fish\" and \"rice\" in order.lower():\n",
    "    print(\"here is your rice and fish\")\n",
    "else:\n",
    "    print(\"not around\")"
   ]
  },
  {
   "cell_type": "code",
   "execution_count": null,
   "metadata": {},
   "outputs": [],
   "source": []
  }
 ],
 "metadata": {
  "kernelspec": {
   "display_name": "Python 3",
   "language": "python",
   "name": "python3"
  },
  "language_info": {
   "codemirror_mode": {
    "name": "ipython",
    "version": 3
   },
   "file_extension": ".py",
   "mimetype": "text/x-python",
   "name": "python",
   "nbconvert_exporter": "python",
   "pygments_lexer": "ipython3",
   "version": "3.6.4"
  }
 },
 "nbformat": 4,
 "nbformat_minor": 2
}
