{
 "cells": [
  {
   "cell_type": "code",
   "execution_count": null,
   "metadata": {},
   "outputs": [],
   "source": [
    "student_name = input(\"enter name:\").capitalize() # collects user input and capitalizes it\n",
    "if student_name.startswith(\"F\"): # checks if user input begins with letter \"F\"\n",
    "    print(student_name,\"Congratulations, names starting with 'F' you get to go first today!\") # prints out reward message\n",
    "elif student_name.startswith(\"G\"): # checks if name starts with letter \"G\"\n",
    "    print(student_name,\"Congratulations, names starting with 'G' you get to go second today!\") # prints out reward message\n",
    "else: # runs when condition results to False\n",
    "    print(student_name,\"please wait for students with name starting with 'F' and 'G' go first\") # prints out consolation message"
   ]
  },
  {
   "cell_type": "code",
   "execution_count": 7,
   "metadata": {},
   "outputs": [
    {
     "name": "stdout",
     "output_type": "stream",
     "text": [
      "l\n",
      "g\n",
      "t\n"
     ]
    }
   ],
   "source": [
    "street_name = \"lightway\" # variable contains a string\n",
    "print(street_name[0]) # prints first letter\n",
    "print(street_name[2]) # prints third letter\n",
    "print(street_name[4]) # prints fifth letter"
   ]
  },
  {
   "cell_type": "code",
   "execution_count": 14,
   "metadata": {},
   "outputs": [
    {
     "name": "stdout",
     "output_type": "stream",
     "text": [
      "What is your name:giant man\n",
      "Congrats you are in the team\n"
     ]
    }
   ],
   "source": [
    "team_name = input(\"What is your name:\") # collects user input\n",
    "if team_name[0].lower() == \"i\": # checks if input starts with \"i\"\n",
    "    print(\"Congrats you are in the team\") # prints friendly message\n",
    "elif team_name[0].lower() == \"o\": # checks if user input starts with \"o\"\n",
    "    print(\"No worries we accept you\") # prints friendly message\n",
    "elif team_name[0].lower() == \"u\": # checks if name starts with \"u\"\n",
    "    print(\"Nice your chances are large\") # prints friendly message\n",
    "else: # runs when condition results to False\n",
    "    print(\"sorry you are not in the team\") # prints consolation message"
   ]
  },
  {
   "cell_type": "code",
   "execution_count": 16,
   "metadata": {},
   "outputs": [
    {
     "name": "stdout",
     "output_type": "stream",
     "text": [
      "o\n",
      "y\n",
      "e\n"
     ]
    }
   ],
   "source": [
    "student_name = \"bamigboye\" # variable contains a string\n",
    "print(student_name[-3]) # prints seventh letter\n",
    "print(student_name[-2]) # prints eighth letter\n",
    "print(student_name[-1]) # prints last letter"
   ]
  },
  {
   "cell_type": "code",
   "execution_count": 1,
   "metadata": {},
   "outputs": [
    {
     "name": "stdout",
     "output_type": "stream",
     "text": [
      "E\n",
      "l\n"
     ]
    }
   ],
   "source": [
    "first_name = \"Emmanuel\" # string stored in variable\n",
    "print(first_name[0]) # prints first letter\n",
    "print(first_name[-1]) # prints last letter"
   ]
  },
  {
   "cell_type": "code",
   "execution_count": 22,
   "metadata": {},
   "outputs": [
    {
     "name": "stdout",
     "output_type": "stream",
     "text": [
      "act\n",
      "tic\n"
     ]
    }
   ],
   "source": [
    "long_word = \"characteristics\" # variable contains string\n",
    "print(long_word[4:7]) # prints from fifth word to seventh word\n",
    "print(long_word[11:14]) # prints from twelfth word to fourteenth word"
   ]
  },
  {
   "cell_type": "code",
   "execution_count": 32,
   "metadata": {},
   "outputs": [
    {
     "name": "stdout",
     "output_type": "stream",
     "text": [
      "sequence\n",
      "Conseq\n",
      "There is no parking on \"C\" Or \"e\" streets\n",
      "uences\n"
     ]
    }
   ],
   "source": [
    "long = \"Consequences\" # variable contains a string\n",
    "print(long[3:11]) # prints from fourth letter to eleventh letter\n",
    "print(long[:6]) # prints from first letter too sixth letter\n",
    "print(\"There is no parking on\" + ' \"' + long[:1] + '\" ' \"Or\" + ' \"' + long[4] + '\"' + \" streets\" ) # prints out some information\n",
    "print(long[6:]) # prints second half"
   ]
  },
  {
   "cell_type": "code",
   "execution_count": 34,
   "metadata": {},
   "outputs": [
    {
     "name": "stdout",
     "output_type": "stream",
     "text": [
      "knowledegement\n",
      "koldgmn\n"
     ]
    }
   ],
   "source": [
    "high_word = \"Acknowledegement\" # variable contains a string\n",
    "print(high_word[2:]) # prints from third letter to the end\n",
    "print(high_word[2::2]) # prints from third letter while skiping a letter"
   ]
  },
  {
   "cell_type": "code",
   "execution_count": 42,
   "metadata": {},
   "outputs": [
    {
     "name": "stdout",
     "output_type": "stream",
     "text": [
      "desserts\n",
      "serts\n"
     ]
    }
   ],
   "source": [
    "word = \"stressed\" # variable contains a string\n",
    "print(word[::-1]) # prints string in reverse\n",
    "print(word[4::-1])# prints in reverse from fourth character to the end"
   ]
  },
  {
   "cell_type": "code",
   "execution_count": 2,
   "metadata": {},
   "outputs": [
    {
     "name": "stdout",
     "output_type": "stream",
     "text": [
      "char\n",
      "rahc\n",
      "scit\n"
     ]
    }
   ],
   "source": [
    "short = \"characteristics\" # variable contains a string\n",
    "print(short[:4]) # prints first four letters\n",
    "print(short[3::-1]) # prints from the end while skiping three steps\n",
    "print(short[-1:10:-1]) # prints last four characters"
   ]
  }
 ],
 "metadata": {
  "kernelspec": {
   "display_name": "Python 3",
   "language": "python",
   "name": "python3"
  },
  "language_info": {
   "codemirror_mode": {
    "name": "ipython",
    "version": 3
   },
   "file_extension": ".py",
   "mimetype": "text/x-python",
   "name": "python",
   "nbconvert_exporter": "python",
   "pygments_lexer": "ipython3",
   "version": "3.6.4"
  }
 },
 "nbformat": 4,
 "nbformat_minor": 2
}
