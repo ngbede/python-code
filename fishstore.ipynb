{
 "cells": [
  {
   "cell_type": "code",
   "execution_count": 2,
   "metadata": {},
   "outputs": [
    {
     "name": "stdout",
     "output_type": "stream",
     "text": [
      "type of fish:tuna\n",
      "price:4.5\n",
      "Fish type:tuna\n",
      "Costs:$4.5\n"
     ]
    }
   ],
   "source": [
    "def fishstore(fish_entry,price_entry): # creates function\n",
    "    fish_input = \"Fish type:\"+fish_entry+\"\\nCosts:$\"+price_entry # stores message in fish_input\n",
    "    return fish_input # returns fish_input\n",
    "fish_entry = input(\"type of fish:\") # collects user input\n",
    "price_entry = input(\"price:\") # collects user input\n",
    "print(fishstore(fish_entry,price_entry)) # pr"
   ]
  }
 ],
 "metadata": {
  "kernelspec": {
   "display_name": "Python 3",
   "language": "python",
   "name": "python3"
  },
  "language_info": {
   "codemirror_mode": {
    "name": "ipython",
    "version": 3
   },
   "file_extension": ".py",
   "mimetype": "text/x-python",
   "name": "python",
   "nbconvert_exporter": "python",
   "pygments_lexer": "ipython3",
   "version": "3.6.4"
  }
 },
 "nbformat": 4,
 "nbformat_minor": 2
}
