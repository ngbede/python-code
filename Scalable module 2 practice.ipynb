{
 "cells": [
  {
   "cell_type": "markdown",
   "metadata": {},
   "source": [
    "# [ ] Complete the following program to validate a user input is outside the ranges [-50, 0] and [100, 200]. \n",
    "# The range limits (-50, 0, 100, 200) are not valid inputs \n",
    "# Valid test inputs include: -55, 20, 99 \n",
    "# Invalid test inputs include: -30, 150 (and the range limts -50, 0, 100, 200) \n",
    "# User input x = input(\"Enter a number outside the ranges [-50, 0] and [100, 200]: \") \n",
    "# convert x to int x = int(x)\n",
    "# Test input validity"
   ]
  },
  {
   "cell_type": "code",
   "execution_count": 19,
   "metadata": {},
   "outputs": [
    {
     "name": "stdout",
     "output_type": "stream",
     "text": [
      "Enter an integer:18\n",
      "18 is within range\n"
     ]
    }
   ],
   "source": [
    "x = int(input(\"Enter an integer:\"))\n",
    "if ((x >= -50) and (x <= 0)):\n",
    "    print(x,\"is out of range\")\n",
    "elif ((x >= 100) and (x <= 200)):\n",
    "    print(x,\"is out of range\")\n",
    "else:\n",
    "    print(x,\"is within range\")"
   ]
  },
  {
   "cell_type": "markdown",
   "metadata": {},
   "source": [
    "## [ ] Repeat the previous task using a different conditional statement (solve it a different way) \n",
    "# Complete the following program to validate a user input is outside the ranges [-50, 0] and [100, 200]. \n",
    "# The range limits (-50, 0, 100, 200) are not valid inputs \n",
    "# User input x = input(\"Enter a number outside the ranges [-50, 0] and [100, 200]: \")\n",
    "# convert x to int x = int(x) \n",
    "# Test input validity"
   ]
  },
  {
   "cell_type": "code",
   "execution_count": 28,
   "metadata": {},
   "outputs": [
    {
     "name": "stdout",
     "output_type": "stream",
     "text": [
      "Enter an integer:18\n",
      "within range\n"
     ]
    }
   ],
   "source": [
    "x = int(input(\"Enter an integer:\"))\n",
    "if (not((x <= -50) or (x >= 0))):\n",
    "    print(x,\"is out of range\")\n",
    "elif (not((x <= 100) or (x >= 200))):\n",
    "    print(x,\"is out of range\")\n",
    "else:\n",
    "    print(\"within range\")"
   ]
  },
  {
   "cell_type": "markdown",
   "metadata": {},
   "source": [
    "# [ ] Complete the following program to validate a user input is *odd* and outside the ranges [-50, 0] and [100, 200]. \n",
    "# The range limits (-50, 0, 100, 200) are not valid inputs"
   ]
  },
  {
   "cell_type": "code",
   "execution_count": 36,
   "metadata": {},
   "outputs": [
    {
     "name": "stdout",
     "output_type": "stream",
     "text": [
      "Enter an integer:18\n",
      "18 is an even number and within range\n"
     ]
    }
   ],
   "source": [
    "x = int(input(\"Enter an integer:\"))\n",
    "if ((x >= -50) and (x <= 0)):\n",
    "    if (x % 2 != 0):\n",
    "        print(x,\"is an odd number and is out of range\")\n",
    "    else:\n",
    "        print(x,\"is an even number and within range\")\n",
    "elif ((x >= 100) and (x <= 200)):\n",
    "    if (x % 2 != 0):\n",
    "        print(x,\"is an odd number and is out of range\")\n",
    "    else:\n",
    "        print(x,\"is within range and is an even number\")\n",
    "else:\n",
    "    print(x,\"is an even number and within range\")"
   ]
  },
  {
   "cell_type": "markdown",
   "metadata": {},
   "source": [
    "# [ ] Complete the following program to validate a user input is divisible by 3 and \n",
    "# inside either the range [-75, -25] or the range [50, 75]\n",
    "# The range limit (75) is a valid input; whereas, (-50, -25, 50) are not (as they are not evenly divisible by 3) \n",
    "# Valid test inputs include: -33, -60, 63 \n",
    "# Invalid test inputs include: -6, 33 (out of range), -29, 55 (not evanly divisible by 3)"
   ]
  },
  {
   "cell_type": "code",
   "execution_count": 45,
   "metadata": {},
   "outputs": [
    {
     "name": "stdout",
     "output_type": "stream",
     "text": [
      "input an intger:55\n",
      "55 is not a factor of 3\n"
     ]
    }
   ],
   "source": [
    "x = int(input(\"input an intger:\"))\n",
    "if ((x >= -75) and (x <= -25)):\n",
    "    if (x % 3 == 0):\n",
    "        print(x,\"is within range and divisible by 3\")\n",
    "    else:\n",
    "        print(x,\"is not a factor of 3\")\n",
    "elif ((x >= 50) and (x <= 75)):\n",
    "    if (x % 3 == 0):\n",
    "        print(x,\"is within range and divisible by 3\")\n",
    "    else:\n",
    "        print(x,\"is not a factor of 3\")\n",
    "else:\n",
    "    print(x,\"is out of range\")"
   ]
  },
  {
   "cell_type": "code",
   "execution_count": 14,
   "metadata": {},
   "outputs": [],
   "source": [
    "def tax_owed(income):\n",
    "    x = float(income)\n",
    "    if ((x > 0) and (x <= 9325)):\n",
    "        y = x * (10/100)\n",
    "        print(\"Taxable income = $\",y)\n",
    "    elif ((x > 9325) and (x <= 37950)):\n",
    "        x -= 9325\n",
    "        y = x * (15/100)\n",
    "        tax = 932.5 + y\n",
    "        print(\"Taxable income = $\",tax)\n",
    "    elif ((x > 37950) and (x <= 91900)):\n",
    "        x -= 37950\n",
    "        y = x * (25/100)\n",
    "        tax = 5226.25 + y\n",
    "        print(\"Taxable income = $\",tax)\n",
    "    elif ((x > 91900) and (x <= 191650)):\n",
    "        x -= 91900\n",
    "        y = x * (28/100)\n",
    "        tax = 18713.75 + y\n",
    "        print(\"Taxable income = $\",tax)\n",
    "    elif ((x > 191650) and (x <= 416700)):\n",
    "        x -= 191650\n",
    "        y = x * (33/100)\n",
    "        tax = 46643.75 + y\n",
    "        print(\"Taxable income = $\",tax)\n",
    "    elif ((x > 416700) and (x <= 418400)):\n",
    "        x -= 416700\n",
    "        y = x * (35/100)\n",
    "        tax = 120910.25 + y\n",
    "        print(\"Taxable income = $\",tax)\n",
    "    elif (x > 418400):\n",
    "        x -= 418400\n",
    "        y = x * (38/100)\n",
    "        tax = 121505.25 + y\n",
    "        print(\"Taxable income = $\",tax)\n",
    "    else:\n",
    "        print(\"Sorry but $\",int(x),\"is not a valid income\")"
   ]
  },
  {
   "cell_type": "code",
   "execution_count": 15,
   "metadata": {},
   "outputs": [
    {
     "name": "stdout",
     "output_type": "stream",
     "text": [
      "The following program prints out the taxable income of the user.\n",
      "What is your income:0\n",
      "Sorry but $ 0 is not a valid income\n"
     ]
    }
   ],
   "source": [
    "print(\"The following program prints out the taxable income of the user.\")\n",
    "income = input(\"What is your income:\")\n",
    "tax_owed(income)"
   ]
  },
  {
   "cell_type": "markdown",
   "metadata": {},
   "source": [
    "# [ ] Write a program to prompt the user for an input from a predefined numerical list `valid_nums` \n",
    "# If the user input is invalid, the program prompts the user again for a valid input. \n",
    "# valid_nums = [1, 2, 8, 16, 32, 64]"
   ]
  },
  {
   "cell_type": "code",
   "execution_count": 6,
   "metadata": {},
   "outputs": [
    {
     "name": "stdout",
     "output_type": "stream",
     "text": [
      "Enter a valid number:3\n",
      "Enter a valid number:4\n",
      "Enter a valid number:5\n",
      "Enter a valid number:8\n",
      "8 is in the list\n"
     ]
    }
   ],
   "source": [
    "valid_nums = [1, 2, 8, 16, 32, 64]\n",
    "while True:\n",
    "    x = int(input(\"Enter a valid number:\"))\n",
    "    if (x in valid_nums):\n",
    "        print(x,\"is in the list\")\n",
    "        break"
   ]
  },
  {
   "cell_type": "markdown",
   "metadata": {},
   "source": [
    "# Employee records\n",
    "# [ ] The `records` list contains information about some company's employees \n",
    "# each of the elements in `records` is a list containing the name and ID of an employee. \n",
    "# Write a program that prompts the user for a name and return the ID of the employee if a record is found \n",
    "# records = [['Colette', 22347], ['Skye', 35803], ['Alton', 45825], ['Jin', 24213]]"
   ]
  },
  {
   "cell_type": "code",
   "execution_count": 15,
   "metadata": {},
   "outputs": [
    {
     "name": "stdout",
     "output_type": "stream",
     "text": [
      "What is your name:jf\n",
      "Your name is not on the employees list\n",
      "What is your name:skye\n",
      "Your ID is: 35803\n"
     ]
    }
   ],
   "source": [
    "records = [['Colette', 22347], ['Skye', 35803], ['Alton', 45825], ['Jin', 24213]]\n",
    "for name in records:\n",
    "    inp = input(\"What is your name:\")\n",
    "    if inp.title() in name[0]:\n",
    "        print(\"Your ID is:\",name[1])\n",
    "        break\n",
    "    else:\n",
    "        print(\"Your name is not on the employees list\")\n",
    "        break"
   ]
  },
  {
   "cell_type": "markdown",
   "metadata": {},
   "source": [
    "# Vowel counter\n",
    "# [ ] Complete the `vowel_counter` function below so it returns the number of vowels (a, e, i, o, u) in `sentence` \n",
    "# def vowel_counter(sentence):\n",
    "# \"\"\" Count the number of vowels (AEIOU) in sentence. \n",
    "# args: \n",
    "# sentence:\n",
    "# string containing vowels to be counted \n",
    "# returns: \n",
    "# Number of vowels in sentence\n",
    "# \"\"\" \n",
    "# TODO pass"
   ]
  },
  {
   "cell_type": "code",
   "execution_count": 20,
   "metadata": {},
   "outputs": [],
   "source": [
    "def vowel_counter(sentence):\n",
    "    lower = sentence.lower()\n",
    "    a = lower.count(\"a\")\n",
    "    b = lower.count(\"e\")\n",
    "    c = lower.count(\"i\")\n",
    "    d = lower.count(\"o\")\n",
    "    e = lower.count(\"u\")\n",
    "    total = a + b + c + d + e\n",
    "    return(\"The number of vowels = \",total)"
   ]
  },
  {
   "cell_type": "code",
   "execution_count": 22,
   "metadata": {},
   "outputs": [
    {
     "data": {
      "text/plain": [
       "('The number of vowels = ', 33)"
      ]
     },
     "execution_count": 22,
     "metadata": {},
     "output_type": "execute_result"
    }
   ],
   "source": [
    "strs = \"Hello my name is Emmanuel Sule, I am a student of MTU. I am currently in hundred level computer science\"\n",
    "vowel_counter(strs)"
   ]
  },
  {
   "cell_type": "markdown",
   "metadata": {},
   "source": [
    "# [ ] Complete the function `equal_or_identical` to test and print if the variables `x` and `y` are equal or identical\n",
    "# def equal_or_identical(x, y):\n",
    "# pass\n",
    "# TODO: test x and y for identity and equality \n",
    "# Test cases\n",
    "# equal & identical i1 = [5, 3] i2 = i1 print(\"i1, i2\") equal_or_identical(i1, i2) print() \n",
    "# equal but NOT identical e1 = [1, 2] e2 = [1, 2] print(\"e1, e2\") equal_or_identical(e1, e2) print()\n",
    "# NOT equal or identical v1 = [1, 2] v2 = [5, 3] print(\"v1, v2\") equal_or_identical(v1, v2)\n",
    "# Output should look like:\n",
    "# i1, i2\n",
    "# Variables are identical and equal \n",
    "# e1, e2 \n",
    "# Variables are equal but NOT identical \n",
    "# v1, v2 \n",
    "# Variables are neither identical nor equal"
   ]
  },
  {
   "cell_type": "code",
   "execution_count": 30,
   "metadata": {},
   "outputs": [],
   "source": [
    "def equal_or_identical(x,y):\n",
    "    if (x is y):\n",
    "        print(\"variables are equal and identical\")\n",
    "    elif (not(x is y) and (x == y)):\n",
    "        print(\"variables are equal but not identical\")\n",
    "    elif (((x is y) == False)) and x != y:\n",
    "        print(\"variables are neither equal nor identical\")"
   ]
  },
  {
   "cell_type": "code",
   "execution_count": 31,
   "metadata": {},
   "outputs": [
    {
     "name": "stdout",
     "output_type": "stream",
     "text": [
      "variables are equal and identical\n"
     ]
    }
   ],
   "source": [
    "i1 = [5, 3]\n",
    "i2 = i1 \n",
    "equal_or_identical(i1,i2)"
   ]
  },
  {
   "cell_type": "code",
   "execution_count": 33,
   "metadata": {},
   "outputs": [
    {
     "name": "stdout",
     "output_type": "stream",
     "text": [
      "variables are equal but not identical\n"
     ]
    }
   ],
   "source": [
    "e1 = [1, 2] \n",
    "e2 = [1, 2] \n",
    "equal_or_identical(e1,e2)"
   ]
  },
  {
   "cell_type": "code",
   "execution_count": 34,
   "metadata": {},
   "outputs": [
    {
     "name": "stdout",
     "output_type": "stream",
     "text": [
      "variables are neither equal nor identical\n"
     ]
    }
   ],
   "source": [
    "v1 = [1, 2] \n",
    "v2 = [5, 3]\n",
    "equal_or_identical(v1,v2)"
   ]
  },
  {
   "cell_type": "markdown",
   "metadata": {},
   "source": [
    "# [ ] Correct the following expression so the answer is `True`\n",
    "# x = 5 (10 < x < -10) == True\n",
    "# [ ] Correct the following expression so the answer is `False` \n",
    "# x = 5 y = -23\n",
    "# x > y or x + y > 0 == True \n",
    "# [ ] Correct the following expression so the answer is `True`\n",
    "# 2 ** 4 - 3 % 2 == 0"
   ]
  },
  {
   "cell_type": "code",
   "execution_count": 39,
   "metadata": {},
   "outputs": [
    {
     "data": {
      "text/plain": [
       "True"
      ]
     },
     "execution_count": 39,
     "metadata": {},
     "output_type": "execute_result"
    }
   ],
   "source": [
    "x = 5 \n",
    "(10 > x > -10) == True"
   ]
  },
  {
   "cell_type": "code",
   "execution_count": 41,
   "metadata": {},
   "outputs": [
    {
     "data": {
      "text/plain": [
       "False"
      ]
     },
     "execution_count": 41,
     "metadata": {},
     "output_type": "execute_result"
    }
   ],
   "source": [
    "x = 5 \n",
    "y = -23\n",
    "(x < y) or (x + y > 0) == True"
   ]
  },
  {
   "cell_type": "code",
   "execution_count": 42,
   "metadata": {},
   "outputs": [
    {
     "data": {
      "text/plain": [
       "True"
      ]
     },
     "execution_count": 42,
     "metadata": {},
     "output_type": "execute_result"
    }
   ],
   "source": [
    "(2 ** (4 - 3)) % 2 == 0"
   ]
  },
  {
   "cell_type": "markdown",
   "metadata": {},
   "source": [
    "# [ ] Write a program to display the transpose of `table`. \n",
    "# In other words, display the rows as columns and the columns as rows \n",
    "# the first row across will be: 5 4 9 7 \n",
    "# table = [[5, 2, 6], [4, 6, 0], [9, 1, 8], [7, 3, 8]] \n",
    "# [ ] Write a program to display the sum of each column in `table` \n",
    "# table = [[5, 2, 6], [4, 6, 0], [9, 1, 8], [7, 3, 8]] \n",
    "# [ ] Write a program to display the numbers in `table` as a single row (i.e. 1D list) \n",
    "# output: 5 2 6 4 6 0 9 1 8 7 3 8 \n",
    "# table = [[5, 2, 6], [4, 6, 0], [9, 1, 8], [7, 3, 8]]\n",
    "# [ ] Write a program to count the number of odd numbers in `table` \n",
    "# table = [[5, 2, 6], [4, 6, 0], [9, 1, 8], [7, 3, 8]]"
   ]
  },
  {
   "cell_type": "code",
   "execution_count": 13,
   "metadata": {},
   "outputs": [
    {
     "name": "stdout",
     "output_type": "stream",
     "text": [
      "5,2,6,4,6,0,9,1,8,7,3,8,"
     ]
    }
   ],
   "source": [
    "table = [[5, 2, 6], [4, 6, 0], [9, 1, 8], [7, 3, 8]]\n",
    "for row in table:\n",
    "    for col in row:\n",
    "        print(col,end = \",\")# displays the list in a single line"
   ]
  },
  {
   "cell_type": "code",
   "execution_count": 37,
   "metadata": {},
   "outputs": [
    {
     "name": "stdout",
     "output_type": "stream",
     "text": [
      "5,9,1,7,3,"
     ]
    }
   ],
   "source": [
    "table = [[5, 2, 6], [4, 6, 0], [9, 1, 8], [7, 3, 8]]\n",
    "for row in table:\n",
    "    for col in row:\n",
    "        if (col % 2 != 0):# checks for odd numbers \n",
    "            print(col, end = \",\")# prints out only the odd numbers"
   ]
  },
  {
   "cell_type": "code",
   "execution_count": null,
   "metadata": {},
   "outputs": [],
   "source": []
  }
 ],
 "metadata": {
  "kernelspec": {
   "display_name": "Python 3",
   "language": "python",
   "name": "python3"
  },
  "language_info": {
   "codemirror_mode": {
    "name": "ipython",
    "version": 3
   },
   "file_extension": ".py",
   "mimetype": "text/x-python",
   "name": "python",
   "nbconvert_exporter": "python",
   "pygments_lexer": "ipython3",
   "version": "3.6.4"
  }
 },
 "nbformat": 4,
 "nbformat_minor": 2
}
