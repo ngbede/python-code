{
 "cells": [
  {
   "cell_type": "code",
   "execution_count": null,
   "metadata": {},
   "outputs": [],
   "source": [
    "!curl https://raw.githubusercontent.com/MicrosoftLearning/intropython/master/cities.txt -o poem1.txt"
   ]
  },
  {
   "cell_type": "code",
   "execution_count": null,
   "metadata": {},
   "outputs": [],
   "source": [
    "cities_file = open(\"cities.txt\",\"r\")"
   ]
  },
  {
   "cell_type": "code",
   "execution_count": 1,
   "metadata": {},
   "outputs": [
    {
     "ename": "NameError",
     "evalue": "name 'cities_file' is not defined",
     "output_type": "error",
     "traceback": [
      "\u001b[1;31m---------------------------------------------------------------------------\u001b[0m",
      "\u001b[1;31mNameError\u001b[0m                                 Traceback (most recent call last)",
      "\u001b[1;32m<ipython-input-1-ffb18468c221>\u001b[0m in \u001b[0;36m<module>\u001b[1;34m()\u001b[0m\n\u001b[1;32m----> 1\u001b[1;33m \u001b[0mcities_file\u001b[0m\u001b[1;33m\u001b[0m\u001b[0m\n\u001b[0m",
      "\u001b[1;31mNameError\u001b[0m: name 'cities_file' is not defined"
     ]
    }
   ],
   "source": [
    "cities_file"
   ]
  },
  {
   "cell_type": "code",
   "execution_count": 2,
   "metadata": {},
   "outputs": [
    {
     "name": "stdout",
     "output_type": "stream",
     "text": [
      "Enter a poem:fh\n",
      "fh\n"
     ]
    }
   ],
   "source": [
    "def word_mixer(user_input):\n",
    "    words_list.sort()\n",
    "    while len(words_list) > 5:\n",
    "        pop_fifth = words_list.pop(-5)\n",
    "        new_list.append(pop_fifth)\n",
    "        new_list.append(\" \")\n",
    "        pop_first = words_list.pop(0)\n",
    "        new_list.append(pop_first)\n",
    "        new_list.append(\" \")\n",
    "        pop_last = words_list.pop(-1)\n",
    "        new_list.append(pop_last)\n",
    "        new_list.append(\" \")\n",
    "        new_list.append(\"\\n\")\n",
    "        return new_list\n",
    "user_input = input(\"Enter a poem:\")\n",
    "new_list = []\n",
    "words_list = user_input.split()\n",
    "length = len(words_list)\n",
    "for word in range(0,length):\n",
    "    word_mixer(words_list)\n",
    "    if len(words_list[word]) <= 5:\n",
    "        words_list[word] = words_list[word].lower()\n",
    "        print(words_list[word])\n",
    "    elif len(words_list[word]) >= 6:\n",
    "        words_list[word] = words_list[word].upper()\n",
    "        print(words_list[word])"
   ]
  },
  {
   "cell_type": "code",
   "execution_count": 4,
   "metadata": {
    "scrolled": true
   },
   "outputs": [
    {
     "ename": "NameError",
     "evalue": "name 'cities_file' is not defined",
     "output_type": "error",
     "traceback": [
      "\u001b[1;31m---------------------------------------------------------------------------\u001b[0m",
      "\u001b[1;31mNameError\u001b[0m                                 Traceback (most recent call last)",
      "\u001b[1;32m<ipython-input-4-1951f53a17c6>\u001b[0m in \u001b[0;36m<module>\u001b[1;34m()\u001b[0m\n\u001b[1;32m----> 1\u001b[1;33m \u001b[0mnew_hello\u001b[0m \u001b[1;33m=\u001b[0m \u001b[0mcities_file\u001b[0m\u001b[1;33m.\u001b[0m\u001b[0mread\u001b[0m\u001b[1;33m(\u001b[0m\u001b[1;33m)\u001b[0m\u001b[1;33m\u001b[0m\u001b[0m\n\u001b[0m\u001b[0;32m      2\u001b[0m \u001b[0mprint\u001b[0m\u001b[1;33m(\u001b[0m\u001b[0mnew_hello\u001b[0m\u001b[1;33m)\u001b[0m\u001b[1;33m\u001b[0m\u001b[0m\n",
      "\u001b[1;31mNameError\u001b[0m: name 'cities_file' is not defined"
     ]
    }
   ],
   "source": [
    "new_hello = cities_file.read()\n",
    "print(new_hello)"
   ]
  },
  {
   "cell_type": "code",
   "execution_count": 5,
   "metadata": {},
   "outputs": [
    {
     "ename": "SyntaxError",
     "evalue": "invalid syntax (<ipython-input-5-b9b03ff51537>, line 1)",
     "output_type": "error",
     "traceback": [
      "\u001b[1;36m  File \u001b[1;32m\"<ipython-input-5-b9b03ff51537>\"\u001b[1;36m, line \u001b[1;32m1\u001b[0m\n\u001b[1;33m    .readlines() is used to make a file oppen as a list\u001b[0m\n\u001b[1;37m    ^\u001b[0m\n\u001b[1;31mSyntaxError\u001b[0m\u001b[1;31m:\u001b[0m invalid syntax\n"
     ]
    }
   ],
   "source": [
    ".readlines() is used to make a file oppen as a list"
   ]
  },
  {
   "cell_type": "code",
   "execution_count": null,
   "metadata": {},
   "outputs": [],
   "source": [
    "how to remove new line in .readlines(): we use line[:-1]\n",
    "    we use .close() to close a file\n",
    "    .readline() is used to read a line\n",
    "    .strip removes any white space\n",
    "    "
   ]
  }
 ],
 "metadata": {
  "kernelspec": {
   "display_name": "Python 3",
   "language": "python",
   "name": "python3"
  },
  "language_info": {
   "codemirror_mode": {
    "name": "ipython",
    "version": 3
   },
   "file_extension": ".py",
   "mimetype": "text/x-python",
   "name": "python",
   "nbconvert_exporter": "python",
   "pygments_lexer": "ipython3",
   "version": "3.6.4"
  }
 },
 "nbformat": 4,
 "nbformat_minor": 2
}
