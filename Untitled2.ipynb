{
 "cells": [
  {
   "cell_type": "code",
   "execution_count": 8,
   "metadata": {},
   "outputs": [
    {
     "name": "stdout",
     "output_type": "stream",
     "text": [
      "Enter an integer or \"Q\"(to quit)q\n",
      "Total\n",
      " 0\n"
     ]
    }
   ],
   "source": [
    "def adding_report(arg = \"T\"):\n",
    "    total = 0 \n",
    "    item = \"\"\n",
    "    while True:\n",
    "        value = input(\"Enter an integer or \\\"Q\\\"(to quit)\")\n",
    "        if value.isdigit():\n",
    "            total += int(value)\n",
    "            if \"A\" in arg.upper():\n",
    "                item += \"\\n\" + value \n",
    "        elif value.startswith(\"q\"):\n",
    "            if \"A\" in arg.upper():\n",
    "                print(\"Items\", item, \"\\nTotal\\n\", total)\n",
    "            else:\n",
    "                print(\"Total\\n\",total)\n",
    "            break\n",
    "        else:\n",
    "            print(\"Invalid input\")\n",
    "adding_report()"
   ]
  },
  {
   "cell_type": "code",
   "execution_count": 9,
   "metadata": {},
   "outputs": [
    {
     "name": "stdout",
     "output_type": "stream",
     "text": [
      "Enter an integer or \"Q\"(to quit)w\n",
      "Invalid input\n",
      "Enter an integer or \"Q\"(to quit)e\n",
      "Invalid input\n",
      "Enter an integer or \"Q\"(to quit)1\n",
      "Enter an integer or \"Q\"(to quit)2\n",
      "Enter an integer or \"Q\"(to quit)q\n",
      "Total\n",
      " 3\n"
     ]
    }
   ],
   "source": [
    "def adding_report(arg = \"T\"):\n",
    "    total = 0 \n",
    "    item = \"\"\n",
    "    while True:\n",
    "        value = input(\"Enter an integer or \\\"Q\\\"(to quit)\")\n",
    "        if value.isdigit():\n",
    "            total += int(value)\n",
    "            if \"A\" in arg.upper():\n",
    "                item += \"\\n\" + value \n",
    "        elif value.startswith(\"q\"):\n",
    "            if \"A\" in arg.upper():\n",
    "                print(\"Items\", item, \"\\nTotal\\n\", total)\n",
    "            if \"T\" in arg.upper():\n",
    "                print(\"Total\\n\",total)\n",
    "            break\n",
    "        else:\n",
    "            print(\"Invalid input\")\n",
    "adding_report()"
   ]
  }
 ],
 "metadata": {
  "kernelspec": {
   "display_name": "Python 3",
   "language": "python",
   "name": "python3"
  },
  "language_info": {
   "codemirror_mode": {
    "name": "ipython",
    "version": 3
   },
   "file_extension": ".py",
   "mimetype": "text/x-python",
   "name": "python",
   "nbconvert_exporter": "python",
   "pygments_lexer": "ipython3",
   "version": "3.6.4"
  }
 },
 "nbformat": 4,
 "nbformat_minor": 2
}
