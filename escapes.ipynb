{
 "cells": [
  {
   "cell_type": "code",
   "execution_count": 5,
   "metadata": {},
   "outputs": [
    {
     "name": "stdout",
     "output_type": "stream",
     "text": [
      "\"\\\\\\WARNING!///\"\n"
     ]
    }
   ],
   "source": [
    "print(\"\\\"\\\\\\\\\\\\WARNING!///\\\"\") # prints warning with three back slashes"
   ]
  },
  {
   "cell_type": "code",
   "execution_count": 6,
   "metadata": {},
   "outputs": [
    {
     "name": "stdout",
     "output_type": "stream",
     "text": [
      "\"What's that?\" isn't a specific question.\n"
     ]
    }
   ],
   "source": [
    "print(\"\\\"What\\'s that?\\\" isn\\'t a specific question.\") # prints message with various quotation marks"
   ]
  },
  {
   "cell_type": "code",
   "execution_count": 7,
   "metadata": {},
   "outputs": [
    {
     "name": "stdout",
     "output_type": "stream",
     "text": [
      "one\ttwo\tthree\n",
      "four\tfive\tsix\n"
     ]
    }
   ],
   "source": [
    "print(\"one\\ttwo\\tthree\\nfour\\tfive\\tsix\") # prints out info on new lines with tab spaces"
   ]
  },
  {
   "cell_type": "code",
   "execution_count": 8,
   "metadata": {},
   "outputs": [
    {
     "name": "stdout",
     "output_type": "stream",
     "text": [
      "Enter a word starting with\"pre\":PRESIDENT\n",
      "pre word\n"
     ]
    }
   ],
   "source": [
    "def pre_word(arg_1 = \"False\"): # creates a function\n",
    "    return arg_1.startswith(\"pre\") # returns a boolean string test\n",
    "call = input(\"Enter a word starting with\\\"pre\\\":\").lower() # sollects user input and makes lower case\n",
    "if pre_word(call) == True: # if statement checks if input is True\n",
    "    print(\"pre word\") # runs when True\n",
    "elif pre_word(call) == False: # elif \n",
    "    print(\"not a \\\"pre\\\" word\") # runs when True\n",
    "else: # else\n",
    "    pass # just pass"
   ]
  },
  {
   "cell_type": "code",
   "execution_count": 9,
   "metadata": {},
   "outputs": [
    {
     "name": "stdout",
     "output_type": "stream",
     "text": [
      "input any name:\n",
      "input any name:\n",
      "input any name:\n",
      "input any name:\n",
      "input any name:\n",
      "input any name:\n",
      "input any name:hddfhf\n",
      "Welcome! \"Hddfhf\"\n"
     ]
    }
   ],
   "source": [
    "while True: # forever loop\n",
    "    familiar_name = input(\"input any name:\") # runs unless user inputs a value\n",
    "    if familiar_name.isalpha() == True: # if satetment\n",
    "        break # breaks out of loop\n",
    "print('Welcome!'+' \"'+familiar_name.title()+'\"') # prints welcome message"
   ]
  },
  {
   "cell_type": "code",
   "execution_count": 26,
   "metadata": {},
   "outputs": [
    {
     "name": "stdout",
     "output_type": "stream",
     "text": [
      "\n",
      "1\n"
     ]
    }
   ],
   "source": [
    "x = \"\" # empty string\n",
    "print(x) # prints x\n",
    "y = x + \"1\" # adds to 1\n",
    "print(y) # prints y"
   ]
  },
  {
   "cell_type": "code",
   "execution_count": null,
   "metadata": {},
   "outputs": [],
   "source": []
  }
 ],
 "metadata": {
  "kernelspec": {
   "display_name": "Python 3",
   "language": "python",
   "name": "python3"
  },
  "language_info": {
   "codemirror_mode": {
    "name": "ipython",
    "version": 3
   },
   "file_extension": ".py",
   "mimetype": "text/x-python",
   "name": "python",
   "nbconvert_exporter": "python",
   "pygments_lexer": "ipython3",
   "version": "3.6.4"
  }
 },
 "nbformat": 4,
 "nbformat_minor": 2
}
