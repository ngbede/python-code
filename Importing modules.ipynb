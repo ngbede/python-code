{
 "cells": [
  {
   "cell_type": "code",
   "execution_count": 8,
   "metadata": {},
   "outputs": [
    {
     "name": "stdout",
     "output_type": "stream",
     "text": [
      "Enter a positive integer:8\n",
      "Enter a positive integer:8\n"
     ]
    },
    {
     "data": {
      "text/plain": [
       "8.0"
      ]
     },
     "execution_count": 8,
     "metadata": {},
     "output_type": "execute_result"
    }
   ],
   "source": [
    "x = int(input(\"Enter a positive integer:\"))# collects user input\n",
    "y = int(input(\"Enter a positive integer:\"))# collects user input\n",
    "import math # imports th math module\n",
    "math.copysign(x,y)"
   ]
  },
  {
   "cell_type": "code",
   "execution_count": 423,
   "metadata": {},
   "outputs": [],
   "source": [
    "def is_even(n):# creates a function\n",
    "    if n % 2 == 0:# checks if the arguement is an even number\n",
    "        print(n,\"is an even number\")# returns this message if the arguement is an even number\n",
    "    else:# or else\n",
    "        print(n,\"is an odd number\")# it prints a message telling us it is an odd number\n",
    "    return"
   ]
  },
  {
   "cell_type": "code",
   "execution_count": 425,
   "metadata": {},
   "outputs": [
    {
     "name": "stdout",
     "output_type": "stream",
     "text": [
      "Enter a positive integer:74839\n",
      "74839 is an odd number\n"
     ]
    }
   ],
   "source": [
    "user = int(input(\"Enter a positive integer:\"))# collects user input\n",
    "is_even(user)# checks if the input is an even number"
   ]
  },
  {
   "cell_type": "code",
   "execution_count": 43,
   "metadata": {},
   "outputs": [
    {
     "name": "stdout",
     "output_type": "stream",
     "text": [
      "25 is an odd number\n",
      "square root of 34 = 5.830951894845301\n",
      "193 is an odd number\n",
      "square root of 2 = 1.4142135623730951\n",
      "81 is an odd number\n",
      "square root of 26 = 5.0990195135927845\n",
      "square root of 44 = 6.6332495807108\n",
      "square root of 16 = 4.0\n"
     ]
    }
   ],
   "source": [
    "def is_even(n):# this is a function\n",
    "    return n % 2 == 0 # it checks if the input is an odd number\n",
    "from math import sqrt # it imports the math module \n",
    "numbers = [25,34,193,2,81,26,44,16] # list of positive whole numbers\n",
    "for number in numbers: # it iterates through the list\n",
    "    if is_even(number): # checks if the numbers in the list are even numbers\n",
    "        hello = sqrt(number) # if the numbers are even it finds the square root of the numbers\n",
    "        print(\"square root of\",number,\"=\",hello) # it prints the square root of the even numbers \n",
    "    else: # or else\n",
    "        print(number,\"is an odd number\") # it prints a message telling us the number in the list is an odd number"
   ]
  },
  {
   "cell_type": "code",
   "execution_count": 29,
   "metadata": {},
   "outputs": [
    {
     "data": {
      "text/plain": [
       "10.0"
      ]
     },
     "execution_count": 29,
     "metadata": {},
     "output_type": "execute_result"
    }
   ],
   "source": [
    "(4 + 16) / 2 # use of parenthesis to order our code"
   ]
  },
  {
   "cell_type": "code",
   "execution_count": 32,
   "metadata": {},
   "outputs": [
    {
     "data": {
      "text/plain": [
       "250"
      ]
     },
     "execution_count": 32,
     "metadata": {},
     "output_type": "execute_result"
    }
   ],
   "source": [
    "2 * (3 + 2) ** 3 # use of parenthesis to order our code"
   ]
  },
  {
   "cell_type": "code",
   "execution_count": 33,
   "metadata": {},
   "outputs": [
    {
     "data": {
      "text/plain": [
       "125"
      ]
     },
     "execution_count": 33,
     "metadata": {},
     "output_type": "execute_result"
    }
   ],
   "source": [
    "5 ** 3 # what is 5 raised to the power of 3?"
   ]
  },
  {
   "cell_type": "code",
   "execution_count": 35,
   "metadata": {},
   "outputs": [
    {
     "name": "stdout",
     "output_type": "stream",
     "text": [
      "75\n",
      "76\n"
     ]
    }
   ],
   "source": [
    "import math # imports the math module\n",
    "x = 75.34 # value of x\n",
    "y = math.floor(x) # Floor operation which rounds the number downward\n",
    "print(y) # prints the new value of y\n",
    "hi = math.ceil(x) # rounds the number uoowards\n",
    "print(hi) # prints the new result of hi"
   ]
  },
  {
   "cell_type": "code",
   "execution_count": 42,
   "metadata": {},
   "outputs": [
    {
     "name": "stdout",
     "output_type": "stream",
     "text": [
      "Total: 870 $\n"
     ]
    }
   ],
   "source": [
    "p = 4.35 # value of p\n",
    "q = 200 # value of q\n",
    "multiply = p * q # multiplies p with q\n",
    "from math import ceil # imports the ceil function from the math module\n",
    "total = ceil(multiply) # ceil function rounds the number upwards\n",
    "print(\"Total:\",total,\"$\") # prints the result of usiing the ceil function"
   ]
  },
  {
   "cell_type": "code",
   "execution_count": 47,
   "metadata": {},
   "outputs": [
    {
     "name": "stdout",
     "output_type": "stream",
     "text": [
      "(1, 6)\n"
     ]
    }
   ],
   "source": [
    "from random import randrange # imports the randrange function from random\n",
    "def die_roller(): # creates a new function\n",
    "    return (randrange(1,7),randrange(1,7)) # returns this result\n",
    "print(die_roller()) # prints out a random output from the die roller"
   ]
  },
  {
   "cell_type": "code",
   "execution_count": 206,
   "metadata": {},
   "outputs": [
    {
     "data": {
      "text/plain": [
       "82"
      ]
     },
     "execution_count": 206,
     "metadata": {},
     "output_type": "execute_result"
    }
   ],
   "source": [
    "from random import randint # imports randit function from random\n",
    "def random_number(): # creates a function\n",
    "    return (randint(1,102)) # returns integers ranging from 1 through 102\n",
    "random_number() # prints out a random number"
   ]
  },
  {
   "cell_type": "code",
   "execution_count": 21,
   "metadata": {},
   "outputs": [
    {
     "data": {
      "text/plain": [
       "(3, 'of', 'Clubs')"
      ]
     },
     "execution_count": 21,
     "metadata": {},
     "output_type": "execute_result"
    }
   ],
   "source": [
    "from random import choice # we import the choice function from the random module\n",
    "def pick_card(): # creates a function called pick_card\n",
    "    card_type = ['Diamonds','Clubs','Hearts','Spades'] # a list containing various card types\n",
    "    card_number = ['Ace',2,3,4,5,6,7,8,9,10,'Jack','Queen','King'] # a list containing various card numbers\n",
    "    n = choice(card_type) # picks a random card type\n",
    "    t = choice(card_number) # picks a rando card number\n",
    "    return(t,\"of\",n) # returns a message\n",
    "pick_card() # calls the function"
   ]
  },
  {
   "cell_type": "code",
   "execution_count": 37,
   "metadata": {},
   "outputs": [
    {
     "name": "stdout",
     "output_type": "stream",
     "text": [
      "Below are the most visited cities in the United States of America:\n",
      " New York,Los Angeles,Chicago,Houston,Phoenix,Philadelphia,San Antonio,San Diego,San Dallas,Jose\n",
      "I recommend you to visit Philadelphia it is a very nice place\n"
     ]
    }
   ],
   "source": [
    "from random import choice # imports the choice function from random module\n",
    "cities = [\"New York\",\"Los Angeles\",\"Chicago\",\"Houston\",\"Phoenix\",\"Philadelphia\",\"San Antonio\",\"San Diego\",\"San Dallas\",\"Jose\"] # list of some cities in Ameerica\n",
    "print(\"Below are the most visited cities in the United States of America:\\n\",\",\".join(cities)) # converts the list to a string\n",
    "recommendation = choice(cities) # picks a city at random from the string\n",
    "print(\"I recommend you to visit\",recommendation,\"it is a very nice place\") # prints out the recommended city you should visit"
   ]
  },
  {
   "cell_type": "code",
   "execution_count": 420,
   "metadata": {},
   "outputs": [
    {
     "data": {
      "text/plain": [
       "0.1111111111111111"
      ]
     },
     "execution_count": 420,
     "metadata": {},
     "output_type": "execute_result"
    }
   ],
   "source": [
    "1 / 9 # divides 1 by 9"
   ]
  },
  {
   "cell_type": "markdown",
   "metadata": {},
   "source": []
  }
 ],
 "metadata": {
  "kernelspec": {
   "display_name": "Python 3",
   "language": "python",
   "name": "python3"
  },
  "language_info": {
   "codemirror_mode": {
    "name": "ipython",
    "version": 3
   },
   "file_extension": ".py",
   "mimetype": "text/x-python",
   "name": "python",
   "nbconvert_exporter": "python",
   "pygments_lexer": "ipython3",
   "version": "3.6.4"
  }
 },
 "nbformat": 4,
 "nbformat_minor": 2
}
