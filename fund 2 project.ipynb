{
 "cells": [
  {
   "cell_type": "code",
   "execution_count": 1,
   "metadata": {},
   "outputs": [
    {
     "name": "stdout",
     "output_type": "stream",
     "text": [
      "say something:emmanuel\n",
      "These are the Chelsea players: ['hazard', 'kante', 'caballero', 'azpiliqueta', 'willian', 'alonso', 'moses', 'christensen', 'rudiger', 'fabregas', 'morata', 'emmanuel']\n"
     ]
    }
   ],
   "source": [
    "def list_o_matic(y): # creates a function\n",
    "    players = [\"hazard\",\"kante\",\"caballero\",\"azpiliqueta\",\"willian\",\"alonso\",\"moses\",\"christensen\",\"rudiger\",\"fabregas\",\"morata\"] # list of chelsea players\n",
    "    if y == \"\": # if statement\n",
    "        players.pop() # pops last item from list\n",
    "        x = print(\"These are the Chelsea players:\",players) # prints updated list\n",
    "        return x # returns variable x\n",
    "    else: # else i.e when False\n",
    "        if y.lower() in players: # if y is in list of players\n",
    "            players.remove(y) # removes y from the list\n",
    "            a = print(\"These are the Chelsea players:\",players) # prints updated list\n",
    "            return a # returns a \n",
    "        else: # else i.e when False\n",
    "            players.append(y) # adds y to the list of players\n",
    "            b = print(\"These are the Chelsea players:\",players) # prints updated list\n",
    "            return b # returns b\n",
    "players = [\"hazard\",\"kante\",\"caballero\",\"azpiliqueta\",\"willian\",\"alonso\",\"moses\",\"christensen\",\"rudiger\",\"fabregas\",\"morata\"] # list of players\n",
    "if players == []: # checks if players is an empty string\n",
    "    pass # pass\n",
    "else: # when False \n",
    "    y = input(\"say something:\") # collects user input\n",
    "    if y.lower() == \"quit\": # if user input equal to quit\n",
    "        pass # pass\n",
    "    else: # when False\n",
    "        list_o_matic(y)"
   ]
  }
 ],
 "metadata": {
  "kernelspec": {
   "display_name": "Python 3",
   "language": "python",
   "name": "python3"
  },
  "language_info": {
   "codemirror_mode": {
    "name": "ipython",
    "version": 3
   },
   "file_extension": ".py",
   "mimetype": "text/x-python",
   "name": "python",
   "nbconvert_exporter": "python",
   "pygments_lexer": "ipython3",
   "version": "3.6.4"
  }
 },
 "nbformat": 4,
 "nbformat_minor": 2
}
