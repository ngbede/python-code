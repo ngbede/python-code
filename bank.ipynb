{
 "cells": [
  {
   "cell_type": "code",
   "execution_count": 1,
   "metadata": {},
   "outputs": [],
   "source": [
    "dollars = 999999999999999999999999999999999999999999999999999999999999999999999999999999999999999999999999999999999999999999999\n",
    "def pin(pword):\n",
    "    users = {2000:\"sule\",1999:\"nonso\",1998:\"leke\",1994:\"jibola\"}\n",
    "    if pword in users:\n",
    "        print(\"Welcome\",users[pword].upper())\n",
    "    else:\n",
    "        print(\"INVALID PASSWORD\")\n",
    "def home_page(hey=\"hi\"):\n",
    "    print(\"WELCOME TO SULE BANK!\")\n",
    "    print(\"___________________________________\")\n",
    "    inq = \"6. INQUIRY\"\n",
    "    wit = \"2. WITHDRAWAL\"\n",
    "    tra = \"1. TRANSFER\"\n",
    "    pin = \"4. CHANGE PIN\"\n",
    "    mob = \"3. RECHARGE PHONE\"\n",
    "    can = \"5. CANCEL\"\n",
    "    print(\"{:<20s}{:^20s}\\n\".format(tra,wit))\n",
    "    print(\"{:<20s}{:^20s}\\n\".format(mob,pin))\n",
    "    print(\"{:<20s}{:^17s}\\n\".format(can,inq))\n",
    "def yes_no():\n",
    "    print(\"DO YOU WANT TO PERFORM ANOTHER TRANSACTION\\n\")\n",
    "    print(\"1. YES\\n2. NO\")\n",
    "    rep = int(input(\"?\"))\n",
    "    if rep == 1:\n",
    "        home_page()\n",
    "    else:\n",
    "        print(\"THANK YOU FOR BANKING WITH US\")\n",
    "def transfer():\n",
    "    try:\n",
    "        acc_num = input(\"ACCOUNT NUMBER:\")\n",
    "        if len(acc_num) != 10:\n",
    "            print(\"INVALID ACCOUNT NUMBER\")\n",
    "        else:\n",
    "            bank_lst = {1:\"GT BANK\",2:\"UBA\",3:\"FIRST BANK OF NIGERIA\",4:\"DIAMOND BANK\",5:\"SKYE BANK\",6:\"WEMA BANK\",7:\"ECO BANK\",\n",
    "                        8:\"ACCESS BANK\",9:\"ZENITH BANK\",10:\"STANDARD CHARTARD BANK\"}\n",
    "            gt = \"1. GT BANK\"\n",
    "            ub = \"2. UBA\"\n",
    "            fb = \"3. FIRST BANK OF NIGERIA\"\n",
    "            dm = \"4. DIAMOND BANK\"\n",
    "            sk = \"5. SKYE BANK\"\n",
    "            wm = \"6. WEMA BANK\"\n",
    "            ec = \"7. ECO BANK\"\n",
    "            ac = \"8. ACCESS BANK\"\n",
    "            zn = \"9. ZENITH BANK\"\n",
    "            sb = \"10. STANDARD CHARTARD BANK\"\n",
    "            print(\"{:<20s}{:^20s}\\n\".format(gt,ub))\n",
    "            print(\"{:<20s}{:^22s}\\n\".format(fb,dm))\n",
    "            print(\"{:<20s}{:^27s}\\n\".format(sk,wm))\n",
    "            print(\"{:<20s}{:^29s}\\n\".format(ec,ac))\n",
    "            print(\"{:<20s}{:^40s}\\n\".format(zn,sb))\n",
    "            bank = int(input(\"BANK NAME:\"))\n",
    "            if (bank > 10) or (bank < 1):\n",
    "                print(\"INPUT IS OUT OF RANGE\")\n",
    "            else:\n",
    "                if bank in bank_lst:\n",
    "                    print(\"OKAY\")\n",
    "                    amount = int(input(\"AMOUNT:\"))\n",
    "                    if (amount) > 10000:\n",
    "                        print(\"Sorry but you are not allowed to withdraw such an amount fom this bank\")\n",
    "                    elif amount < 1000:\n",
    "                        print(\"Sorry but you can't withdraw below 1000 dollars from this bank\")\n",
    "                    else:\n",
    "                        print(\"TRANSACTION COMPLETE\")\n",
    "                        yes_no()\n",
    "                else:\n",
    "                    pass\n",
    "    except ValueError:\n",
    "        print(\"INVALID INPUT\")\n",
    "def recharge(y):\n",
    "    print(\"List of Phone Networks\")\n",
    "    g = \"GLO\"\n",
    "    m = \"MTN\"\n",
    "    e = \"ETISALAT\"\n",
    "    a = \"AIRTEL\"\n",
    "    print(\"1. {:s}\".format(g))\n",
    "    print(\"2. {:s}\".format(m))\n",
    "    print(\"3. {:s}\".format(e))\n",
    "    print(\"4. {:s}\".format(a))\n",
    "    try:\n",
    "        vendor = int(input(\"CODE:\"))\n",
    "    except ValueError:\n",
    "        print(\"Invalid Input\")\n",
    "    if vendor == 1:\n",
    "        print(\"Welcome dear GLO custumer\")\n",
    "        gn = int(input(\"PHONE NUMBER:\"))\n",
    "        if len(gn) != 11:\n",
    "            print(\"Invalid phone number\")\n",
    "        else:\n",
    "            int(input(\"AMOUNT\"))\n",
    "def amount(value):\n",
    "    acc_bal = {\"Sule\":99999999999,\"Zuckerberg\":89000000000,\"Enoch\":78000000000,\"Ore\":77000000000,\"Bill\":95000000000,\n",
    "               \"Nonso\":67000000000,\"AJibola\":88000000000,\"Dangote\":80000000000,\"Pichai\":98000000000}\n",
    "def chpin(hey):\n",
    "    pr = int(input(\"OLD PIN:\"))\n",
    "    nw = int(input(\"NEW PIN:\"))\n",
    "    cf = int((input(\"CONFIRM PIN\")))\n",
    "    if pr not in pin(pword):\n",
    "        print(\"INVALID INPUT\")\n",
    "    elif (nw != cf):\n",
    "        print(\"Your new password does not match.\")\n",
    "    else:\n",
    "        print(\"PASSWORD CHANGED\")"
   ]
  },
  {
   "cell_type": "code",
   "execution_count": 25,
   "metadata": {},
   "outputs": [
    {
     "name": "stdout",
     "output_type": "stream",
     "text": [
      "WELCOME TO SULE BANK!\n",
      "___________________________________\n",
      "1. TRANSFER            2. WITHDRAWAL    \n",
      "\n",
      "3. RECHARGE PHONE      4. CHANGE PIN    \n",
      "\n",
      "5. CANCEL              6. INQUIRY    \n",
      "\n",
      "What next:1\n",
      "ACCOUNT NUMBER:3122740496\n",
      "1. GT BANK                 2. UBA       \n",
      "\n",
      "3. FIRST BANK OF NIGERIA   4. DIAMOND BANK    \n",
      "\n",
      "5. SKYE BANK               6. WEMA BANK        \n",
      "\n",
      "7. ECO BANK                8. ACCESS BANK        \n",
      "\n",
      "9. ZENITH BANK             10. STANDARD CHARTARD BANK       \n",
      "\n",
      "BANK NAME:8\n",
      "OKAY\n",
      "AMOUNT:7899\n",
      "TRANSACTION COMPLETE\n",
      "DO YOU WANT TO PERFORM ANOTHER TRANSACTION\n",
      "\n",
      "1. YES\n",
      "2. NO\n",
      "?1\n",
      "WELCOME TO SULE BANK!\n",
      "___________________________________\n",
      "1. TRANSFER            2. WITHDRAWAL    \n",
      "\n",
      "3. RECHARGE PHONE      4. CHANGE PIN    \n",
      "\n",
      "5. CANCEL              6. INQUIRY    \n",
      "\n"
     ]
    }
   ],
   "source": [
    "x = int(input('What next:'))\n",
    "home_page(x)\n",
    "if x == 1:\n",
    "    transfer()\n",
    "elif x == 2:\n",
    "    pass\n",
    "elif x == 3:\n",
    "    recharge(x)\n",
    "elif x == 4:\n",
    "    chpin(x)\n",
    "elif x == 5:\n",
    "    pass\n",
    "elif x == 6:\n",
    "    pass\n",
    "else:\n",
    "    print(\"INVALID INPUT\")"
   ]
  },
  {
   "cell_type": "code",
   "execution_count": 71,
   "metadata": {},
   "outputs": [
    {
     "name": "stdout",
     "output_type": "stream",
     "text": [
      "Welcome SULE\n"
     ]
    }
   ],
   "source": [
    "pin(2000)"
   ]
  },
  {
   "cell_type": "markdown",
   "metadata": {},
   "source": [
    "##### "
   ]
  },
  {
   "cell_type": "code",
   "execution_count": 6,
   "metadata": {},
   "outputs": [
    {
     "name": "stdout",
     "output_type": "stream",
     "text": [
      "WELCOME TO SULE BANK!\n",
      "___________________________________\n",
      "1. TRANSFER            2. WITHDRAWAL    \n",
      "\n",
      "3. RECHARGE PHONE      4. CHANGE PIN    \n",
      "\n",
      "5. CANCEL              6. INQUIRY    \n",
      "\n",
      "WHAT NEXT1\n"
     ]
    }
   ],
   "source": [
    "home_page()\n"
   ]
  }
 ],
 "metadata": {
  "kernelspec": {
   "display_name": "Python 3",
   "language": "python",
   "name": "python3"
  },
  "language_info": {
   "codemirror_mode": {
    "name": "ipython",
    "version": 3
   },
   "file_extension": ".py",
   "mimetype": "text/x-python",
   "name": "python",
   "nbconvert_exporter": "python",
   "pygments_lexer": "ipython3",
   "version": "3.6.5"
  }
 },
 "nbformat": 4,
 "nbformat_minor": 2
}
