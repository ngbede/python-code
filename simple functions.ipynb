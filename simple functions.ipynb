{
 "cells": [
  {
   "cell_type": "code",
   "execution_count": 1,
   "metadata": {},
   "outputs": [
    {
     "name": "stdout",
     "output_type": "stream",
     "text": [
      "what is it:hello\n",
      "HELLO\n"
     ]
    }
   ],
   "source": [
    "def say_this(talk): # creates a function with 1 arguement\n",
    "    print(talk.upper()) # converts to uppercase\n",
    "x = say_this(input(\"what is it:\")) # arguements collects input and calls\n"
   ]
  },
  {
   "cell_type": "code",
   "execution_count": 14,
   "metadata": {},
   "outputs": [
    {
     "name": "stdout",
     "output_type": "stream",
     "text": [
      "Say something:hello\n",
      "hello!\n"
     ]
    }
   ],
   "source": [
    "def hello(hi): # functions contains 1 arguement\n",
    "    x = hi + '!' # appends exclamation mark to arguement\n",
    "    return x # returns x\n",
    "ho = hello(input(\"Say something:\")) # collects input in arguement\n",
    "print(ho) # calls function"
   ]
  },
  {
   "cell_type": "code",
   "execution_count": null,
   "metadata": {},
   "outputs": [],
   "source": []
  }
 ],
 "metadata": {
  "kernelspec": {
   "display_name": "Python 3",
   "language": "python",
   "name": "python3"
  },
  "language_info": {
   "codemirror_mode": {
    "name": "ipython",
    "version": 3
   },
   "file_extension": ".py",
   "mimetype": "text/x-python",
   "name": "python",
   "nbconvert_exporter": "python",
   "pygments_lexer": "ipython3",
   "version": "3.6.4"
  }
 },
 "nbformat": 4,
 "nbformat_minor": 2
}
