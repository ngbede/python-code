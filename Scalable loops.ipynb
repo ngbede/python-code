{
 "cells": [
  {
   "cell_type": "markdown",
   "metadata": {},
   "source": [
    "# [ ] The following program tests if `num` is prime or not, use a `break` statement to improve its efficiency\n",
    "# and reduce the number of necessary iterations \n",
    "# Compare the number of necessary iterations with and without the `break` statement \n",
    "# Use the following numbers for the comparison: num = 45345 \n",
    "# num = 11579 \n",
    "# num = 948240 \n",
    "# num = 128093 \n",
    "# num = 519937 \n",
    "# num = 694394"
   ]
  },
  {
   "cell_type": "code",
   "execution_count": null,
   "metadata": {},
   "outputs": [],
   "source": [
    "num = int(input(\"Enter a number to test if it is prime number:\"))\n",
    "prime = True\n",
    "iteration_count = 0\n",
    "for i in range(2,num):\n",
    "    if num % i == 0:\n",
    "        prime = False\n",
    "        break\n",
    "    iteration_count = iteration_count + 1\n",
    "if prime:\n",
    "    print(num,\"is a prime number\")\n",
    "else:\n",
    "    print(num,\"is not a prime number\")\n",
    "print(\"iteration count =\",iteration_count)"
   ]
  },
  {
   "cell_type": "markdown",
   "metadata": {},
   "source": [
    "# [ ] Write a program to prompt the user for an odd number; use an infinite loop and a `break` statement."
   ]
  },
  {
   "cell_type": "code",
   "execution_count": null,
   "metadata": {},
   "outputs": [],
   "source": [
    "while True:\n",
    "    x = int(input(\"Enter a number:\"))\n",
    "    if (x % 2 != 0):\n",
    "        print(x,\"Is an odd number\")\n",
    "    if x % 2 == 0:\n",
    "        print(x,\"is an even number\")"
   ]
  },
  {
   "cell_type": "markdown",
   "metadata": {},
   "source": [
    "# [ ] Modify the following program to display numbers that are divisible by 7 along with their square roots. \n",
    "# HINT: Use a `continue` statement in the loop"
   ]
  },
  {
   "cell_type": "code",
   "execution_count": null,
   "metadata": {},
   "outputs": [],
   "source": [
    "from math import sqrt\n",
    "for num in range(1,100):\n",
    "    if (num % 7 == 0):\n",
    "        print(num,\"=\",sqrt(num))\n",
    "        continue"
   ]
  },
  {
   "cell_type": "code",
   "execution_count": 1,
   "metadata": {},
   "outputs": [
    {
     "name": "stdout",
     "output_type": "stream",
     "text": [
      "5\t2\t6\t\n",
      "4\t6\t0\t\n",
      "9\t1\t8\t\n",
      "7\t3\t8\t\n"
     ]
    }
   ],
   "source": [
    "table = [[5, 2, 6], [4, 6, 0], [9, 1, 8], [7, 3, 8]]\n",
    "for row in table:\n",
    "    for col in row: # print the value col followed by a tab\n",
    "        print(col, end = \"\\t\") # Print a new line \n",
    "    print()"
   ]
  },
  {
   "cell_type": "code",
   "execution_count": null,
   "metadata": {},
   "outputs": [],
   "source": [
    "def char_art(steps): \n",
    "    for row in range(steps): \n",
    "        for col in range(steps): \n",
    "            if(col <= row): \n",
    "                print(\"[]\", end = \"\") \n",
    "        print()\n",
    "char_art(9000)"
   ]
  },
  {
   "cell_type": "markdown",
   "metadata": {},
   "source": [
    "# [ ] Write a program to display the sum of each row in table \n",
    "# table = [[5, 2, 6], [4, 6, 0], [9, 1, 8], [7, 3, 8]]"
   ]
  },
  {
   "cell_type": "code",
   "execution_count": 1,
   "metadata": {},
   "outputs": [
    {
     "name": "stdout",
     "output_type": "stream",
     "text": [
      "5\t2\t6\t\n",
      "4\t6\t0\t\n",
      "9\t1\t8\t\n",
      "7\t3\t8\t\n"
     ]
    }
   ],
   "source": [
    "table = [[5, 2, 6], [4, 6, 0], [9, 1, 8], [7, 3, 8]]\n",
    "for row in table:\n",
    "    for col in row:\n",
    "        print(col, end = \"\\t\")\n",
    "    print()"
   ]
  },
  {
   "cell_type": "markdown",
   "metadata": {},
   "source": [
    "# [ ] Complete the function `generate_star` so it displays a star of variable `size` using \"*\"\n",
    "# For size = 5 the star should look like: \n",
    "# * *\n",
    "# * * \n",
    "#  *\n",
    "# * *\n",
    "# * * \n",
    "# def generate_star(size):\n",
    "# TODO\n",
    "# pass \n",
    "# Display star \n",
    "# generate_star(5)"
   ]
  },
  {
   "cell_type": "code",
   "execution_count": null,
   "metadata": {},
   "outputs": [],
   "source": [
    "def generate_star(number):\n",
    "    for row in range(number):\n",
    "        for col in range(number):\n",
    "            if (col <= row):\n",
    "                print(\"*\", end = \"\")\n",
    "        print()"
   ]
  },
  {
   "cell_type": "code",
   "execution_count": null,
   "metadata": {},
   "outputs": [],
   "source": [
    "generate_star(5)"
   ]
  },
  {
   "cell_type": "markdown",
   "metadata": {},
   "source": [
    "# [ ] Complete the following program to count the number of even positive numbers, odd negative numbers, and zeros in `lst` \n",
    "# lst = [9, 0, -2, -4, -5, 2, -15, 6, -65, -7]"
   ]
  },
  {
   "cell_type": "code",
   "execution_count": null,
   "metadata": {},
   "outputs": [],
   "source": [
    "lst = [9,0,-2,-4,-5,2,-15,6,-65,-7]\n",
    "even_pos = 0\n",
    "odd_negative = 0\n",
    "zero = 0\n",
    "for num in lst:\n",
    "    if ((num > 0) and (num % 2 == 0)):\n",
    "        even_pos = even_pos +  1\n",
    "    elif (num == 0):\n",
    "        zero = zero + 1\n",
    "    elif ((num < 0) and (num % 2 != 0)):\n",
    "        odd_negative = odd_negative + 1\n",
    "print(\"Postive Even numbers =\",even_pos)\n",
    "print(\"Odd negative numbers =\",odd_negative)\n",
    "print(\"Zero's =\",zero)"
   ]
  },
  {
   "cell_type": "markdown",
   "metadata": {},
   "source": [
    "# [ ] Write a program to count the number of punctuation marks (. , ? ! ' \" : ;) in `s` s = \n",
    "# \"Once you eliminate the impossible, whatever remains, no matter how improbable, must be the truth.\"\n",
    "# Sherlock Holmes (by Sir Arthur Conan Doyle, 1859-1930)"
   ]
  },
  {
   "cell_type": "code",
   "execution_count": null,
   "metadata": {},
   "outputs": [],
   "source": [
    "s = \"Once you eliminate the impossible, whatever remains, no matter how improbable, must be the truth.\"\n",
    "y = s.count(\",\")\n",
    "x = s.count(\".\")\n",
    "total = y + x\n",
    "print(\"Total number of exclamation marks:\",total)"
   ]
  },
  {
   "cell_type": "markdown",
   "metadata": {},
   "source": [
    "# [ ] Write a program to prompt the user for an odd positive number; use an infinite loop and a `break` statement."
   ]
  },
  {
   "cell_type": "code",
   "execution_count": 6,
   "metadata": {},
   "outputs": [
    {
     "name": "stdout",
     "output_type": "stream",
     "text": [
      "Enter an odd positive number:\n"
     ]
    },
    {
     "ename": "ValueError",
     "evalue": "invalid literal for int() with base 10: ''",
     "output_type": "error",
     "traceback": [
      "\u001b[1;31m---------------------------------------------------------------------------\u001b[0m",
      "\u001b[1;31mValueError\u001b[0m                                Traceback (most recent call last)",
      "\u001b[1;32m<ipython-input-6-a280a3150bfc>\u001b[0m in \u001b[0;36m<module>\u001b[1;34m()\u001b[0m\n\u001b[0;32m      1\u001b[0m \u001b[1;32mwhile\u001b[0m \u001b[1;32mTrue\u001b[0m\u001b[1;33m:\u001b[0m\u001b[1;33m\u001b[0m\u001b[0m\n\u001b[0;32m      2\u001b[0m     \u001b[0mx\u001b[0m \u001b[1;33m=\u001b[0m \u001b[0minput\u001b[0m\u001b[1;33m(\u001b[0m\u001b[1;34m\"Enter an odd positive number:\"\u001b[0m\u001b[1;33m)\u001b[0m\u001b[1;33m\u001b[0m\u001b[0m\n\u001b[1;32m----> 3\u001b[1;33m     \u001b[1;32mif\u001b[0m \u001b[1;33m(\u001b[0m\u001b[1;33m(\u001b[0m\u001b[0mint\u001b[0m\u001b[1;33m(\u001b[0m\u001b[0mx\u001b[0m\u001b[1;33m)\u001b[0m \u001b[1;33m>\u001b[0m \u001b[1;36m0\u001b[0m\u001b[1;33m)\u001b[0m \u001b[1;32mand\u001b[0m \u001b[1;33m(\u001b[0m\u001b[0mint\u001b[0m\u001b[1;33m(\u001b[0m\u001b[0mx\u001b[0m\u001b[1;33m)\u001b[0m \u001b[1;33m%\u001b[0m \u001b[1;36m2\u001b[0m \u001b[1;33m!=\u001b[0m \u001b[1;36m0\u001b[0m\u001b[1;33m)\u001b[0m\u001b[1;33m)\u001b[0m\u001b[1;33m:\u001b[0m\u001b[1;33m\u001b[0m\u001b[0m\n\u001b[0m\u001b[0;32m      4\u001b[0m         \u001b[0mprint\u001b[0m\u001b[1;33m(\u001b[0m\u001b[0mx\u001b[0m\u001b[1;33m,\u001b[0m\u001b[1;34m\"is an odd positive number.\"\u001b[0m\u001b[1;33m)\u001b[0m\u001b[1;33m\u001b[0m\u001b[0m\n\u001b[0;32m      5\u001b[0m         \u001b[1;32mbreak\u001b[0m\u001b[1;33m\u001b[0m\u001b[0m\n",
      "\u001b[1;31mValueError\u001b[0m: invalid literal for int() with base 10: ''"
     ]
    }
   ],
   "source": [
    "while True:\n",
    "    x = input(\"Enter an odd positive number:\")\n",
    "    if ((int(x) > 0) and (int(x) % 2 != 0)):\n",
    "        print(x,\"is an odd positive number.\")\n",
    "        break"
   ]
  },
  {
   "cell_type": "markdown",
   "metadata": {},
   "source": [
    "# [ ] Write a program to prompt the user for an integer input between 0 and 100 \n",
    "# then print if the number is contained in `lst` \n",
    "# lst = [22, 89, 69, 78, 58, 22, 56, 13, 74, 8, 32, 58, 8, 63, 46, 79, 9, 38, 25, 96]"
   ]
  },
  {
   "cell_type": "code",
   "execution_count": 11,
   "metadata": {},
   "outputs": [
    {
     "name": "stdout",
     "output_type": "stream",
     "text": [
      "Enter a number within the range of 1 to 100:89\n",
      "89 is in the list of numbers\n"
     ]
    }
   ],
   "source": [
    "lst = [22, 89, 69, 78, 58, 22, 56, 13, 74, 8, 32, 58, 8, 63, 46, 79, 9, 38, 25, 96]\n",
    "while True:\n",
    "    x = int(input(\"Enter a number within the range of 1 to 100:\"))\n",
    "    if (x in lst):\n",
    "        print(x,\"is in the list of numbers\")\n",
    "        break\n",
    "    elif ((x > 100) or (x < 0)):\n",
    "        print(x,\"is out of range!\")\n",
    "    else:\n",
    "        print(x,\"is not on the list\")"
   ]
  },
  {
   "cell_type": "markdown",
   "metadata": {},
   "source": [
    "# [ ] The `records` list contains information about a company's employees \n",
    "# each of the elements in `records` is a list containing the name and ID of an employee. \n",
    "# Write a program to test if `applicant` is contained in `records` and display an appropriate message \n",
    "# Records of names and IDs records = [['Colette', 22347], ['Skye', 35803], ['Alton', 45825], ['Jin', 24213]] \n",
    "# applicant = ['Joana', 20294]"
   ]
  },
  {
   "cell_type": "code",
   "execution_count": 9,
   "metadata": {},
   "outputs": [
    {
     "name": "stdout",
     "output_type": "stream",
     "text": [
      "What is your name: skye\n",
      "What is your id number: 35805\n",
      "Welcome Skye\n"
     ]
    }
   ],
   "source": [
    "records_id = [[\"Colette\",22347],[\"Skye\",35805],[\"Alton\",45825],[\"Jin\",24213],[\"Sule\",17010]]\n",
    "empty = []\n",
    "applicant_name = input(\"What is your name: \")\n",
    "empty.append(applicant_name.title())\n",
    "applicant_id = int(input(\"What is your id number: \"))\n",
    "empty.append(applicant_id)\n",
    "if (empty in records_id):\n",
    "    print(\"Welcome\",empty[0])\n",
    "else:\n",
    "    print(\"Sorry but you are not an employee of these company\")"
   ]
  },
  {
   "cell_type": "markdown",
   "metadata": {},
   "source": [
    "# [ ] Write a program to prompt the user for a letter (capital or small) then print if the number is a vowel \n",
    "# HINT: Use a string containing all the vowels and the `in` or `not in` operator"
   ]
  },
  {
   "cell_type": "code",
   "execution_count": 28,
   "metadata": {},
   "outputs": [
    {
     "name": "stdout",
     "output_type": "stream",
     "text": [
      "Enter an alphabet:ant\n",
      "ant is neither a cosonant nor a vowel\n"
     ]
    }
   ],
   "source": [
    "consonants = [\"b\",\"c\",\"d\",\"f\",\"g\",\"h\",\"j\",\"k\",\"l\",\"m\",\"n\",\"p\",\"q\",\"r\",\"s\",\"t\",\"v\",\"w\",\"x\",\"y\",\"z\"]\n",
    "vowels = [\"a\",\"e\",\"i\",\"o\",\"u\"]\n",
    "x = input(\"Enter an alphabet:\")\n",
    "if x.lower() in vowels:\n",
    "    print(x,\"is a vowel word\")\n",
    "elif x.lower() in consonants:\n",
    "    print(x,\"is a consonant word\")\n",
    "elif (x.lower() not in consonants and vowels):\n",
    "    print(x,\"is neither a cosonant nor a vowel\")"
   ]
  },
  {
   "cell_type": "markdown",
   "metadata": {},
   "source": [
    "# [ ] Write a program to:\n",
    "# 1) Create a variable `e` that is equal but NOT identical to `s`\n",
    "# 2) Test the equality and identity of `s` and `e` and print the results \n",
    "# 3) Create a variable `i` that is equal and identical to `s` \n",
    "# 4) Test the equality and identity of `s` and `i` and print the results \n",
    "# 5) Test the equality and identity of `e` and `i` and print the results \n",
    "# s = \"Whole Wheat Bread\" \n",
    "# TODO Identity"
   ]
  },
  {
   "cell_type": "code",
   "execution_count": 32,
   "metadata": {},
   "outputs": [
    {
     "name": "stdout",
     "output_type": "stream",
     "text": [
      "i = s is: True\n",
      "i is identical to s: True\n",
      "e = i is: True\n",
      "e is identical to i: False\n"
     ]
    }
   ],
   "source": [
    "s = \"Whole Wheat Bread\"\n",
    "e = \"Whole Wheat Bread\"\n",
    "s = i\n",
    "print(\"i = s is:\", i == s)\n",
    "print(\"i is identical to s:\", i is s)\n",
    "print(\"e = i is:\", e == i)\n",
    "print(\"e is identical to i:\", e is i)"
   ]
  },
  {
   "cell_type": "markdown",
   "metadata": {},
   "source": [
    "# [ ] Write a program to: \n",
    "# 1) Create a variable `e` that is equal but NOT identical to `x` \n",
    "# 2) Test the equality and identity of `x` and `e` and print the results \n",
    "# 3) Create a variable `i` that is equal and identical to `x` \n",
    "# 4) Test the equality and identity of `x` and `i` and print the results\n",
    "# 5) Test the equality and identity of `e` and `i` and print the results \n",
    "# x = [[-1, 2],[3, 4],[-5, 6]] \n",
    "# TODO"
   ]
  },
  {
   "cell_type": "markdown",
   "metadata": {},
   "source": [
    "# [ ] Correct the following expression so the answer is `True` \n",
    "# 6 + 2 < 9 == True\n",
    "# [ ] Correct the following expression so the answer is `True`\n",
    "# 3 ** 2 + 1 >= 3 * 8 + 1 \n",
    "# [ ] Correct the following expression so the answer is `True` \n",
    "# 5 + 3 * 2 == 16 \n",
    "# [ ] Correct the following expression so the answer is `True`\n",
    "# 4 > 3 and 5 + 6 > 7 == True"
   ]
  },
  {
   "cell_type": "code",
   "execution_count": 39,
   "metadata": {},
   "outputs": [
    {
     "name": "stdout",
     "output_type": "stream",
     "text": [
      "True\n",
      "True\n",
      "True\n",
      "True\n"
     ]
    }
   ],
   "source": [
    "print(((6 + 2) < 9) == True)\n",
    "print(3 ** (2 + 1) >= (3 * 8) + 1)\n",
    "print((5 + 3) * 2 == 16) \n",
    "print((4 > 3 and (5 + 6) > 7) == True)"
   ]
  }
 ],
 "metadata": {
  "kernelspec": {
   "display_name": "Python 3",
   "language": "python",
   "name": "python3"
  },
  "language_info": {
   "codemirror_mode": {
    "name": "ipython",
    "version": 3
   },
   "file_extension": ".py",
   "mimetype": "text/x-python",
   "name": "python",
   "nbconvert_exporter": "python",
   "pygments_lexer": "ipython3",
   "version": "3.6.4"
  }
 },
 "nbformat": 4,
 "nbformat_minor": 2
}
