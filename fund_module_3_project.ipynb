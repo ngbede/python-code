{
 "cells": [
  {
   "cell_type": "code",
   "execution_count": 1,
   "metadata": {},
   "outputs": [
    {
     "name": "stdout",
     "output_type": "stream",
     "text": [
      "Enter a poem:h\n"
     ]
    }
   ],
   "source": [
    "def word_mixer(words_list):\n",
    "    words_list.sort()\n",
    "    new_words = []\n",
    "    while len(words_list) > 5:\n",
    "        words_list.pop(-5)\n",
    "        new_words.append(words_list)\n",
    "        words_list.pop(0)\n",
    "        new_words.append(words_list)\n",
    "        words_list.pop(-1)\n",
    "        new_words.append(words_list)\n",
    "        return new_words\n",
    "user_input = input(\"Enter a poem:\")\n",
    "words_list = user_input.split()\n",
    "length = len(words_list)\n",
    "for new_words in range(0,length):\n",
    "    if len(words_list[new_words]) <= 5:\n",
    "        words_list[new_words].lower()\n",
    "    elif len(words_list[new_words]) >= 6:\n",
    "        words_list[new_words].upper()\n",
    "    else:\n",
    "        pass\n",
    "word_mixer(words_list)"
   ]
  },
  {
   "cell_type": "code",
   "execution_count": 2,
   "metadata": {},
   "outputs": [
    {
     "name": "stdout",
     "output_type": "stream",
     "text": [
      "what is your name?sule \n",
      "how old are old are you?18\n",
      "Hello sule  you have 52 years until your retirement\n"
     ]
    }
   ],
   "source": [
    "user_input = input(\"what is your name?\")\n",
    "retire_age = 70\n",
    "your_age = int(input(\"how old are old are you?\"))\n",
    "req = 70 - your_age\n",
    "print(\"Hello\",user_input,\"you have\",req,\"years until your retirement\")"
   ]
  },
  {
   "cell_type": "code",
   "execution_count": 6,
   "metadata": {},
   "outputs": [
    {
     "name": "stdout",
     "output_type": "stream",
     "text": [
      "say something::hello my name is Emmanuel Sule I am a good boy\n"
     ]
    },
    {
     "ename": "AttributeError",
     "evalue": "'int' object has no attribute 'sort'",
     "output_type": "error",
     "traceback": [
      "\u001b[1;31m---------------------------------------------------------------------------\u001b[0m",
      "\u001b[1;31mAttributeError\u001b[0m                            Traceback (most recent call last)",
      "\u001b[1;32m<ipython-input-6-02c1877a27a0>\u001b[0m in \u001b[0;36m<module>\u001b[1;34m()\u001b[0m\n\u001b[0;32m     14\u001b[0m     \u001b[1;32melse\u001b[0m\u001b[1;33m:\u001b[0m\u001b[1;33m\u001b[0m\u001b[0m\n\u001b[0;32m     15\u001b[0m         \u001b[1;32mreturn\u001b[0m\u001b[1;33m(\u001b[0m\u001b[0mnew_words\u001b[0m\u001b[1;33m)\u001b[0m\u001b[1;33m\u001b[0m\u001b[0m\n\u001b[1;32m---> 16\u001b[1;33m \u001b[0mword_mixer\u001b[0m\u001b[1;33m(\u001b[0m\u001b[0ml\u001b[0m\u001b[1;33m)\u001b[0m\u001b[1;33m\u001b[0m\u001b[0m\n\u001b[0m",
      "\u001b[1;32m<ipython-input-6-02c1877a27a0>\u001b[0m in \u001b[0;36mword_mixer\u001b[1;34m(word_list)\u001b[0m\n\u001b[0;32m      3\u001b[0m \u001b[0ml\u001b[0m \u001b[1;33m=\u001b[0m \u001b[0mlen\u001b[0m\u001b[1;33m(\u001b[0m\u001b[0msplit\u001b[0m\u001b[1;33m)\u001b[0m\u001b[1;33m\u001b[0m\u001b[0m\n\u001b[0;32m      4\u001b[0m \u001b[1;32mdef\u001b[0m \u001b[0mword_mixer\u001b[0m\u001b[1;33m(\u001b[0m\u001b[0mword_list\u001b[0m\u001b[1;33m)\u001b[0m\u001b[1;33m:\u001b[0m\u001b[1;33m\u001b[0m\u001b[0m\n\u001b[1;32m----> 5\u001b[1;33m     \u001b[0mword_list\u001b[0m\u001b[1;33m.\u001b[0m\u001b[0msort\u001b[0m\u001b[1;33m(\u001b[0m\u001b[1;33m)\u001b[0m\u001b[1;33m\u001b[0m\u001b[0m\n\u001b[0m\u001b[0;32m      6\u001b[0m     \u001b[0mnew_words\u001b[0m \u001b[1;33m=\u001b[0m \u001b[1;33m[\u001b[0m\u001b[1;33m]\u001b[0m\u001b[1;33m\u001b[0m\u001b[0m\n\u001b[0;32m      7\u001b[0m     \u001b[1;32mif\u001b[0m \u001b[0mword_list\u001b[0m \u001b[1;33m>\u001b[0m \u001b[1;36m5\u001b[0m\u001b[1;33m:\u001b[0m\u001b[1;33m\u001b[0m\u001b[0m\n",
      "\u001b[1;31mAttributeError\u001b[0m: 'int' object has no attribute 'sort'"
     ]
    }
   ],
   "source": [
    "word_input = input(\"say something:\")\n",
    "split = word_input.split()\n",
    "l = len(split)\n",
    "def word_mixer(word_list):\n",
    "    word_list.sort()\n",
    "    new_words = []\n",
    "    if word_list > 5:\n",
    "        word_list.pop(-5)\n",
    "        new_words.append(word_list)\n",
    "        word_list.pop(0)\n",
    "        new_words.append(word_list)\n",
    "        word_list.pop(-1)\n",
    "        new_words.append(word_list)\n",
    "    else:\n",
    "        return(new_words)\n",
    "word_mixer(l)"
   ]
  }
 ],
 "metadata": {
  "kernelspec": {
   "display_name": "Python 3",
   "language": "python",
   "name": "python3"
  },
  "language_info": {
   "codemirror_mode": {
    "name": "ipython",
    "version": 3
   },
   "file_extension": ".py",
   "mimetype": "text/x-python",
   "name": "python",
   "nbconvert_exporter": "python",
   "pygments_lexer": "ipython3",
   "version": "3.6.4"
  }
 },
 "nbformat": 4,
 "nbformat_minor": 2
}
