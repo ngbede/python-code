{
 "cells": [
  {
   "cell_type": "code",
   "execution_count": 3,
   "metadata": {},
   "outputs": [
    {
     "name": "stdout",
     "output_type": "stream",
     "text": [
      "What is your offer:56\n",
      "PAY:$2.8000000000000003\n"
     ]
    }
   ],
   "source": [
    "maximum_value = 89 # sets max value to 89\n",
    "minimum_value = 45 # sets min value to 45\n",
    "order_amount = input(\"What is your offer:\") # collects user input\n",
    "price = int(order_amount) * 0.05 # converts order_amount to dollars\n",
    "if int(order_amount) > maximum_value: # checks if user input is higher than maximum value\n",
    "    print(\"Sorry your offer is too high\") # prints message when user offer is too high\n",
    "elif int(order_amount) < minimum_value: # checks if user offer is lower than minimum value\n",
    "    print(\"Sorry your offer is too low\") # prints message if offer being low results to True\n",
    "else: # if above statements evaluate to False\n",
    "    print(\"PAY:$\"+str(price)) # prints out price of item"
   ]
  },
  {
   "cell_type": "code",
   "execution_count": null,
   "metadata": {},
   "outputs": [],
   "source": []
  }
 ],
 "metadata": {
  "kernelspec": {
   "display_name": "Python 3",
   "language": "python",
   "name": "python3"
  },
  "language_info": {
   "codemirror_mode": {
    "name": "ipython",
    "version": 3
   },
   "file_extension": ".py",
   "mimetype": "text/x-python",
   "name": "python",
   "nbconvert_exporter": "python",
   "pygments_lexer": "ipython3",
   "version": "3.6.4"
  }
 },
 "nbformat": 4,
 "nbformat_minor": 2
}
