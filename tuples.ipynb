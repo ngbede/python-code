{
 "cells": [
  {
   "cell_type": "code",
   "execution_count": 2,
   "metadata": {},
   "outputs": [
    {
     "name": "stdout",
     "output_type": "stream",
     "text": [
      "(5, [4.4, 5.3], 'something', (9, 0))\n"
     ]
    }
   ],
   "source": [
    "x = 5\n",
    "l = [4.4, 5.3] \n",
    "s = \"something\" \n",
    "t = (9, 0)\n",
    "tup = (x,l,s,t)\n",
    "print(tup)"
   ]
  },
  {
   "cell_type": "code",
   "execution_count": 4,
   "metadata": {},
   "outputs": [
    {
     "name": "stdout",
     "output_type": "stream",
     "text": [
      "([43.6, 34], [49, 59], [59, 20.4], [39, 49])\n"
     ]
    }
   ],
   "source": [
    "T = ([43.6, 34], [49, 59], [50, 34.6], [39, 49])\n",
    "T[2][0:] = [59,20.4]\n",
    "print(T)"
   ]
  },
  {
   "cell_type": "code",
   "execution_count": 1,
   "metadata": {},
   "outputs": [
    {
     "name": "stdout",
     "output_type": "stream",
     "text": [
      "(5, 4, 3, 9, 2, 12)\n"
     ]
    }
   ],
   "source": [
    "T1 = (5, 4, 3) \n",
    "T2 = (9, 2, 12)\n",
    "new = T1 + T2\n",
    "print(new)"
   ]
  },
  {
   "cell_type": "code",
   "execution_count": 14,
   "metadata": {},
   "outputs": [
    {
     "name": "stdout",
     "output_type": "stream",
     "text": [
      "(5, 4, 3)\n",
      "(9, 2, 12)\n"
     ]
    }
   ],
   "source": [
    "T = (5, 4, 3, 9, 2, 12)# a tuple containing integers\n",
    "T1 = T[0:3]# prints first half of T\n",
    "T2 = T[3:]# prints second half of T\n",
    "print(T1)# prints T1\n",
    "print(T2)# prints T2"
   ]
  },
  {
   "cell_type": "code",
   "execution_count": 16,
   "metadata": {},
   "outputs": [
    {
     "name": "stdout",
     "output_type": "stream",
     "text": [
      "x = 5\n",
      "l = [3, 5.3]\n",
      "s = something\n",
      "t =  (9, 0)\n"
     ]
    }
   ],
   "source": [
    "T = (5, [3, 5.3], 'something', (9, 0))\n",
    "x,l,s,t = T[0],T[1],T[2],T[3]\n",
    "print(\"x =\",x)\n",
    "print(\"l =\",l)\n",
    "print(\"s =\",s)\n",
    "print(\"t = \",t)"
   ]
  },
  {
   "cell_type": "code",
   "execution_count": 28,
   "metadata": {},
   "outputs": [],
   "source": [
    "def current_date(): # creating a function\n",
    "    from datetime import datetime # importing the datetime module\n",
    "    x = datetime.today() # getting the current date and time from our local computer\n",
    "    print(x.strftime(\"%Y %A %B\")) # prints out only the day, year and month"
   ]
  },
  {
   "cell_type": "code",
   "execution_count": 30,
   "metadata": {},
   "outputs": [
    {
     "name": "stdout",
     "output_type": "stream",
     "text": [
      "2018 Wednesday April\n"
     ]
    }
   ],
   "source": [
    "current_date() # calling the function current_date"
   ]
  },
  {
   "cell_type": "code",
   "execution_count": 40,
   "metadata": {},
   "outputs": [
    {
     "name": "stdout",
     "output_type": "stream",
     "text": [
      "2018-04-25 23:21:53.105590\n"
     ]
    }
   ],
   "source": [
    "from datetime import datetime\n",
    "x = datetime.today()\n",
    "print(x)"
   ]
  },
  {
   "cell_type": "code",
   "execution_count": 41,
   "metadata": {},
   "outputs": [
    {
     "name": "stdout",
     "output_type": "stream",
     "text": [
      "(5, 4, 3, 9, 2, 12)\n"
     ]
    }
   ],
   "source": [
    "T1 = (5, 4, 3) \n",
    "T2 = (9, 2, 12)\n",
    "T1 += T2\n",
    "print(T1)"
   ]
  },
  {
   "cell_type": "code",
   "execution_count": 43,
   "metadata": {},
   "outputs": [
    {
     "name": "stdout",
     "output_type": "stream",
     "text": [
      "enter an integer:4\n",
      "4 is not in the list\n",
      "enter an integer:59\n",
      "59 is contained in the list of integers\n"
     ]
    }
   ],
   "source": [
    "while True: # creates a while True loop\n",
    "    try: # handles code that could result to an error \n",
    "        T = (23, 45, 93, 59, 35, 58, 19, 3) # a tuple containing some integers\n",
    "        x = int(input(\"enter an integer:\")) # collects user data\n",
    "        if x in T: # test if user data is contained in the list of intgers\n",
    "            print(x,\"is contained in the list of integers\") # prints out a message confirming it is contained in the list of integers\n",
    "            break # breaks out of the loop\n",
    "        else: # unless if statement evaluates to false\n",
    "            print(x,\"is not in the list\") # prints out message telling the user if user input is not in the list\n",
    "    except ValueError: # checks for value errors\n",
    "        print(\"Invalid Input!!!\") # prints out error message if input is not valid"
   ]
  },
  {
   "cell_type": "code",
   "execution_count": 48,
   "metadata": {},
   "outputs": [],
   "source": [
    "# Write a function to return the largest element in a tuple T \n",
    "T = (23, 45, 93, 59, 35, 58, 19, 3)\n"
   ]
  },
  {
   "cell_type": "code",
   "execution_count": 55,
   "metadata": {},
   "outputs": [
    {
     "name": "stdout",
     "output_type": "stream",
     "text": [
      "23\n",
      "68\n",
      "161\n",
      "220\n",
      "255\n",
      "313\n",
      "332\n",
      "335\n"
     ]
    }
   ],
   "source": [
    "# [ ] Write a program to compute the average of the elements in T \n",
    "T = (23, 45, 93, 59, 35, 58, 19, 3)\n",
    "count = 0\n",
    "for num in T:\n",
    "    count += num\n",
    "    print(count)"
   ]
  },
  {
   "cell_type": "code",
   "execution_count": null,
   "metadata": {},
   "outputs": [],
   "source": []
  }
 ],
 "metadata": {
  "kernelspec": {
   "display_name": "Python 3",
   "language": "python",
   "name": "python3"
  },
  "language_info": {
   "codemirror_mode": {
    "name": "ipython",
    "version": 3
   },
   "file_extension": ".py",
   "mimetype": "text/x-python",
   "name": "python",
   "nbconvert_exporter": "python",
   "pygments_lexer": "ipython3",
   "version": "3.6.4"
  }
 },
 "nbformat": 4,
 "nbformat_minor": 2
}
