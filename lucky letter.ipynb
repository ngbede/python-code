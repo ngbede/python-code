{
 "cells": [
  {
   "cell_type": "code",
   "execution_count": 2,
   "metadata": {},
   "outputs": [
    {
     "name": "stdout",
     "output_type": "stream",
     "text": [
      "What is the lucky letter:k\n",
      "Your guess is correct\n"
     ]
    }
   ],
   "source": [
    "letter = \"K\" # assignes variable letter to \"K\"\n",
    "guess = input(\"What is the lucky letter:\").upper() # collects user input and makes it upper case\n",
    "if guess.isalpha() != True: # if user input is not alphabetical\n",
    "    print(\"your input is invalid\") # line runs\n",
    "elif guess > letter: # if user input is greater than guess\n",
    "    print(\"Your guess is too high\") # line runs\n",
    "elif guess < letter: # if user input is lesser than guess\n",
    "    print(\"Your guess is too low\") # line runs\n",
    "elif guess == letter: # if user input equal to letter variable\n",
    "    print(\"Your guess is correct\") # line runs"
   ]
  },
  {
   "cell_type": "code",
   "execution_count": 8,
   "metadata": {},
   "outputs": [
    {
     "name": "stdout",
     "output_type": "stream",
     "text": [
      "Hello\n"
     ]
    }
   ],
   "source": [
    "print(\"Hello\") # prints \"Hello\""
   ]
  },
  {
   "cell_type": "code",
   "execution_count": null,
   "metadata": {},
   "outputs": [],
   "source": []
  }
 ],
 "metadata": {
  "kernelspec": {
   "display_name": "Python 3",
   "language": "python",
   "name": "python3"
  },
  "language_info": {
   "codemirror_mode": {
    "name": "ipython",
    "version": 3
   },
   "file_extension": ".py",
   "mimetype": "text/x-python",
   "name": "python",
   "nbconvert_exporter": "python",
   "pygments_lexer": "ipython3",
   "version": "3.6.4"
  }
 },
 "nbformat": 4,
 "nbformat_minor": 2
}
