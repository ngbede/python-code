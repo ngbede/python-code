{
 "cells": [
  {
   "cell_type": "code",
   "execution_count": 3,
   "metadata": {},
   "outputs": [
    {
     "name": "stdout",
     "output_type": "stream",
     "text": [
      "What is your full name:Emmanuel Sule\n",
      "Welcome Doctor Emmanuel Sule\n"
     ]
    }
   ],
   "source": [
    "def make_doctor(name): # creates a function\n",
    "    y = \"Welcome Doctor\" + \" \" + name # adds some string to arguement\n",
    "    return y # returns y\n",
    "full_name = input(\"What is your full name:\") # collects user input\n",
    "print(make_doctor(full_name)) # calls and prints out function"
   ]
  },
  {
   "cell_type": "code",
   "execution_count": 5,
   "metadata": {},
   "outputs": [
    {
     "name": "stdout",
     "output_type": "stream",
     "text": [
      "First Class:Mathematics\n",
      "Second Class:English\n",
      "Third Class:Science\n"
     ]
    }
   ],
   "source": [
    "def make_schedule(period_1,period_2,period_3): # creates a function containing three arguements\n",
    "    func_code = \"First Class:\"+period_1+\"\\nSecond Class:\"+period_2+\"\\nThird Class:\"+period_3 # adds some items to arguements\n",
    "    return func_code # returns func_code\n",
    "student_schedule = make_schedule('Mathematics','English','Science') # calls function woth some strings\n",
    "print(student_schedule) # prints function"
   ]
  },
  {
   "cell_type": "code",
   "execution_count": 11,
   "metadata": {},
   "outputs": [],
   "source": [
    "def short_rhyme(): # creates a function\n",
    "    print(\"My name is Tina\",\"\\nI love Maltina\") # prints info"
   ]
  },
  {
   "cell_type": "code",
   "execution_count": 12,
   "metadata": {},
   "outputs": [
    {
     "name": "stdout",
     "output_type": "stream",
     "text": [
      "My name is Tina \n",
      "I love Maltina\n"
     ]
    }
   ],
   "source": [
    "short_rhyme() # calling function"
   ]
  },
  {
   "cell_type": "code",
   "execution_count": 13,
   "metadata": {},
   "outputs": [],
   "source": [
    "def title_it(): # creates a function \n",
    "    msg = \"hello my name is Emmanuel Sule and I love coding\" # stores a string in msg variabe\n",
    "    print(msg.title()) # prints msg in title "
   ]
  },
  {
   "cell_type": "code",
   "execution_count": 14,
   "metadata": {},
   "outputs": [
    {
     "name": "stdout",
     "output_type": "stream",
     "text": [
      "Hello My Name Is Emmanuel Sule And I Love Coding\n"
     ]
    }
   ],
   "source": [
    "title_it() # calls function"
   ]
  },
  {
   "cell_type": "code",
   "execution_count": 19,
   "metadata": {},
   "outputs": [],
   "source": [
    "def ed_sheeran(): # creates a function\n",
    "    joke = input(\"What is the title? \") # collects user input\n",
    "    print(joke) # prints variable joke"
   ]
  },
  {
   "cell_type": "code",
   "execution_count": 20,
   "metadata": {},
   "outputs": [
    {
     "name": "stdout",
     "output_type": "stream",
     "text": [
      "What is the title? Close your eyes\n",
      "Close your eyes\n"
     ]
    }
   ],
   "source": [
    "ed_sheeran() # calls function"
   ]
  },
  {
   "cell_type": "code",
   "execution_count": 32,
   "metadata": {},
   "outputs": [
    {
     "name": "stdout",
     "output_type": "stream",
     "text": [
      "Title:Forcadoe's High\n",
      "costs:$100\n"
     ]
    }
   ],
   "source": [
    "def book_store(book,price): # creates a function book_store\n",
    "    sentence = 'Title:'+book+'\\ncosts:$'+price # adds some string items to arguements\n",
    "    return sentence # returns sentence\n",
    "info = book_store(\"Forcadoe's High\",\"100\") # \n",
    "print(info)"
   ]
  },
  {
   "cell_type": "code",
   "execution_count": null,
   "metadata": {},
   "outputs": [],
   "source": []
  }
 ],
 "metadata": {
  "kernelspec": {
   "display_name": "Python 3",
   "language": "python",
   "name": "python3"
  },
  "language_info": {
   "codemirror_mode": {
    "name": "ipython",
    "version": 3
   },
   "file_extension": ".py",
   "mimetype": "text/x-python",
   "name": "python",
   "nbconvert_exporter": "python",
   "pygments_lexer": "ipython3",
   "version": "3.6.4"
  }
 },
 "nbformat": 4,
 "nbformat_minor": 2
}
