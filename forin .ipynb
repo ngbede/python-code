{
 "cells": [
  {
   "cell_type": "code",
   "execution_count": 3,
   "metadata": {},
   "outputs": [
    {
     "name": "stdout",
     "output_type": "stream",
     "text": [
      "h\n",
      "e\n",
      "l\n",
      "l\n",
      "o\n"
     ]
    }
   ],
   "source": [
    "x = \"hello\" # stores hello in x variable\n",
    "for y in x: # loops through x\n",
    "    print(y) # prints x letters on new line"
   ]
  },
  {
   "cell_type": "code",
   "execution_count": 5,
   "metadata": {},
   "outputs": [
    {
     "name": "stdout",
     "output_type": "stream",
     "text": [
      "E\n",
      "m\n",
      "m\n",
      "a\n",
      "n\n",
      "u\n",
      "e\n",
      "l\n"
     ]
    }
   ],
   "source": [
    "word = \"Emmanuel\" # stores string in word variable\n",
    "for letters in word: # loops through word\n",
    "    print(letters) # prints letters on new line"
   ]
  },
  {
   "cell_type": "code",
   "execution_count": 2,
   "metadata": {},
   "outputs": [
    {
     "name": "stdout",
     "output_type": "stream",
     "text": [
      "Skye to SkYe\n"
     ]
    }
   ],
   "source": [
    "student_name = \"Skye\" # stores name in student_name variable\n",
    "new_name = \"\" # empty string\n",
    "for ltr in student_name: # loops through variable\n",
    "    if ltr.lower() in \"y\": # checks if letter starts with y\n",
    "        new_name += ltr.upper() # converts to upper case\n",
    "    else: # else\n",
    "        new_name += ltr # stores ltr in new_name\n",
    "print(student_name, \"to\", new_name) # prints message"
   ]
  },
  {
   "cell_type": "code",
   "execution_count": 12,
   "metadata": {},
   "outputs": [
    {
     "name": "stdout",
     "output_type": "stream",
     "text": [
      "may I Know your name:Emmanuel Sule\n",
      "E\n",
      "m\n",
      "m\n",
      "a\n",
      "n\n",
      "u\n",
      "e\n",
      "l\n",
      " \n",
      "S\n",
      "u\n",
      "l\n",
      "e\n"
     ]
    }
   ],
   "source": [
    "first_name = input(\"may I Know your name:\") # collects user input\n",
    "for letters in first_name: # loops through first_name\n",
    "    print(letters) # prints single letters"
   ]
  },
  {
   "cell_type": "code",
   "execution_count": 18,
   "metadata": {},
   "outputs": [
    {
     "name": "stdout",
     "output_type": "stream",
     "text": [
      "what is your first name:ojilima\n",
      "oOjiIliIma\n"
     ]
    }
   ],
   "source": [
    "first_name = input(\"what is your first name:\") # collects user input\n",
    "new_name = \"\" # empty string\n",
    "for letters in first_name: # loops through first_name variable\n",
    "    new_name += letters # adds empty string to letters\n",
    "    if letters.lower() in \"i\": # checks if letters starts with \"i\"\n",
    "        new_name += letters.upper() # converts to upper case\n",
    "    elif letters.lower() in \"o\": # checks if letter starts with \"o\"\n",
    "        new_name += letters.upper() # converts to upper case\n",
    "print(new_name) # prints new_name"
   ]
  },
  {
   "cell_type": "code",
   "execution_count": 20,
   "metadata": {},
   "outputs": [
    {
     "name": "stdout",
     "output_type": "stream",
     "text": [
      "p\n",
      "o\n",
      "s\n",
      "i\n",
      "t\n",
      "i\n",
      "o\n",
      "n\n",
      "what is your favourite colour:animal\n",
      "laminaanimal\n",
      "laminaanimal\n",
      "laminaanimal\n",
      "laminaanimal\n",
      "laminaanimal\n",
      "laminaanimal\n"
     ]
    }
   ],
   "source": [
    "long_word = \"juxtaposition\" # stores string in long_word variable\n",
    "for other_word in long_word[5:]: # loops through variable begining from 6th letter\n",
    "    print(other_word) # prints word\n",
    "fav_colour = input(\"what is your favourite colour:\") # collects user input\n",
    "for words in fav_colour[::-1]: # loops through it in reverse\n",
    "    print(fav_colour[::-1] + fav_colour) # adds strings"
   ]
  },
  {
   "cell_type": "code",
   "execution_count": 3,
   "metadata": {},
   "outputs": [],
   "source": [
    "name = \"iteration\" # stores string in variable\n",
    "count = 0 # stores in zero in count\n",
    "for letter in name: # loops through \n",
    "    if letter.lower() == \"s\":\n",
    "        print(count)\n",
    "    count += 1"
   ]
  }
 ],
 "metadata": {
  "kernelspec": {
   "display_name": "Python 3",
   "language": "python",
   "name": "python3"
  },
  "language_info": {
   "codemirror_mode": {
    "name": "ipython",
    "version": 3
   },
   "file_extension": ".py",
   "mimetype": "text/x-python",
   "name": "python",
   "nbconvert_exporter": "python",
   "pygments_lexer": "ipython3",
   "version": "3.6.4"
  }
 },
 "nbformat": 4,
 "nbformat_minor": 2
}
