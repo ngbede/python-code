{
 "cells": [
  {
   "cell_type": "markdown",
   "metadata": {},
   "source": [
    "# [ ] The `data` list contains information about a company's employees.\n",
    "# Use the `data` list and an appropriate loop to create a dictionary of employees.\n",
    "# Use IDs (as keys) and names (as values).\n",
    "# Ignore the email addresses for now. \n",
    "# The created dictionary should look like: \n",
    "# {57394: 'Suresh Datta', 48539: 'Colette Browning', 58302: 'Skye Homsi', 48502: 'Hiroto Yamaguchi', 48291: 'Tobias Ledford', 48293: 'Jin Xu', 23945: 'Joana Dias', 85823: 'Alton Derosa'} \n",
    "# data = [[\"Suresh Datta\", 57394, \"suresh@example.com\"], [\"Colette Browning\", 48539, \"colette@example.com\"], [\"Skye Homsi\", 58302, \"skye@example.com\"], [\"Hiroto Yamaguchi\", 48502, \"hiroto@example.com\"], [\"Tobias Ledford\", 48291, \"tobias@example.com\", \"Tamara Babic\", 58201, \"tamara@example.com\"], [\"Jin Xu\", 48293, \"jin@example.com\"], [\"Joana Dias\", 23945, \"joana@example.com\"], [\"Alton Derosa\", 85823, \"alton@example.com\"]]"
   ]
  },
  {
   "cell_type": "code",
   "execution_count": 6,
   "metadata": {},
   "outputs": [
    {
     "name": "stdout",
     "output_type": "stream",
     "text": [
      "['Suresh Datta']\n",
      "['Colette Browning']\n",
      "['Skye Homsi']\n",
      "['Hiroto Yamaguchi']\n",
      "['Tobias Ledford']\n",
      "['Tamara Babic']\n",
      "['Jin Xu']\n",
      "['Joana Dias']\n",
      "['Alton Derosa']\n"
     ]
    }
   ],
   "source": [
    "data = [[\"Suresh Datta\", 57394, \"suresh@example.com\"], [\"Colette Browning\", 48539, \"colette@example.com\"], [\"Skye Homsi\", 58302, \"skye@example.com\"], [\"Hiroto Yamaguchi\", 48502, \"hiroto@example.com\"], [\"Tobias Ledford\", 48291, \"tobias@example.com\"], [\"Tamara Babic\", 58201, \"tamara@example.com\"], [\"Jin Xu\", 48293, \"jin@example.com\"], [\"Joana Dias\", 23945, \"joana@example.com\"], [\"Alton Derosa\", 85823, \"alton@example.com\"]]\n",
    "for num in data:\n",
    "    name = num[0:1]\n",
    "    print(name)"
   ]
  },
  {
   "cell_type": "markdown",
   "metadata": {},
   "source": [
    "# [ ] Use the `records` dictionary in a program that asks the user for an ID and prints the name of the associated employee. \n",
    "# Display an appropriate message if the ID is not found in the dictionary\n",
    "# records = {57394: 'Suresh Datta', 48539: 'Colette Browning', 58302: 'Skye Homsi', 48502: 'Hiroto Yamaguchi', 48291: 'Tobias Ledford', 48293: 'Jin Xu', 23945: 'Joana Dias', 85823: 'Alton Derosa'}"
   ]
  },
  {
   "cell_type": "code",
   "execution_count": 12,
   "metadata": {},
   "outputs": [
    {
     "name": "stdout",
     "output_type": "stream",
     "text": [
      "what is your id:58302\n",
      "Welcome Skye Homsi\n"
     ]
    }
   ],
   "source": [
    "records = {57394: 'Suresh Datta', 48539: 'Colette Browning', 58302: 'Skye Homsi', 48502: 'Hiroto Yamaguchi', 48291: 'Tobias Ledford', 48293: 'Jin Xu', 23945: 'Joana Dias', 85823: 'Alton Derosa'}\n",
    "try:\n",
    "    search = int(input(\"what is your id:\"))\n",
    "    if search in records:\n",
    "        print(\"Welcome\",records[search])\n",
    "    else:\n",
    "        print(\"Result not found\")\n",
    "except:\n",
    "    print(\"INVALID INPUT\")"
   ]
  },
  {
   "cell_type": "markdown",
   "metadata": {},
   "source": [
    "# [ ] Use the `records` dictionary in a program to ask the user for an ID then delete the employee record associated with the ID\n",
    "# The program should display an appropriate message if the ID is not found in the dictionary.\n",
    "# records = {57394: 'Suresh Datta', 48539: 'Colette Browning', 58302: 'Skye Homsi', 48502: 'Hiroto Yamaguchi', 48291: 'Tobias Ledford', 48293: 'Jin Xu', 23945: 'Joana Dias', 85823: 'Alton Derosa'}"
   ]
  },
  {
   "cell_type": "code",
   "execution_count": 20,
   "metadata": {},
   "outputs": [
    {
     "name": "stdout",
     "output_type": "stream",
     "text": [
      "Input your id to delete your account\n",
      "What is your IDENTIFICATION NUMBER?48539\n",
      "Done!!!\n"
     ]
    }
   ],
   "source": [
    "records = {57394: 'Suresh Datta', 48539: 'Colette Browning', 58302: 'Skye Homsi', 48502: 'Hiroto Yamaguchi', 48291: 'Tobias Ledford', 48293: 'Jin Xu', 23945: 'Joana Dias', 85823: 'Alton Derosa'}\n",
    "print(\"Input your id to delete your account\")\n",
    "try:\n",
    "    i_d = int(input(\"What is your IDENTIFICATION NUMBER?\"))\n",
    "    if i_d in records:\n",
    "        records.pop(i_d)\n",
    "        print(\"Done!!!\")\n",
    "    else:\n",
    "        print(\"ID not found\")\n",
    "except:\n",
    "    print(\"IVALID INPUT\")"
   ]
  },
  {
   "cell_type": "code",
   "execution_count": null,
   "metadata": {},
   "outputs": [],
   "source": []
  }
 ],
 "metadata": {
  "kernelspec": {
   "display_name": "Python 3",
   "language": "python",
   "name": "python3"
  },
  "language_info": {
   "codemirror_mode": {
    "name": "ipython",
    "version": 3
   },
   "file_extension": ".py",
   "mimetype": "text/x-python",
   "name": "python",
   "nbconvert_exporter": "python",
   "pygments_lexer": "ipython3",
   "version": "3.6.4"
  }
 },
 "nbformat": 4,
 "nbformat_minor": 2
}
