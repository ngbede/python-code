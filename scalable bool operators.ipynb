{
 "cells": [
  {
   "cell_type": "markdown",
   "metadata": {},
   "source": [
    "# Boolean values (True, False) \n",
    "# [ ] Use relational and/or arithmetic operators with the variables x and y to write: \n",
    "# 3 expressions that evaluate to True (i.e. x >= y) \n",
    "# 3 expressions that evaluate to False (i.e. x <= y) \n",
    "# x = 84 y = 17"
   ]
  },
  {
   "cell_type": "code",
   "execution_count": 5,
   "metadata": {},
   "outputs": [
    {
     "name": "stdout",
     "output_type": "stream",
     "text": [
      "x >= y: True\n",
      "x >= y: True\n",
      "x >= y: True\n",
      "x <= y: False\n",
      "x <= y: False\n",
      "x <= y: False\n"
     ]
    }
   ],
   "source": [
    "x = 84\n",
    "y = 17\n",
    "print(\"x >= y:\",True and True)\n",
    "print(\"x >= y:\",True or False)\n",
    "print(\"x >= y:\",False or True)\n",
    "print(\"x <= y:\",False or False)\n",
    "print(\"x <= y:\",False and True)\n",
    "print(\"x <= y:\",False and False)"
   ]
  },
  {
   "cell_type": "markdown",
   "metadata": {},
   "source": [
    "# [ ] Use the basic Boolean operators with the variables x and y to write: \n",
    "# 3 expressions that evaluate to True (i.e. not y) \n",
    "# 3 expressions that evaluate to False (i.e. x and y) \n",
    "# x = True \n",
    "# y = False"
   ]
  },
  {
   "cell_type": "code",
   "execution_count": 1,
   "metadata": {},
   "outputs": [
    {
     "name": "stdout",
     "output_type": "stream",
     "text": [
      "y =  True\n",
      "x =  True\n",
      "x or y =  True\n",
      "y =  False\n",
      "y =  False\n",
      "x and y =  False\n"
     ]
    }
   ],
   "source": [
    "x = True\n",
    "y = False\n",
    "print(\"y = \",not y)\n",
    "print(\"x = \",x or y)\n",
    "print(\"x or y = \",y or x)\n",
    "print(\"y = \",x and y)\n",
    "print(\"y = \", not x)\n",
    "print(\"x and y = \", x and y)"
   ]
  },
  {
   "cell_type": "markdown",
   "metadata": {},
   "source": [
    "# [ ] Write an expression to test if x is an even number outside the range [-100, 100] \n",
    "# Test your expression with: \n",
    "# x = 104 (True) \n",
    "# x = 115 (False) \n",
    "# x = -106 (True)\n",
    "# x = -99 (False)"
   ]
  },
  {
   "cell_type": "code",
   "execution_count": 14,
   "metadata": {},
   "outputs": [
    {
     "name": "stdout",
     "output_type": "stream",
     "text": [
      "Enter an integer:3\n",
      "False!\n"
     ]
    }
   ],
   "source": [
    "x = int(input(\"Enter an integer:\"))\n",
    "if (x >= 100) and (x % 2 == 0):\n",
    "    print(\"True!\")\n",
    "else:\n",
    "    print(\"False!\")"
   ]
  },
  {
   "cell_type": "markdown",
   "metadata": {},
   "source": [
    "# [ ] Write an expression to test if a string s starts and ends with a capital letter\n",
    "# HINT: You might find the function `str.isupper()` useful \n",
    "# Test your expression with: \n",
    "# s = \"CapitaL\" (True) \n",
    "# s = \"Not Capital\" (False)"
   ]
  },
  {
   "cell_type": "code",
   "execution_count": 21,
   "metadata": {},
   "outputs": [
    {
     "name": "stdout",
     "output_type": "stream",
     "text": [
      "Enter a string:EMMANUEL\n",
      "It starts and ends with capital letters\n"
     ]
    }
   ],
   "source": [
    "x = input(\"Enter a string:\")\n",
    "if (x[0].isupper() == True and x[-1].isupper() == True):\n",
    "    print(\"It starts and ends with capital letters\")\n",
    "else:\n",
    "    print(\"It does not obey Sule's law\")"
   ]
  },
  {
   "cell_type": "markdown",
   "metadata": {},
   "source": [
    "# [ ] Write an expression to test if a string s contains a numerical value \n",
    "# then test if the value is greater than the value stored in x \n",
    "# HINT: Use the functions `s.isnumeric()` and `float(s)` \n",
    "# Test your expression with \n",
    "# s = \"39\" \n",
    "# x = 24 \n",
    "# Expression should yield True \n",
    "# s = \"a39\" \n",
    "# x = 24 \n",
    "# Expression should yield False"
   ]
  },
  {
   "cell_type": "code",
   "execution_count": 56,
   "metadata": {},
   "outputs": [
    {
     "name": "stdout",
     "output_type": "stream",
     "text": [
      "Say something:a39\n"
     ]
    },
    {
     "ename": "ValueError",
     "evalue": "could not convert string to float: 'a39'",
     "output_type": "error",
     "traceback": [
      "\u001b[1;31m---------------------------------------------------------------------------\u001b[0m",
      "\u001b[1;31mValueError\u001b[0m                                Traceback (most recent call last)",
      "\u001b[1;32m<ipython-input-56-448f0d921f0b>\u001b[0m in \u001b[0;36m<module>\u001b[1;34m()\u001b[0m\n\u001b[0;32m      1\u001b[0m \u001b[0mx\u001b[0m \u001b[1;33m=\u001b[0m \u001b[1;36m24\u001b[0m\u001b[1;33m\u001b[0m\u001b[0m\n\u001b[0;32m      2\u001b[0m \u001b[0ms\u001b[0m \u001b[1;33m=\u001b[0m \u001b[0minput\u001b[0m\u001b[1;33m(\u001b[0m\u001b[1;34m\"Say something:\"\u001b[0m\u001b[1;33m)\u001b[0m\u001b[1;33m\u001b[0m\u001b[0m\n\u001b[1;32m----> 3\u001b[1;33m \u001b[1;32mif\u001b[0m \u001b[1;33m(\u001b[0m\u001b[0ms\u001b[0m\u001b[1;33m.\u001b[0m\u001b[0misalnum\u001b[0m\u001b[1;33m(\u001b[0m\u001b[1;33m)\u001b[0m \u001b[1;33m==\u001b[0m \u001b[1;32mTrue\u001b[0m\u001b[1;33m)\u001b[0m \u001b[1;32mand\u001b[0m \u001b[1;33m(\u001b[0m\u001b[0mfloat\u001b[0m\u001b[1;33m(\u001b[0m\u001b[0ms\u001b[0m\u001b[1;33m)\u001b[0m \u001b[1;33m>\u001b[0m \u001b[0mx\u001b[0m\u001b[1;33m)\u001b[0m\u001b[1;33m:\u001b[0m\u001b[1;33m\u001b[0m\u001b[0m\n\u001b[0m\u001b[0;32m      4\u001b[0m     \u001b[0mprint\u001b[0m\u001b[1;33m(\u001b[0m\u001b[1;34m\"Nice going\"\u001b[0m\u001b[1;33m)\u001b[0m\u001b[1;33m\u001b[0m\u001b[0m\n\u001b[0;32m      5\u001b[0m \u001b[1;32melse\u001b[0m\u001b[1;33m:\u001b[0m\u001b[1;33m\u001b[0m\u001b[0m\n",
      "\u001b[1;31mValueError\u001b[0m: could not convert string to float: 'a39'"
     ]
    }
   ],
   "source": [
    "x = 24\n",
    "s = input(\"Say something:\")\n",
    "if (s.isalnum() == True) and (float(s) > x):\n",
    "    print(\"Nice going\")\n",
    "else:\n",
    "    print(\"Sorry\")"
   ]
  },
  {
   "cell_type": "markdown",
   "metadata": {},
   "source": [
    "# [ ] Write an expression equivalent to the one below \n",
    "# to test if x is outside the range [10, 20] (seen in a previous example) \n",
    "# (x < 10) or (x > 20)\n",
    "# Test your expression with \n",
    "# x = 11 (False) \n",
    "# x = 50 (True)"
   ]
  },
  {
   "cell_type": "code",
   "execution_count": 63,
   "metadata": {},
   "outputs": [
    {
     "name": "stdout",
     "output_type": "stream",
     "text": [
      "Enter a positive integer56\n",
      "Your value is larger than 20\n"
     ]
    }
   ],
   "source": [
    "x = int(input(\"Enter a positive integer\"))\n",
    "if (not((x < 10) or (x > 20) )) == False:\n",
    "    print(\"Your value is larger than 20\")\n",
    "elif x == 20:\n",
    "    print(\"Your value is equal to 20\")\n",
    "else:\n",
    "    print(\"Your value is less than 20\")"
   ]
  },
  {
   "cell_type": "markdown",
   "metadata": {},
   "source": [
    "# [ ] Write a second expression to test if x is an even number outside the range [-100, 100] \n",
    "# Do NOT use the expression you wrote for a previous exercise \n",
    "# Test your expression with: \n",
    "# x = 104 (True) \n",
    "# x = 115 (False) \n",
    "# x = -106 (True) \n",
    "# x = -99 (False)"
   ]
  },
  {
   "cell_type": "code",
   "execution_count": 68,
   "metadata": {},
   "outputs": [
    {
     "name": "stdout",
     "output_type": "stream",
     "text": [
      "Enter an integer:102\n",
      "Your value is a positive integer that is greater than hundred and also an even number.\n"
     ]
    }
   ],
   "source": [
    "x = int(input(\"Enter an integer:\"))\n",
    "if (not((x < 100) or (x % 2 != 0))) == True:\n",
    "    print(\"Your value is a positive integer that is greater than hundred and also an even number.\")\n",
    "else:\n",
    "    print(\"Hello please follow the rules\")"
   ]
  },
  {
   "cell_type": "markdown",
   "metadata": {},
   "source": [
    "# [ ] Write a program to validate that user input is outside the range [0, 100] BMI category \n",
    "# The Body Mass Index (BMI) measures the body fat using the weight and height of a person. \n",
    "# The BMI is used to classify adults into categories as in the following table.\n",
    "# Category BMI range\n",
    "# Underweight: < 18.5\n",
    "# Normal Weight: 18.5 - 24.9\n",
    "# Overweight: 25 - 29.9\n",
    "# Obese ≥ 30 \n",
    "# [ ] Write a program to ask a user for her/his BMI index, then display the user's BMI category"
   ]
  },
  {
   "cell_type": "code",
   "execution_count": 5,
   "metadata": {},
   "outputs": [
    {
     "name": "stdout",
     "output_type": "stream",
     "text": [
      "what is your weight (kilograms)?100\n",
      "what is your height (meters)?1\n",
      "Your Body Mass Index(BMI): 100.0 kg/m2\n",
      "You are obese. I recommend that you visit the doctor for a weight loss surgery \"ASAP\"\n"
     ]
    }
   ],
   "source": [
    "weight_kg = float(input(\"what is your weight (kilograms)?\"))\n",
    "height_meter = float(input(\"what is your height (meters)?\"))\n",
    "height_meter = height_meter ** 2\n",
    "weight = weight_kg / height_meter\n",
    "print(\"Your Body Mass Index(BMI):\",weight,\"kg/m2\")\n",
    "if (weight < 18.5):\n",
    "    print(\"You are underweight. Try eating some more food.\")\n",
    "elif ((weight >= 18.5) and (weight <= 24.9)):\n",
    "    print(\"Your weight is normal.\")\n",
    "elif ((weight >= 25.0) and (weight <= 29.9)):\n",
    "    print(\"You are overweight. Try and do some more exercise and reduce your calorie intake\")\n",
    "elif (weight >= 30.0):\n",
    "    print(\"You are obese. I recommend that you visit the doctor for a weight loss surgery \\\"ASAP\\\"\")\n",
    "else:\n",
    "    pass"
   ]
  },
  {
   "cell_type": "code",
   "execution_count": null,
   "metadata": {},
   "outputs": [],
   "source": []
  }
 ],
 "metadata": {
  "kernelspec": {
   "display_name": "Python 3",
   "language": "python",
   "name": "python3"
  },
  "language_info": {
   "codemirror_mode": {
    "name": "ipython",
    "version": 3
   },
   "file_extension": ".py",
   "mimetype": "text/x-python",
   "name": "python",
   "nbconvert_exporter": "python",
   "pygments_lexer": "ipython3",
   "version": "3.6.4"
  }
 },
 "nbformat": 4,
 "nbformat_minor": 2
}
