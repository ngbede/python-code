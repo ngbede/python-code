{
 "cells": [
  {
   "cell_type": "markdown",
   "metadata": {},
   "source": [
    "# import os \n",
    "# def directory_count():\n",
    "# \"\"\" Calculate the number of directories to be generated. \n",
    "# I) Get the current minute using appropriate functionality from `datetime` \n",
    "# II) Take the square root of ..the current minute + 15 \n",
    "# III) Round the square root to an integer \n",
    "# IV) return the rounded number as the number of directories to be created \n",
    "# args: NONE\n",
    "# returns: \n",
    "# `dir_count`: number of directories to be created \n",
    "# \"\"\" \n",
    "# TODO"
   ]
  },
  {
   "cell_type": "code",
   "execution_count": 63,
   "metadata": {},
   "outputs": [],
   "source": [
    "from math import ceil,sqrt\n",
    "from datetime import datetime\n",
    "def dir_count():\n",
    "    current_minute = datetime.today()\n",
    "    new = int(current_minute.strftime(\"%M\"))\n",
    "    root = sqrt(new) + 15\n",
    "    rounds = ceil(root)\n",
    "    return rounds"
   ]
  },
  {
   "cell_type": "code",
   "execution_count": 64,
   "metadata": {},
   "outputs": [
    {
     "data": {
      "text/plain": [
       "23"
      ]
     },
     "execution_count": 64,
     "metadata": {},
     "output_type": "execute_result"
    }
   ],
   "source": [
    "dir_count()"
   ]
  },
  {
   "cell_type": "markdown",
   "metadata": {},
   "source": [
    "# def name_generator(): \n",
    "# \"\"\" Generate a single directory name using the pattern (MM_DD_YY_randnum). \n",
    "# args: NONE \n",
    "# returns: `dir_name`: string containing a valid directory name \"\"\" \n",
    "# TODO"
   ]
  },
  {
   "cell_type": "code",
   "execution_count": 37,
   "metadata": {},
   "outputs": [],
   "source": [
    "from datetime import datetime\n",
    "from random import randint\n",
    "def name_generator():\n",
    "    cur_date = datetime.today()\n",
    "    y = str(randint(10000,50000))\n",
    "    new = cur_date.strftime(\"%m_%d_%y_\"+y)\n",
    "    return (new)"
   ]
  },
  {
   "cell_type": "code",
   "execution_count": 105,
   "metadata": {},
   "outputs": [
    {
     "data": {
      "text/plain": [
       "'04_13_18_30156'"
      ]
     },
     "execution_count": 105,
     "metadata": {},
     "output_type": "execute_result"
    }
   ],
   "source": [
    "name_generator()"
   ]
  },
  {
   "cell_type": "markdown",
   "metadata": {},
   "source": [
    "# def directory_creator(name): \n",
    "# \"\"\" \n",
    "# Create a single directory called `name` in the current working directory. \n",
    "# args: \n",
    "# name: directory to be created\n",
    "# returns: \n",
    "# NONE \n",
    "# \"\"\" \n",
    "# TODO"
   ]
  },
  {
   "cell_type": "code",
   "execution_count": 107,
   "metadata": {},
   "outputs": [],
   "source": [
    "import os\n",
    "def directory_creator(name):\n",
    "    os.mkdir(name)"
   ]
  },
  {
   "cell_type": "markdown",
   "metadata": {},
   "source": [
    "# def create(): \n",
    "# \"\"\" \n",
    "# Generate the necessary directories. \n",
    "# Use `directory_count` to calculate the number of directories, then use `directory_creator` and `name_generator`. \n",
    "# args: \n",
    "# NONE \n",
    "# returns: \n",
    "# NONE \n",
    "# \"\"\" \n",
    "# TODO"
   ]
  },
  {
   "cell_type": "code",
   "execution_count": 129,
   "metadata": {},
   "outputs": [],
   "source": [
    "def create():\n",
    "    print(\"Number of directories to be made:\",dir_count())\n",
    "    directory_creator(name_generator())"
   ]
  },
  {
   "cell_type": "code",
   "execution_count": 141,
   "metadata": {},
   "outputs": [
    {
     "name": "stdout",
     "output_type": "stream",
     "text": [
      "Number of directories to be made: 17\n"
     ]
    }
   ],
   "source": [
    "create()"
   ]
  },
  {
   "cell_type": "code",
   "execution_count": 144,
   "metadata": {},
   "outputs": [
    {
     "data": {
      "text/plain": [
       "['.anaconda',\n",
       " '.eclipse',\n",
       " '.gitconfig',\n",
       " '.idlerc',\n",
       " '.ipynb_checkpoints',\n",
       " '.ipython',\n",
       " '.jmc',\n",
       " '.jupyter',\n",
       " '.matplotlib',\n",
       " '.PyCharmCE2017.3',\n",
       " '.spyder-py3',\n",
       " '.vscode',\n",
       " '04_13_18_30596',\n",
       " '2.practice two.ipynb',\n",
       " '3.train.ipynb',\n",
       " '3D Objects',\n",
       " 'airtel.ipynb',\n",
       " 'Allergy Check.ipynb',\n",
       " 'amount.ipynb',\n",
       " 'Anaconda3',\n",
       " 'AppData',\n",
       " 'Application Data',\n",
       " 'ASCII.ipynb',\n",
       " 'concatination.ipynb',\n",
       " 'Contacts',\n",
       " 'Cookies',\n",
       " 'date time.ipynb',\n",
       " 'Desktop',\n",
       " 'directory_name',\n",
       " 'Documents',\n",
       " 'Downloads',\n",
       " 'Dropbox',\n",
       " 'elif practice.ipynb',\n",
       " 'escapes.ipynb',\n",
       " 'Favorites',\n",
       " 'Final Project.ipynb',\n",
       " 'fishstore.ipynb',\n",
       " 'forin .ipynb',\n",
       " 'functions.ipynb',\n",
       " 'fund 1.ipynb',\n",
       " 'fund 2 project.ipynb',\n",
       " 'fundamental project 1.ipynb',\n",
       " 'fund_module_3_project.ipynb',\n",
       " 'hi',\n",
       " 'Importing modules.ipynb',\n",
       " 'IntelGraphicsProfiles',\n",
       " 'Links',\n",
       " 'lists.ipynb',\n",
       " 'Local Settings',\n",
       " 'lucky letter.ipynb',\n",
       " 'module 1 practice(fundamentals).ipynb',\n",
       " 'Module 3 practice.ipynb',\n",
       " 'Module 4 answer.ipynb',\n",
       " 'Music',\n",
       " 'My Documents',\n",
       " 'NetHood',\n",
       " 'NTUSER.DAT',\n",
       " 'ntuser.dat.LOG1',\n",
       " 'ntuser.dat.LOG2',\n",
       " 'NTUSER.DAT{77a2c7ed-26f0-11e5-80da-e41d2d741090}.TM.blf',\n",
       " 'NTUSER.DAT{77a2c7ed-26f0-11e5-80da-e41d2d741090}.TMContainer00000000000000000001.regtrans-ms',\n",
       " 'NTUSER.DAT{77a2c7ed-26f0-11e5-80da-e41d2d741090}.TMContainer00000000000000000002.regtrans-ms',\n",
       " 'ntuser.ini',\n",
       " 'Octopuses.ipynb',\n",
       " 'OneDrive',\n",
       " 'os and directory.ipynb',\n",
       " 'Pictures',\n",
       " 'platform,os,path operations.ipynb',\n",
       " 'poem1.txt',\n",
       " 'practical 3.ipynb',\n",
       " 'practice',\n",
       " 'Practice.3.ipynb',\n",
       " 'practice_1',\n",
       " 'PrintHood',\n",
       " 'PycharmProjects',\n",
       " 'quiz function.ipynb',\n",
       " 'Recent',\n",
       " 'Return values.ipynb',\n",
       " 'Saturday.ipynb',\n",
       " 'Saved Games',\n",
       " 'scalable practice 1.ipynb',\n",
       " 'Scalable Project.ipynb',\n",
       " 'scale pro v1.ipynb',\n",
       " 'Searches',\n",
       " 'SendTo',\n",
       " 'Shedrack.ipynb',\n",
       " 'simple functions.ipynb',\n",
       " 'Start Menu',\n",
       " 'SULE',\n",
       " 'Templates',\n",
       " 'Untitled.ipynb',\n",
       " 'Untitled1.ipynb',\n",
       " 'Untitled12.ipynb',\n",
       " 'Untitled2.ipynb',\n",
       " 'Untitled3.ipynb',\n",
       " 'Untitled4.ipynb',\n",
       " 'Untitled5.ipynb',\n",
       " 'Untitled6.ipynb',\n",
       " 'Videos',\n",
       " 'while true.ipynb']"
      ]
     },
     "execution_count": 144,
     "metadata": {},
     "output_type": "execute_result"
    }
   ],
   "source": [
    "import os\n",
    "os.listdir()"
   ]
  },
  {
   "cell_type": "code",
   "execution_count": null,
   "metadata": {},
   "outputs": [],
   "source": []
  }
 ],
 "metadata": {
  "kernelspec": {
   "display_name": "Python 3",
   "language": "python",
   "name": "python3"
  },
  "language_info": {
   "codemirror_mode": {
    "name": "ipython",
    "version": 3
   },
   "file_extension": ".py",
   "mimetype": "text/x-python",
   "name": "python",
   "nbconvert_exporter": "python",
   "pygments_lexer": "ipython3",
   "version": "3.6.4"
  }
 },
 "nbformat": 4,
 "nbformat_minor": 2
}
