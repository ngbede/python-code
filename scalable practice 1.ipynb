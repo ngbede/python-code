{
 "cells": [
  {
   "cell_type": "markdown",
   "metadata": {},
   "source": [
    "Task 1 math module # [ ] Use the math module to display an accurate value for pi # [ ] Write a program to: # 1) find all the numbers in a list that are divisible by 3 # 2) display the square root of these numbers # 3) use a rounding function to display the square roots while ignoring the decimal fraction lst = [23, 45, 65, 2345, 42, 76, 37, 87, 647, 35, 37 ,39, 898, 92, 18]"
   ]
  },
  {
   "cell_type": "code",
   "execution_count": null,
   "metadata": {},
   "outputs": [],
   "source": [
    "import math\n",
    "x = 22\n",
    "y = 7\n",
    "pi = 22 / 7\n",
    "print(\"pie is equal to:\",pi)"
   ]
  },
  {
   "cell_type": "code",
   "execution_count": null,
   "metadata": {},
   "outputs": [],
   "source": [
    "from math import sqrt,ceil,floor\n",
    "lst = [23, 45, 65, 2345, 42, 76, 37, 87, 647, 35, 37 ,39, 898, 92, 18]\n",
    "for no in lst:\n",
    "    if no % 3 == 0:\n",
    "        sqr = sqrt(no)\n",
    "        print(no,\"=\",ceil(sqr))"
   ]
  },
  {
   "cell_type": "markdown",
   "metadata": {},
   "source": [
    "Task 2 Mathematical operators Coin calculators In the following exercises, you will develop functions to count the number of coins in a certain dollar amount. You will then use these functions to write a program that can calculate the change due to a customer in coins. Quarters # [ ] Complete the function `quarters_count` so it calculates and prints the number of quarters in `input_cents` # The function input `input_cents` should be in cents\n",
    "# The function should print the number of calculated quarters in `input_cents` # The function should return the number of remaining cents `remaining_cents` (which is less than 25, why?) # HINT: You might want to use % and // operators def quarters_count(input_cents): #TODO # test with $2 # Output should be: 8 quarter\\s dollars = 2 total_cents = dollars * 100 remaining_cents = quarters_count(total_cents) # test with $5.30 # Output should be: 21.0 quarter\\s dollars = 5.30 total_cents = dollars * 100 remaining_cents = quarters_count(total_cents) # test with $9.49 # Output should be: 37.0 quarter\\s dollars = 9.49 total_cents = dollars * 100 remaining_cents = quarters_count(total_cents)\n",
    "Dimes # [ ] Complete the function `dimes_count` so it calculates and prints the number of dimes in `input_cents` # The function input `input_cents` should be in cents # The function should print the number of calculated dimes in `input_cents` # The function should return the number of remaining cents `remaining_cents` (which is less than 10, why?) # HINT: You might want to use % and // operators def dimes_count(input_cents): #TODO # test with $2 # Output should be: 20 dime\\s dollars = 2 total_cents = dollars * 100 remaining_cents = dimes_count(total_cents) # test with $5.30 # Output should be: 53.0 dime\\s dollars = 5.30 total_cents = dollars * 100 remaining_cents = dimes_count(total_cents)\n",
    "# test with $9.49 # Output should be: 94.0 dime\\s dollars = 9.49 total_cents = dollars * 100 remaining_cents = dimes_count(total_cents) Nickels # [ ] Complete the function `nickels_count` so it calculates and prints the number of nickels in `input_cents` # The function input `input_cents` should be in cents # The function should print the number of calculated nickels in `input_cents` # The function should return the number of remaining cents `remaining_cents` (which is less than 5, why?) # HINT: You might want to use % and // operators def nickels_count(input_cents): #TODO # test with $2 # Output should be: 40 nickel\\s dollars = 2 total_cents = dollars * 100 remaining_cents = nickels_count(total_cents)\n",
    "# test with $5.30 # Output should be: 106.0 nickel\\s dollars = 5.30 total_cents = dollars * 100 remaining_cents = nickels_count(total_cents) # test with $9.49 # Output should be: 189.0 nickel\\s dollars = 9.49 total_cents = dollars * 100 remaining_cents = nickels_count(total_cents) Change calculator # [ ] Complete the function `coins_due` to calculate and print the change due to a customer in coins # # The function `coins_due` has 2 inputs: # - `amount_paid`: Amount paid by a customer (in cents) # - `item_price`: Purchase price of an item # # The function should print: # - The number of quarters due # - The number of dimes due\n",
    "# - The number of nickels due # - The number of cents due # # The function does not need to return anything # # HINT: Use the functions you developed before `quarters_count`, `dimes_count`, `nickels_count` def quarters_count(input_cents): #TODO def dimes_count(input_cents): #TODO def nickels_count(input_cents): #TODO def coins_due(amount_paid, item_price): print(\"Change due:\") #TODO # Test case: # amount paid = $10, item price = $5.37 # Output should be:\n",
    "# Change due: # 18.0 quarter\\s # 1.0 dime\\s # 0.0 nickel\\s # 3.0 cent\\s amount_paid = 10 * 100 # in cents item_price = 5.37 * 100 # in cents coins_due(amount_paid, item_price)"
   ]
  },
  {
   "cell_type": "code",
   "execution_count": null,
   "metadata": {},
   "outputs": [],
   "source": [
    "import math\n",
    "def quarter_count(input_cents):\n",
    "    return (input_cents // 0.25,\"quarters\")\n",
    "quarter_count(9.49)\n",
    "def dimes_count(input_cents):\n",
    "    return (input_cents // 0.10, \"dimes\")\n",
    "dimes_count(9.49)\n",
    "def nickels_count(input_cents):\n",
    "    return (input_cents // 0.05)\n",
    "nickels_count(9.49)"
   ]
  },
  {
   "cell_type": "code",
   "execution_count": null,
   "metadata": {},
   "outputs": [],
   "source": [
    "def coins_due(amount_paid,item_price):\n",
    "    amount_paid = int(input(\"How much did you pay in cents:\"))\n",
    "    item_price = int(input(\"Purchase price of the item:\"))\n",
    "    quarter_count(coins_due(amount_paid,item_price))\n",
    "    dimes_count(coins_due(amount_paid,item_price))\n",
    "    nickels_count(coins_due(amount_paid,item_price))\n",
    "coins_due(5.37,10)"
   ]
  },
  {
   "cell_type": "code",
   "execution_count": 160,
   "metadata": {},
   "outputs": [],
   "source": [
    "from random import randint\n",
    "def die_roller():\n",
    "    return (randint(1,6))\n",
    "die_roller()\n",
    "def roll_sum():\n",
    "    return die_roller() + die_roller()"
   ]
  },
  {
   "cell_type": "code",
   "execution_count": 205,
   "metadata": {},
   "outputs": [
    {
     "data": {
      "text/plain": [
       "11"
      ]
     },
     "execution_count": 205,
     "metadata": {},
     "output_type": "execute_result"
    }
   ],
   "source": [
    "roll_sum()"
   ]
  },
  {
   "cell_type": "code",
   "execution_count": 251,
   "metadata": {},
   "outputs": [
    {
     "name": "stdout",
     "output_type": "stream",
     "text": [
      "you randomly get either of these candies:Taffy,Brownie,Cookie,Candy bar,Chocolate,Lollipop,Gingerbread,Marshmallow\n"
     ]
    },
    {
     "data": {
      "text/plain": [
       "'Candy bar'"
      ]
     },
     "execution_count": 251,
     "metadata": {},
     "output_type": "execute_result"
    }
   ],
   "source": [
    "from random import choice\n",
    "def pick_candy():\n",
    "    box = [\"Taffy\", \"Brownie\", \"Cookie\", \"Candy bar\", \"Chocolate\", \"Lollipop\", \"Gingerbread\", \"Marshmallow\"]\n",
    "    return choice(box)\n",
    "print(\"you randomly get either of these candies:Taffy,Brownie,Cookie,Candy bar,Chocolate,Lollipop,Gingerbread,Marshmallow\")\n",
    "pick_candy()"
   ]
  },
  {
   "cell_type": "code",
   "execution_count": 323,
   "metadata": {},
   "outputs": [
    {
     "name": "stdout",
     "output_type": "stream",
     "text": [
      "[59, 394, 594, 69, 29, 9, 35, 102, 1993, 3, 62, 5]\n"
     ]
    }
   ],
   "source": [
    "from random import shuffle\n",
    "lst = [3, 5, 9, 29, 35, 59, 62, 69, 102, 394, 594, 1993]\n",
    "shuffle(lst)\n",
    "print(lst)"
   ]
  },
  {
   "cell_type": "markdown",
   "metadata": {},
   "source": [
    "# [ ] Write a program that displays the current time as (HH:MM AM/PM) (example 02:28 PM)\n",
    "# [ ] Write a program that displays the current time as (HH:MM:SS) (example 14:28:10) \n",
    "# [ ] Write a program that displays the current date as (Friday, December 15, 2017)"
   ]
  },
  {
   "cell_type": "code",
   "execution_count": 45,
   "metadata": {},
   "outputs": [
    {
     "name": "stdout",
     "output_type": "stream",
     "text": [
      "The current time is: 09:45 AM\n",
      "The current time is: 09:45:41 AM\n",
      "Todays date is: Friday, April 13, 2018\n"
     ]
    }
   ],
   "source": [
    "from datetime import datetime\n",
    "x = datetime.today()\n",
    "print(\"The current time is:\",x.strftime(\"%I:%M %p\"))\n",
    "print(\"The current time is:\",x.strftime(\"%I:%M:%S %p\"))\n",
    "print(\"Todays date is:\",x.strftime(\"%A, %B %d, %Y\"))"
   ]
  },
  {
   "cell_type": "markdown",
   "metadata": {},
   "source": [
    "# American VS European date format In the United States, the date is formatted as Month/Day/Year; whereas, in Europe the date is formatted as Day/Month/Year. In this exercise, you will write two functions that will display a datetimeobject in the American or European format.\n",
    "# [ ] Complete the functions `american_format(d)` and `european_format(d)` to display the datetime object d in the proper format"
   ]
  },
  {
   "cell_type": "code",
   "execution_count": 55,
   "metadata": {},
   "outputs": [],
   "source": [
    "from datetime import datetime\n",
    "def american_format(d):\n",
    "    d = datetime.today()\n",
    "    return(d.strftime(\"%m/%d/%Y\"))\n",
    "def european_format(t):\n",
    "    t = datetime.today()\n",
    "    return(t.strftime(\"%d/%m/%Y\"))"
   ]
  },
  {
   "cell_type": "code",
   "execution_count": 57,
   "metadata": {},
   "outputs": [
    {
     "name": "stdout",
     "output_type": "stream",
     "text": [
      "American Format: 04/13/2018\n",
      "European format: 13/04/2018\n"
     ]
    }
   ],
   "source": [
    "print(\"American Format:\",american_format(\"r\"))\n",
    "print(\"European format:\",european_format(\"r\"))"
   ]
  },
  {
   "cell_type": "markdown",
   "metadata": {},
   "source": [
    "# Birthday days\n",
    "# [ ] Write a program to display a list of all your birthdays from the day you were born till 2025.\n",
    "# You should also show the weekdays so you can see which of them was (or will be) on a weekend"
   ]
  },
  {
   "cell_type": "code",
   "execution_count": 82,
   "metadata": {},
   "outputs": [
    {
     "name": "stdout",
     "output_type": "stream",
     "text": [
      "What is your birth month:2\n",
      "What is your birth day:20\n",
      "What is your birth year2000\n",
      "Sunday,2000\n",
      "Tuesday,2001\n",
      "Wednesday,2002\n",
      "Thursday,2003\n",
      "Friday,2004\n",
      "Sunday,2005\n",
      "Monday,2006\n",
      "Tuesday,2007\n",
      "Wednesday,2008\n",
      "Friday,2009\n",
      "Saturday,2010\n",
      "Sunday,2011\n",
      "Monday,2012\n",
      "Wednesday,2013\n",
      "Thursday,2014\n",
      "Friday,2015\n",
      "Saturday,2016\n",
      "Monday,2017\n",
      "Tuesday,2018\n",
      "Wednesday,2019\n",
      "Thursday,2020\n",
      "Saturday,2021\n",
      "Sunday,2022\n",
      "Monday,2023\n",
      "Tuesday,2024\n",
      "Thursday,2025\n"
     ]
    }
   ],
   "source": [
    "from datetime import date\n",
    "m = int(input(\"What is your birth month:\"))\n",
    "d = int(input(\"What is your birth day:\"))\n",
    "y = int(input(\"What is your birth year\"))\n",
    "future = 2026\n",
    "rango = range(y,future)\n",
    "for years in rango:\n",
    "    x = date(month = m, year = years, day = d)\n",
    "    new = (x.strftime(\"%A,%Y\"))\n",
    "    print(new)"
   ]
  },
  {
   "cell_type": "markdown",
   "metadata": {},
   "source": [
    "# Write a program to find out how many minutes are in a 4-week period\n",
    "# Hint: Use a timedelta object and the total_seconds() method"
   ]
  },
  {
   "cell_type": "code",
   "execution_count": 108,
   "metadata": {},
   "outputs": [
    {
     "name": "stdout",
     "output_type": "stream",
     "text": [
      "There are 40320.0 minutes in four weeks.\n"
     ]
    }
   ],
   "source": [
    "from datetime import timedelta\n",
    "mint = timedelta(hours = 672)\n",
    "mint.seconds\n",
    "x = mint.total_seconds()\n",
    "print(\"There are\",x / 60,\"minutes in four weeks.\")"
   ]
  },
  {
   "cell_type": "markdown",
   "metadata": {},
   "source": [
    "# [ ] Write a program to compute the number of days remaining in the current year"
   ]
  },
  {
   "cell_type": "code",
   "execution_count": 118,
   "metadata": {},
   "outputs": [
    {
     "name": "stdout",
     "output_type": "stream",
     "text": [
      "261 days remain until the end of this year\n"
     ]
    }
   ],
   "source": [
    "from datetime import timedelta,datetime\n",
    "x = datetime(month = 12, day = 31, year = 2018)\n",
    "cur = datetime.today()\n",
    "numb = x - cur\n",
    "numb = numb.days\n",
    "print(numb,\"days remain until the end of this year\")"
   ]
  },
  {
   "cell_type": "markdown",
   "metadata": {},
   "source": [
    "# [ ] Complete the program below to find out if July 4th is within 10 days of today's date,\n",
    "# if it is, find out if has passed or not"
   ]
  },
  {
   "cell_type": "code",
   "execution_count": 1,
   "metadata": {},
   "outputs": [
    {
     "name": "stdout",
     "output_type": "stream",
     "text": [
      "You have 81 days until july 4th\n"
     ]
    }
   ],
   "source": [
    "from datetime import datetime\n",
    "tod = datetime.today()\n",
    "july = datetime(month = 7, day = 4, year = 2018)\n",
    "ten = july - tod\n",
    "ten = ten.days\n",
    "if ten == 10:\n",
    "    print(\"In ten days time it will be july the 4th\")\n",
    "elif ten > 10:\n",
    "    print(\"You have\",ten,\"days until july 4th\")\n",
    "elif ten < 10:\n",
    "    print(\"Sorry but july 4th has already passed\")"
   ]
  },
  {
   "cell_type": "markdown",
   "metadata": {},
   "source": [
    "# Directory Operations "
   ]
  },
  {
   "cell_type": "code",
   "execution_count": 23,
   "metadata": {},
   "outputs": [
    {
     "data": {
      "text/plain": [
       "'C:\\\\Users\\\\SULE\\\\practice_1'"
      ]
     },
     "execution_count": 23,
     "metadata": {},
     "output_type": "execute_result"
    }
   ],
   "source": [
    "import os\n",
    "os.mkdir('practice')\n",
    "os.chdir(\"C:\\\\Users\\\\SULE\\\\practice_1\")\n",
    "os.getcwd()"
   ]
  },
  {
   "cell_type": "code",
   "execution_count": 13,
   "metadata": {},
   "outputs": [
    {
     "ename": "FileNotFoundError",
     "evalue": "[WinError 2] The system cannot find the file specified: 'sub_practice_2'",
     "output_type": "error",
     "traceback": [
      "\u001b[1;31m---------------------------------------------------------------------------\u001b[0m",
      "\u001b[1;31mFileNotFoundError\u001b[0m                         Traceback (most recent call last)",
      "\u001b[1;32m<ipython-input-13-1fbae08e3e89>\u001b[0m in \u001b[0;36m<module>\u001b[1;34m()\u001b[0m\n\u001b[0;32m      1\u001b[0m \u001b[0mos\u001b[0m\u001b[1;33m.\u001b[0m\u001b[0mlistdir\u001b[0m\u001b[1;33m(\u001b[0m\u001b[1;33m)\u001b[0m\u001b[1;33m\u001b[0m\u001b[0m\n\u001b[1;32m----> 2\u001b[1;33m \u001b[0mos\u001b[0m\u001b[1;33m.\u001b[0m\u001b[0mrmdir\u001b[0m\u001b[1;33m(\u001b[0m\u001b[1;34m'sub_practice_2'\u001b[0m\u001b[1;33m)\u001b[0m\u001b[1;33m\u001b[0m\u001b[0m\n\u001b[0m\u001b[0;32m      3\u001b[0m \u001b[0mos\u001b[0m\u001b[1;33m.\u001b[0m\u001b[0mrmdir\u001b[0m\u001b[1;33m(\u001b[0m\u001b[1;34m'practice_1'\u001b[0m\u001b[1;33m)\u001b[0m\u001b[1;33m\u001b[0m\u001b[0m\n\u001b[0;32m      4\u001b[0m \u001b[0mos\u001b[0m\u001b[1;33m.\u001b[0m\u001b[0mchdir\u001b[0m\u001b[1;33m(\u001b[0m\u001b[1;34m'..'\u001b[0m\u001b[1;33m)\u001b[0m\u001b[1;33m\u001b[0m\u001b[0m\n\u001b[0;32m      5\u001b[0m \u001b[0mos\u001b[0m\u001b[1;33m.\u001b[0m\u001b[0mgetcwd\u001b[0m\u001b[1;33m\u001b[0m\u001b[0m\n",
      "\u001b[1;31mFileNotFoundError\u001b[0m: [WinError 2] The system cannot find the file specified: 'sub_practice_2'"
     ]
    }
   ],
   "source": [
    "os.listdir()\n",
    "os.rmdir('sub_practice_2')\n",
    "os.rmdir('practice_1')\n",
    "os.chdir('..')\n",
    "os.getcwd"
   ]
  },
  {
   "cell_type": "code",
   "execution_count": 28,
   "metadata": {},
   "outputs": [
    {
     "name": "stdout",
     "output_type": "stream",
     "text": [
      "win32 C:\\Users\n"
     ]
    }
   ],
   "source": [
    "x = os.getcwd()\n",
    "import sys\n",
    "print(sys.platform,x)"
   ]
  },
  {
   "cell_type": "code",
   "execution_count": 29,
   "metadata": {},
   "outputs": [
    {
     "name": "stdout",
     "output_type": "stream",
     "text": [
      "Changing working directory to 'SULE'\n"
     ]
    },
    {
     "ename": "FileNotFoundError",
     "evalue": "[WinError 2] The system cannot find the file specified: 'SULE'",
     "output_type": "error",
     "traceback": [
      "\u001b[1;31m---------------------------------------------------------------------------\u001b[0m",
      "\u001b[1;31mFileNotFoundError\u001b[0m                         Traceback (most recent call last)",
      "\u001b[1;32m<ipython-input-29-bfb7e1a6c585>\u001b[0m in \u001b[0;36m<module>\u001b[1;34m()\u001b[0m\n\u001b[0;32m      3\u001b[0m     \u001b[0mos\u001b[0m\u001b[1;33m.\u001b[0m\u001b[0mchdir\u001b[0m\u001b[1;33m(\u001b[0m\u001b[1;34m'..'\u001b[0m\u001b[1;33m)\u001b[0m\u001b[1;33m\u001b[0m\u001b[0m\n\u001b[0;32m      4\u001b[0m     \u001b[0mprint\u001b[0m\u001b[1;33m(\u001b[0m\u001b[1;34m\"Changing working directory to \\'SULE\\'\"\u001b[0m\u001b[1;33m)\u001b[0m\u001b[1;33m\u001b[0m\u001b[0m\n\u001b[1;32m----> 5\u001b[1;33m     \u001b[0mos\u001b[0m\u001b[1;33m.\u001b[0m\u001b[0mchdir\u001b[0m\u001b[1;33m(\u001b[0m\u001b[1;34m'SULE'\u001b[0m\u001b[1;33m)\u001b[0m\u001b[1;33m\u001b[0m\u001b[0m\n\u001b[0m\u001b[0;32m      6\u001b[0m     \u001b[0mprint\u001b[0m\u001b[1;33m(\u001b[0m\u001b[1;34m\"Current Working directory:\"\u001b[0m\u001b[1;33m,\u001b[0m\u001b[0mos\u001b[0m\u001b[1;33m.\u001b[0m\u001b[0mgetcwd\u001b[0m\u001b[1;33m(\u001b[0m\u001b[1;33m)\u001b[0m\u001b[1;33m)\u001b[0m\u001b[1;33m\u001b[0m\u001b[0m\n",
      "\u001b[1;31mFileNotFoundError\u001b[0m: [WinError 2] The system cannot find the file specified: 'SULE'"
     ]
    }
   ],
   "source": [
    "import os,os.path\n",
    "if (\"parent_dir\" not in os.getcwd()):\n",
    "    os.chdir('..')\n",
    "    print(\"Changing working directory to \\'SULE\\'\")\n",
    "    os.chdir('SULE')\n",
    "    print(\"Current Working directory:\",os.getcwd())"
   ]
  },
  {
   "cell_type": "code",
   "execution_count": 33,
   "metadata": {},
   "outputs": [
    {
     "data": {
      "text/plain": [
       "'C:\\\\Users\\\\SULE'"
      ]
     },
     "execution_count": 33,
     "metadata": {},
     "output_type": "execute_result"
    }
   ],
   "source": [
    "import os \n",
    "os.mkdir('SULE')\n",
    "os.chdir('C:\\\\Users\\\\SULE')\n",
    "os.getcwd()"
   ]
  },
  {
   "cell_type": "code",
   "execution_count": 37,
   "metadata": {},
   "outputs": [
    {
     "data": {
      "image/png": "[encoded data removed]",
      "text/plain": [
       "<matplotlib.figure.Figure at 0x6800470>"
      ]
     },
     "metadata": {},
     "output_type": "display_data"
    }
   ],
   "source": [
    "import numpy as np\n",
    "import matplotlib.pyplot as plt\n",
    "%matplotlib inline\n",
    "x = np.linspace(0, 10, 50)\n",
    "sinus = np.sin(x)\n",
    "plt.plot(x, sinus)\n",
    "plt.show()"
   ]
  },
  {
   "cell_type": "code",
   "execution_count": 38,
   "metadata": {},
   "outputs": [
    {
     "data": {
      "image/png": "[encoded data removed]",
      "text/plain": [
       "<matplotlib.figure.Figure at 0x786ad10>"
      ]
     },
     "metadata": {},
     "output_type": "display_data"
    }
   ],
   "source": [
    "import numpy as np\n",
    "from scipy.stats import f\n",
    "import matplotlib.pyplot as plt\n",
    "%matplotlib inline\n",
    "fvalues = np.linspace(.1, 5, 100)\n",
    "# pdf(x, df1, df2): Probability density function at x of F.\n",
    "plt.plot(fvalues, f.pdf(fvalues, 1, 30), 'b-', label=\"F(1, 30)\")\n",
    "plt.plot(fvalues, f.pdf(fvalues, 5, 30), 'r-', label=\"F(5, 30)\")\n",
    "plt.legend()\n",
    "# cdf(x, df1, df2): Cumulative distribution function of F.\n",
    "# ie.\n",
    "proba_at_f_inf_3 = f.cdf(3, 1, 30) # P(F(1,30) < 3)\n",
    "# ppf(q, df1, df2): Percent point function (inverse of cdf) at q of F.\n",
    "f_at_proba_inf_95 = f.ppf(.95, 1, 30) # q such P(F(1,30) < .95)\n",
    "assert f.cdf(f_at_proba_inf_95, 1, 30) == .95\n",
    "# sf(x, df1, df2): Survival function (1 - cdf) at x of F.\n",
    "proba_at_f_sup_3 = f.sf(3, 1, 30) # P(F(1,30) > 3)\n",
    "assert proba_at_f_inf_3 + proba_at_f_sup_3 == 1\n",
    "# p-value: P(F(1, 30)) < 0.05\n",
    "low_proba_fvalues = fvalues[fvalues > f_at_proba_inf_95]\n",
    "plt.fill_between(low_proba_fvalues, 0, f.pdf(low_proba_fvalues, 1, 30),\n",
    "alpha=.8, label=\"P < 0.05\")\n",
    "plt.show()"
   ]
  },
  {
   "cell_type": "code",
   "execution_count": null,
   "metadata": {},
   "outputs": [],
   "source": []
  }
 ],
 "metadata": {
  "kernelspec": {
   "display_name": "Python 3",
   "language": "python",
   "name": "python3"
  },
  "language_info": {
   "codemirror_mode": {
    "name": "ipython",
    "version": 3
   },
   "file_extension": ".py",
   "mimetype": "text/x-python",
   "name": "python",
   "nbconvert_exporter": "python",
   "pygments_lexer": "ipython3",
   "version": "3.6.4"
  }
 },
 "nbformat": 4,
 "nbformat_minor": 2
}
