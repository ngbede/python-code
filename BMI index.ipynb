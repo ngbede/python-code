{
 "cells": [
  {
   "cell_type": "code",
   "execution_count": 3,
   "metadata": {},
   "outputs": [
    {
     "name": "stdout",
     "output_type": "stream",
     "text": [
      "The program below calculates your body mass index and prints out the result.\n",
      "what is your weight (kilograms)?60\n",
      "what is your height (meters)?1.5\n",
      "Your Body Mass Index(BMI): 26.666666666666668 kg/m2\n",
      "You are overweight. Try and do some more exercise and reduce your calorie intake\n"
     ]
    }
   ],
   "source": [
    "while True: # creates a loop\n",
    "    try: # handling errors\n",
    "        print(\"The program below calculates your body mass index and prints out the result.\") # prints out intro message\n",
    "        weight_kg = float(input(\"what is your weight (kilograms)?\")) # collects user input on weight\n",
    "        height_meter = float(input(\"what is your height (meters)?\")) # collects user input on height\n",
    "        height_meter = height_meter ** 2 # raises height to the power of 2\n",
    "        weight = weight_kg / height_meter # divides weight in kg by height_meter\n",
    "        print(\"Your Body Mass Index(BMI):\",weight,\"kg/m2\") # prints your body mass index\n",
    "        if (weight < 18.5): # if bmi index is less than 18.5\n",
    "            print(\"You are underweight. Try eating some more food.\") # prints info to user\n",
    "            break # breaks out of loop\n",
    "        elif ((weight >= 18.5) and (weight <= 24.9)): # if bmi index is greater than 18.5 and lesser or equal to 24.9\n",
    "            print(\"Your weight is normal.\") # prints info to user\n",
    "            break # breaks out of loop\n",
    "        elif ((weight >= 25.0) and (weight <= 29.9)): # if bmi index is greater than or equal to 25 and lesser or equal to 29.9  \n",
    "            print(\"You are overweight. Try and do some more exercise and reduce your calorie intake\") # prints info to user\n",
    "            break # breaks out of loop\n",
    "        elif (weight >= 30.0): # if bmi index is greater or equal to 30\n",
    "            print(\"You are obese. I recommend that you visit the doctor for a weight loss surgery \\\"ASAP\\\"\")# prints info to user\n",
    "            break # breaks out of loop\n",
    "        else: # else\n",
    "            pass # pass\n",
    "    except ValueError: # except value error\n",
    "        print(\"Please input a valid input\") # prints info to user\n",
    "    except TypeError: # except type error\n",
    "        print(\"Sorry, check if your input is valid.\") # prints info to user\n",
    "    except ZeroDivisionError: # except zerodivisionerror\n",
    "        print(\"Sorry but your height/weight can not be zero\") # prints info to user \n",
    "    except: # handles other errors\n",
    "        print(\"ERROR\") # prints error\n",
    "    "
   ]
  },
  {
   "cell_type": "code",
   "execution_count": null,
   "metadata": {},
   "outputs": [],
   "source": []
  }
 ],
 "metadata": {
  "kernelspec": {
   "display_name": "Python 3",
   "language": "python",
   "name": "python3"
  },
  "language_info": {
   "codemirror_mode": {
    "name": "ipython",
    "version": 3
   },
   "file_extension": ".py",
   "mimetype": "text/x-python",
   "name": "python",
   "nbconvert_exporter": "python",
   "pygments_lexer": "ipython3",
   "version": "3.6.5"
  }
 },
 "nbformat": 4,
 "nbformat_minor": 2
}
