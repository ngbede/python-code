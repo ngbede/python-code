{
 "cells": [
  {
   "cell_type": "markdown",
   "metadata": {},
   "source": [
    "# [ ] Use the variables `F` and `C` to generate the following print outputs'''\n",
    "# 75 Fahrenheit = 23.888900 Celsius \n",
    "# 75 Fahrenheit = 23.89 Celsius \n",
    "# 75 Fahrenheit = 000023.889 Celsius \n",
    "# 75 Fahrenheit = 23.889 Celsius \n",
    "# 75 Fahrenheit = 23.889 Celsius \n",
    "# 75 Fahrenheit = 2.389E+01 Celsius \n",
    "# 75 Fahrenheit = 2.389e+01 Celsius '''\n",
    "# F = 75 \n",
    "# C = 23.8889"
   ]
  },
  {
   "cell_type": "code",
   "execution_count": 15,
   "metadata": {},
   "outputs": [
    {
     "name": "stdout",
     "output_type": "stream",
     "text": [
      "75 Fahrenheit = 23.888900 Celsius\n",
      "75 Fahrenheit = 23.89 Celsius\n",
      "75 Fahrenheit = 000023.889 Celsius\n",
      "75 Fahrenheit = 2.389E+01 Celcius\n",
      "75 Fahrenheit = 2.389e+01 Celsius\n"
     ]
    }
   ],
   "source": [
    "F = 75 # variable contains integer\n",
    "C = 23.8889 # variable contains float\n",
    "print(\"%d Fahrenheit = %2.6f Celsius\" %(F,C)) # prints formated string\n",
    "print(\"%i Fahrenheit = %2.2f Celsius\" %(F,C)) # prints formated string\n",
    "print(\"%d Fahrenheit = %010.3F Celsius\" %(F,C)) # prints formated string\n",
    "print(\"%i Fahrenheit = %2.3E Celcius\" %(F,C)) # prints formated string\n",
    "print(\"%i Fahrenheit = %2.3e Celsius\" %(F,C)) # prints formated string"
   ]
  },
  {
   "cell_type": "markdown",
   "metadata": {},
   "source": [
    "# string formatting and alignment\n",
    "# [ ] Use the string variables below to generate the following print outputs \n",
    "# HINT: Set the name formatter width to 10 characters \n",
    "# first_name = 'Tamara' \n",
    "# last_name = 'Babic' ''' \n",
    "# Name: Tamara Babic \n",
    "# Name: Tamara Babic \n",
    "# Name: Tamara Babic \n",
    "# Name: Tamara Babic \n",
    "# Name: Tamara Babic \n",
    "# Name: Tamara Babic '''"
   ]
  },
  {
   "cell_type": "code",
   "execution_count": 21,
   "metadata": {},
   "outputs": [
    {
     "name": "stdout",
     "output_type": "stream",
     "text": [
      "What is your first name:emmanuel\n",
      "What is your last name:sule\n",
      "Name: emmanuel sule\n",
      "Name:   emmanuel       sule\n",
      "Name:   emmanuelsule\n"
     ]
    }
   ],
   "source": [
    "first_name = input(\"What is your first name:\") # collects user input\n",
    "last_name = input(\"What is your last name:\") # collects user input\n",
    "print(\"Name:\",first_name,last_name) # prints first and last name\n",
    "print(\"Name: %10s %10s\" %(first_name,last_name)) # prints formated string\n",
    "print(\"Name: %10s%s\" %(first_name,last_name)) # prints formated string"
   ]
  },
  {
   "cell_type": "markdown",
   "metadata": {},
   "source": [
    "# Personnel information printout\n",
    "# [ ] The list `data` contains personnel information (Name, ID, email) \n",
    "# Write a program to print out the data as follows:\n",
    "# ''' Name ID Email -------------------------------------------------- \n",
    "# Suresh Datta 57394 suresh@example.com \n",
    "# Colette Browning 48539 colette@example.com \n",
    "# Skye Homsi 58302 skye@example.com \n",
    "# Hiroto Yamaguchi 48502 hiroto@example.com \n",
    "# Tobias Ledford 48291 tobias@example.com \n",
    "# Jin Xu 48293 jin@example.com \n",
    "# Joana Dias 23945 joana@example.com \n",
    "# Alton Derosa 85823 alton@example.com ''' \n",
    "# data = [[\"Suresh Datta\", 57394, \"suresh@example.com\"], [\"Colette Browning\", 48539, \"colette@example.com\"], [\"Skye Homsi\", 58302, \"skye@example.com\"], [\"Hiroto Yamaguchi\", 48502, \"hiroto@example.com\"], [\"Tobias Ledford\", 48291, \"tobias@example.com\", \"Tamara Babic\", 58201, \"tamara@example.com\"], [\"Jin Xu\", 48293, \"jin@example.com\"], [\"Joana Dias\", 23945, \"joana@example.com\"], [\"Alton Derosa\", 85823, \"alton@example.com\"]]"
   ]
  },
  {
   "cell_type": "code",
   "execution_count": 49,
   "metadata": {},
   "outputs": [
    {
     "name": "stdout",
     "output_type": "stream",
     "text": [
      "NAME                             ID                          EMAIL\n",
      "_____________________________________________________________________\n",
      "Suresh Datta                57394             suresh@example.com\n",
      "Colette Browning                48539            colette@example.com\n",
      "Skye Homsi                58302               skye@example.com\n",
      "Hiroto Yamaguchi                48502             hiroto@example.com\n",
      "Tobias Ledford                48291             tobias@example.com\n",
      "Tamara Babic                58201             tamara@example.com\n",
      "Jin Xu                48293                jin@example.com\n",
      "Joana Dias                23945              joana@example.com\n",
      "Alton Derosa                85823              alton@example.com\n"
     ]
    }
   ],
   "source": [
    "data = [[\"Suresh Datta\", 57394, \"suresh@example.com\"], [\"Colette Browning\", 48539, \"colette@example.com\"], [\"Skye Homsi\", 58302, \"skye@example.com\"], [\"Hiroto Yamaguchi\", 48502, \"hiroto@example.com\"], [\"Tobias Ledford\", 48291, \"tobias@example.com\"], [\"Tamara Babic\", 58201, \"tamara@example.com\"], [\"Jin Xu\", 48293, \"jin@example.com\"], [\"Joana Dias\", 23945, \"joana@example.com\"], [\"Alton Derosa\", 85823, \"alton@example.com\"]] # list contains company info\n",
    "n = \"NAME\" # variable contains string\n",
    "i_d = \"ID\" # variable contains string\n",
    "e = \"EMAIL\" # variable contains string\n",
    "print(\"%s %30s %30s\" %(n,i_d,e)) # prints formated string\n",
    "print(\"_____________________________________________________________________\") # prints line\n",
    "for dat in data: # loops through companys info\n",
    "    name = dat[0] # sets name to index zero\n",
    "    identity = dat[1] # sets identity to index 1\n",
    "    email = dat[2] # sets identity to index 1\n",
    "    print(\"%s %20i %30s\" %(name,identity,email)) # formats string"
   ]
  },
  {
   "cell_type": "code",
   "execution_count": 3,
   "metadata": {},
   "outputs": [
    {
     "name": "stdout",
     "output_type": "stream",
     "text": [
      "NAME                         ID                EMAIL        \n",
      "_____________________________________________________________\n",
      "Alton Derosa               85823         alton@example.com  \n",
      "Colette Browning           48539        colette@example.com \n",
      "Hiroto Yamaguchi           48502         hiroto@example.com \n",
      "Jin Xu                     48293          jin@example.com   \n",
      "Joana Dias                 23945         joana@example.com  \n",
      "Skye Homsi                 58302          skye@example.com  \n",
      "Suresh Datta               57394         suresh@example.com \n",
      "Tamara Babic               58201         tamara@example.com \n",
      "Tobias Ledford             48291         tobias@example.com \n"
     ]
    }
   ],
   "source": [
    "data = [[\"Suresh Datta\", 57394, \"suresh@example.com\"], [\"Colette Browning\", 48539, \"colette@example.com\"], [\"Skye Homsi\", 58302, \"skye@example.com\"], [\"Hiroto Yamaguchi\", 48502, \"hiroto@example.com\"], [\"Tobias Ledford\", 48291, \"tobias@example.com\"], [\"Tamara Babic\", 58201, \"tamara@example.com\"], [\"Jin Xu\", 48293, \"jin@example.com\"], [\"Joana Dias\", 23945, \"joana@example.com\"], [\"Alton Derosa\", 85823, \"alton@example.com\"]] # variable contains companys info\n",
    "data.sort()\n",
    "n = \"NAME\" # variable contains string\n",
    "i_d = \"ID\" # variable contains string\n",
    "e = \"EMAIL\" # variable contains string\n",
    "print(\"{:<20s}{:^20s}{:^20s}\".format(n,i_d,e)) # prints formated string \n",
    "print(\"_____________________________________________________________\") # prints line\n",
    "for dat in data: # loops through data\n",
    "    name = dat[0] # sets name to index zero\n",
    "    identity = dat[1] # sets name to index one\n",
    "    email = dat[2] # sets name to index two\n",
    "    print(\"{:<20s}{:^20d}{:^20s}\".format(name,identity,email)) # prints formated string"
   ]
  },
  {
   "cell_type": "code",
   "execution_count": null,
   "metadata": {},
   "outputs": [],
   "source": []
  }
 ],
 "metadata": {
  "kernelspec": {
   "display_name": "Python 3",
   "language": "python",
   "name": "python3"
  },
  "language_info": {
   "codemirror_mode": {
    "name": "ipython",
    "version": 3
   },
   "file_extension": ".py",
   "mimetype": "text/x-python",
   "name": "python",
   "nbconvert_exporter": "python",
   "pygments_lexer": "ipython3",
   "version": "3.6.4"
  }
 },
 "nbformat": 4,
 "nbformat_minor": 2
}
