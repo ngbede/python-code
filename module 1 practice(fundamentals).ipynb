{
 "cells": [
  {
   "cell_type": "markdown",
   "metadata": {},
   "source": [
    "# task 2"
   ]
  },
  {
   "cell_type": "code",
   "execution_count": 1,
   "metadata": {},
   "outputs": [
    {
     "name": "stdout",
     "output_type": "stream",
     "text": [
      "second character is u\n",
      "first character J\n",
      "first and last character are Jr\n",
      "J\n"
     ]
    }
   ],
   "source": [
    "planet_name = \"Jupyter\" # stores string in variable planet_name\n",
    "print(\"second character is\",planet_name[1]) # prints second character\n",
    "print(\"first character\",planet_name[0]) # prints first character\n",
    "print(\"first and last character are\",planet_name[0:7:6]) # prints first and last character\n",
    "print(planet_name[-7]) # prints first character"
   ]
  },
  {
   "cell_type": "markdown",
   "metadata": {},
   "source": [
    "# task 3"
   ]
  },
  {
   "cell_type": "code",
   "execution_count": 1,
   "metadata": {},
   "outputs": [
    {
     "name": "stdout",
     "output_type": "stream",
     "text": [
      "What is your favourite food:pounded yam and vegetable soup\n",
      "p\n",
      "o\n",
      "u\n",
      "n\n",
      "d\n",
      "e\n",
      "d\n",
      " \n",
      "y\n",
      "a\n",
      "m\n",
      " \n",
      "a\n",
      "n\n",
      "d\n",
      " \n",
      "v\n",
      "e\n",
      "g\n",
      "e\n",
      "t\n",
      "a\n",
      "b\n",
      "l\n",
      "e\n",
      " \n",
      "s\n",
      "o\n",
      "u\n",
      "p\n"
     ]
    }
   ],
   "source": [
    "fav_food = input(\"What is your favourite food:\") # collects user input\n",
    "for letters in fav_food: # loops through user input\n",
    "    print(letters) # prints characters singly on a new line"
   ]
  },
  {
   "cell_type": "code",
   "execution_count": 2,
   "metadata": {},
   "outputs": [
    {
     "name": "stdout",
     "output_type": "stream",
     "text": [
      "G-\n",
      "o-\n",
      "o-\n",
      "d-\n",
      " -\n",
      "c-\n",
      "o-\n",
      "d-\n",
      "e-\n",
      " -\n",
      "i-\n",
      "s-\n",
      " -\n",
      "c-\n",
      "o-\n",
      "m-\n",
      "m-\n",
      "e-\n",
      "n-\n",
      "t-\n",
      "e-\n",
      "d-\n",
      " -\n",
      "c-\n",
      "o-\n",
      "d-\n",
      "e-\n"
     ]
    }
   ],
   "source": [
    "work_tip = \"Good code is commented code\" # stores string in variable\n",
    "new_string = \"-\" # string stored in variable\n",
    "for words in work_tip: # loops through items in variable\n",
    "    words = words + new_string # adds - to the end of the characters\n",
    "    print(words) # prints words"
   ]
  },
  {
   "cell_type": "code",
   "execution_count": 3,
   "metadata": {},
   "outputs": [
    {
     "name": "stdout",
     "output_type": "stream",
     "text": [
      "H\n",
      "i\n",
      "r\n",
      "o\n",
      "\n",
      "i\n",
      "r\n",
      "o\n",
      "t\n",
      "o\n"
     ]
    }
   ],
   "source": [
    "name = \"Hiroto\" # stores string in variable\n",
    "for letters in name[0:4]: # loops through first five letters\n",
    "    print(letters) # prints letters\n",
    "print(\"\") # empty space\n",
    "for letters in name[1:]: # loops through name from 2nd letter till the end\n",
    "    print(letters) # prints letters"
   ]
  },
  {
   "cell_type": "markdown",
   "metadata": {},
   "source": [
    "# task 3"
   ]
  },
  {
   "cell_type": "code",
   "execution_count": 4,
   "metadata": {},
   "outputs": [
    {
     "name": "stdout",
     "output_type": "stream",
     "text": [
      "What is your first name:Emmanuel\n",
      "le?\n",
      "le?unammE?\n"
     ]
    }
   ],
   "source": [
    "first_name = input(\"What is your first name:\") # collects user input\n",
    "new_name = \"\" # variable contains empty string\n",
    "for letters in first_name[::-1]: # loops in reverse\n",
    "    new_name += letters # adds letters to new_name \n",
    "    if letters.lower() in \"e\": # if letters is contained in \"e\"\n",
    "        new_name += \"?\" # adds \"?\" to new_name\n",
    "        print(new_name) # prints new_name"
   ]
  },
  {
   "cell_type": "code",
   "execution_count": null,
   "metadata": {},
   "outputs": [],
   "source": [
    "topic = \"End violence against children!\" # variable contains string\n",
    "print(len(topic)) # prints length of variable\n",
    "print(len(topic)/2) # prints half the length of the variable"
   ]
  },
  {
   "cell_type": "code",
   "execution_count": 5,
   "metadata": {},
   "outputs": [
    {
     "data": {
      "text/plain": [
       "5"
      ]
     },
     "execution_count": 5,
     "metadata": {},
     "output_type": "execute_result"
    }
   ],
   "source": [
    "tip = \"Good code is commented code\" # variable contains string\n",
    "tip.find(\"code\") # searches for the index of \"code\""
   ]
  },
  {
   "cell_type": "code",
   "execution_count": 9,
   "metadata": {},
   "outputs": [
    {
     "name": "stdout",
     "output_type": "stream",
     "text": [
      "5\n",
      "5\n"
     ]
    }
   ],
   "source": [
    "work_tip = \"Good code is commented code\" # variable contains string\n",
    "x = work_tip.find(\"code\") # locates the index of 'code'\n",
    "code_index = work_tip.find(\"code\") #finds the index of 'code'\n",
    "print(x) # prints x\n",
    "print(code_index) # prints code_index\n",
    "if code_index == -1: # if code_index results to zero\n",
    "    print(\"not found\") # line runs when it results to False"
   ]
  },
  {
   "cell_type": "code",
   "execution_count": 10,
   "metadata": {},
   "outputs": [
    {
     "name": "stdout",
     "output_type": "stream",
     "text": [
      "there are 2 code's and 0 w's\n"
     ]
    }
   ],
   "source": [
    "work_tip = \"Good code is commented code\" # variable contains string\n",
    "print(\"there are\", work_tip.count(\"code\"), \"code's and\",work_tip.count(\"w\"),\"w's\" ) # prints info to user"
   ]
  },
  {
   "cell_type": "code",
   "execution_count": 12,
   "metadata": {},
   "outputs": [
    {
     "name": "stdout",
     "output_type": "stream",
     "text": [
      "\"i\" appears 4 times\n",
      "index of all the i's are 5\n",
      "index of all the i's are 14\n",
      "index of all the i's are 24\n",
      "index of all the i's are 26\n"
     ]
    }
   ],
   "source": [
    "code_tip = \"code is a conditonal decision\" # variable contains string\n",
    "print(\"\\\"i\\\" appears\",code_tip.count(\"i\"),\"times\") # counts the number of i's\n",
    "locate = code_tip.find(\"i\") # locates the index of 'i'\n",
    "while locate > 0: # while loop\n",
    "    print(\"index of all the i\\'s are\",locate) # prints the index of all the i's\n",
    "    locate = code_tip.find(\"i\", locate + 1) # adds the index to 1"
   ]
  },
  {
   "cell_type": "markdown",
   "metadata": {},
   "source": [
    "# task 6"
   ]
  },
  {
   "cell_type": "code",
   "execution_count": 14,
   "metadata": {},
   "outputs": [
    {
     "name": "stdout",
     "output_type": "stream",
     "text": [
      "password1234\n",
      "nxt page\n",
      "True\n"
     ]
    }
   ],
   "source": [
    "password = 1234 # variable contains integer\n",
    "x = int(input(\"password\")) # collects user input\n",
    "if x == password: # checks if input equal to password\n",
    "    print(\"nxt page\") # prints info \n",
    "else: # else \n",
    "    print(\"you are a thief\") # runs when False"
   ]
  }
 ],
 "metadata": {
  "kernelspec": {
   "display_name": "Python 3",
   "language": "python",
   "name": "python3"
  },
  "language_info": {
   "codemirror_mode": {
    "name": "ipython",
    "version": 3
   },
   "file_extension": ".py",
   "mimetype": "text/x-python",
   "name": "python",
   "nbconvert_exporter": "python",
   "pygments_lexer": "ipython3",
   "version": "3.6.4"
  }
 },
 "nbformat": 4,
 "nbformat_minor": 2
}
