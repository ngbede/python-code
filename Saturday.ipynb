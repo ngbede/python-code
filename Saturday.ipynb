{
 "cells": [
  {
   "cell_type": "code",
   "execution_count": 1,
   "metadata": {},
   "outputs": [
    {
     "name": "stdout",
     "output_type": "stream",
     "text": [
      "say something:divine\n"
     ]
    }
   ],
   "source": [
    "def yell_this():\n",
    "    words_to_yell = input(\"say something:\")\n",
    "yell_this()"
   ]
  },
  {
   "cell_type": "code",
   "execution_count": 2,
   "metadata": {},
   "outputs": [
    {
     "ename": "TypeError",
     "evalue": "check_guess() missing 1 required positional argument: 'guess'",
     "output_type": "error",
     "traceback": [
      "\u001b[1;31m---------------------------------------------------------------------------\u001b[0m",
      "\u001b[1;31mTypeError\u001b[0m                                 Traceback (most recent call last)",
      "\u001b[1;32m<ipython-input-2-7ad2f7f89e0e>\u001b[0m in \u001b[0;36m<module>\u001b[1;34m()\u001b[0m\n\u001b[0;32m      3\u001b[0m     \u001b[1;32mreturn\u001b[0m \u001b[0mx\u001b[0m\u001b[1;33m\u001b[0m\u001b[0m\n\u001b[0;32m      4\u001b[0m \u001b[1;33m\u001b[0m\u001b[0m\n\u001b[1;32m----> 5\u001b[1;33m \u001b[0mcheck_guess\u001b[0m\u001b[1;33m(\u001b[0m\u001b[1;33m)\u001b[0m\u001b[1;33m\u001b[0m\u001b[0m\n\u001b[0m\u001b[0;32m      6\u001b[0m \u001b[1;33m\u001b[0m\u001b[0m\n",
      "\u001b[1;31mTypeError\u001b[0m: check_guess() missing 1 required positional argument: 'guess'"
     ]
    }
   ],
   "source": [
    "def check_guess(guess):\n",
    "    x = guess.isalpha()\n",
    "    return x\n",
    "    \n",
    "check_guess()\n",
    "    "
   ]
  },
  {
   "cell_type": "code",
   "execution_count": null,
   "metadata": {},
   "outputs": [],
   "source": [
    "def printme( str ):\n",
    "    \"This prints a passed string into this function\"\n",
    "    print (str)\n",
    "    return\n",
    "printme(input(\"Hello:\"))"
   ]
  },
  {
   "cell_type": "code",
   "execution_count": null,
   "metadata": {},
   "outputs": [],
   "source": [
    "def print_me( str ):\n",
    "    \"This prints a passed string into this function\"\n",
    "    print (str)\n",
    "    return\n",
    "print_me(input(\"What do you want:\"))\n",
    "print_me(input(\"hello:\"))"
   ]
  },
  {
   "cell_type": "code",
   "execution_count": null,
   "metadata": {},
   "outputs": [],
   "source": [
    "def changeme( mylist ):\n",
    "    \"This changes a passed list into this function\"\n",
    "    print (\"Values inside the function before change: \", mylist)\n",
    "    mylist[2]=50\n",
    "    print (\"Values inside the function after change: \", mylist)\n",
    "    return\n",
    "changeme(\"dhd\")"
   ]
  },
  {
   "cell_type": "code",
   "execution_count": null,
   "metadata": {},
   "outputs": [],
   "source": [
    "def check_guess():\n",
    "    letter = \"K\"\n",
    "    guess = input(\"What is the lucky letter:\")\n",
    "    if guess.isalpha() == False:\n",
    "        print(\"WRONG!!!\")\n",
    "    elif guess.upper() < letter:\n",
    "            print(\"Your guess is too low\")\n",
    "    elif guess.upper() > letter:\n",
    "            print(\"Your guess is too high\")\n",
    "    elif guess.upper() == letter:\n",
    "            print(\"You are correct\")\n",
    "    return\n",
    "check_guess()"
   ]
  },
  {
   "cell_type": "code",
   "execution_count": 5,
   "metadata": {},
   "outputs": [
    {
     "name": "stdout",
     "output_type": "stream",
     "text": [
      "You have 3 trials to guess the lucky alphabet after which the game will end. GOOD LUCK!!!\n",
      "First guess:v\n",
      "Second guess:v\n",
      "Third guess:v\n",
      "Your first guess is correct. HURRAY\n"
     ]
    }
   ],
   "source": [
    "def letter_guess():\n",
    "    print(\"You have 3 trials to guess the lucky alphabet after which the game will end. GOOD LUCK!!!\")\n",
    "    correct_answer = (\"V\")\n",
    "    guess_1 = input(\"First guess:\")\n",
    "    guess_2 = input(\"Second guess:\")\n",
    "    guess_3 = input(\"Third guess:\")\n",
    "    if guess_1.isalpha() == False:\n",
    "        print(\"INVALID INPUT\")\n",
    "    elif guess_2.isalpha() == False:\n",
    "        print(\"INVALID INPUT\")\n",
    "    elif guess_3.isalpha() == False:\n",
    "        print(\"INVALID INPUT\")\n",
    "    elif guess_1.upper() == correct_answer:\n",
    "        print(\"Your first guess is correct. HURRAY\")\n",
    "    elif guess_2.upper() == correct_answer:\n",
    "        print(\"Your second guess is correct. HURRAY\")\n",
    "    elif guess_3.upper() == correct_answer:\n",
    "        print(\"Your third guess is correct. HURRAY\")\n",
    "    else:\n",
    "        print(\"        *  *  *  *        \")\n",
    "        print(\"     *             *\")\n",
    "        print(\"   *                 *\")\n",
    "        print(\"  *     *       *     *\")\n",
    "        print(\" *          ?          *\")\n",
    "        print(\" *          ?          *\")\n",
    "        print(\" *          ?          *\")\n",
    "        print(\"  *                    *\")\n",
    "        print(\"   *  **************  *\")\n",
    "        print(\"     *              *\")\n",
    "        print(\"        *  *  *  *          \")\n",
    "    return\n",
    "letter_guess()"
   ]
  },
  {
   "cell_type": "code",
   "execution_count": 6,
   "metadata": {},
   "outputs": [
    {
     "name": "stdout",
     "output_type": "stream",
     "text": [
      "Have a chat with \"Sule\" about your pet\n",
      "Say something about your pet:cat\n",
      "Your cat might be a witch according to my analysis\n"
     ]
    }
   ],
   "source": [
    "print(\"Have a chat with \\\"Sule\\\" about your pet\")\n",
    "about_pet = input(\"Say something about your pet:\")\n",
    "if \"dog\" in about_pet.lower():\n",
    "    print(\"I am sure your dog loves you\")\n",
    "elif \"cat\" in about_pet.lower():\n",
    "    print(\"Your cat might be a witch according to my analysis\")#DIVINE corrected this\n",
    "elif \"rat\" in about_pet.lower():\n",
    "    print(\"Am sure your rat loves eating cheese\")\n",
    "elif \"parrot\" in about_pet.lower():\n",
    "    print(\"Am sure your parrot loves to talk\")\n",
    "else:\n",
    "    print(\"I have nothing to say about this pet of yours\")"
   ]
  },
  {
   "cell_type": "code",
   "execution_count": 11,
   "metadata": {},
   "outputs": [
    {
     "name": "stdout",
     "output_type": "stream",
     "text": [
      "What is your favourite rainbow colour(ROYGBIV):red\n",
      "Am sure your blood is red\n"
     ]
    }
   ],
   "source": [
    "def rainbow():\n",
    "    rainbow_colours = \"R,O,Y,G,B,I,V\"\n",
    "    fav_colour = input(\"What is your favourite rainbow colour(ROYGBIV):\")\n",
    "    if \"R\" in fav_colour.upper():\n",
    "        print(\"Am sure your blood is red\")\n",
    "    elif \"O\" in fav_colour.upper():\n",
    "        print(\"Why don\\'t you eat some orange friuit\")\n",
    "    elif \"Y\" in fav_colour.upper():\n",
    "        print(\"The sun is also yellow\")\n",
    "    elif \"G\" in fav_colour.upper():\n",
    "        print(\"The grasses are green\")\n",
    "    elif \"B\" in fav_colour.upper():\n",
    "        print(\"The sky is blue\")\n",
    "    elif \"I\" in fav_colour.upper():\n",
    "        print(\"You love indigo\")#DIVINE corrected something\n",
    "    elif \"V\" in fav_colour.upper():\n",
    "        print(\"Wow violet is also my favourite rainbow colour\")\n",
    "    else:\n",
    "        print(\"That is not a rainbow colour\")\n",
    "    return\n",
    "rainbow()\n"
   ]
  },
  {
   "cell_type": "code",
   "execution_count": 19,
   "metadata": {},
   "outputs": [
    {
     "name": "stdout",
     "output_type": "stream",
     "text": [
      "What is your current age:ygeffgcbh1r7632rn  \n",
      "INVALID INPUT\n"
     ]
    }
   ],
   "source": [
    "def age_20():\n",
    "    try:\n",
    "        current_age = int(input(\"What is your current age:\"))\n",
    "        if current_age >= 20:\n",
    "            x = current_age + 20\n",
    "            print(\"You will be\",x,\"years in the next 20 years from now\")\n",
    "        elif current_age <= 20:\n",
    "            y = current_age - 15\n",
    "            print(\"You were\",y,\"years old 15 years ago\")\n",
    "        else:\n",
    "            pass\n",
    "    except ValueError:\n",
    "        print(\"INVALID INPUT\")\n",
    "    return\n",
    "age_20()"
   ]
  },
  {
   "cell_type": "code",
   "execution_count": null,
   "metadata": {},
   "outputs": [],
   "source": []
  },
  {
   "cell_type": "code",
   "execution_count": 8,
   "metadata": {},
   "outputs": [
    {
     "name": "stdout",
     "output_type": "stream",
     "text": [
      "input something:hello\n"
     ]
    },
    {
     "ename": "ValueError",
     "evalue": "invalid literal for int() with base 10: 'hello'",
     "output_type": "error",
     "traceback": [
      "\u001b[1;31m---------------------------------------------------------------------------\u001b[0m",
      "\u001b[1;31mValueError\u001b[0m                                Traceback (most recent call last)",
      "\u001b[1;32m<ipython-input-8-9f7d0132c8be>\u001b[0m in \u001b[0;36m<module>\u001b[1;34m()\u001b[0m\n\u001b[0;32m      8\u001b[0m         \u001b[0mprint\u001b[0m\u001b[1;33m(\u001b[0m\u001b[0mstr_arg\u001b[0m\u001b[1;33m)\u001b[0m\u001b[1;33m\u001b[0m\u001b[0m\n\u001b[0;32m      9\u001b[0m     \u001b[1;32mreturn\u001b[0m\u001b[1;33m\u001b[0m\u001b[0m\n\u001b[1;32m---> 10\u001b[1;33m \u001b[0mrainbow_or_age\u001b[0m\u001b[1;33m(\u001b[0m\u001b[1;33m)\u001b[0m\u001b[1;33m\u001b[0m\u001b[0m\n\u001b[0m",
      "\u001b[1;32m<ipython-input-8-9f7d0132c8be>\u001b[0m in \u001b[0;36mrainbow_or_age\u001b[1;34m()\u001b[0m\n\u001b[0;32m      1\u001b[0m \u001b[1;32mdef\u001b[0m \u001b[0mrainbow_or_age\u001b[0m\u001b[1;33m(\u001b[0m\u001b[1;33m)\u001b[0m\u001b[1;33m:\u001b[0m\u001b[1;33m\u001b[0m\u001b[0m\n\u001b[1;32m----> 2\u001b[1;33m     \u001b[0mstr_arg\u001b[0m \u001b[1;33m=\u001b[0m \u001b[0mint\u001b[0m\u001b[1;33m(\u001b[0m\u001b[0minput\u001b[0m\u001b[1;33m(\u001b[0m\u001b[1;34m\"input something:\"\u001b[0m\u001b[1;33m)\u001b[0m\u001b[1;33m)\u001b[0m\u001b[1;33m\u001b[0m\u001b[0m\n\u001b[0m\u001b[0;32m      3\u001b[0m     \u001b[1;32mif\u001b[0m \u001b[0mstr_arg\u001b[0m\u001b[1;33m.\u001b[0m\u001b[0misdigit\u001b[0m\u001b[1;33m(\u001b[0m\u001b[1;33m)\u001b[0m \u001b[1;33m==\u001b[0m \u001b[1;32mTrue\u001b[0m\u001b[1;33m:\u001b[0m\u001b[1;33m\u001b[0m\u001b[0m\n\u001b[0;32m      4\u001b[0m         \u001b[0mprint\u001b[0m\u001b[1;33m(\u001b[0m\u001b[0mstr_arg\u001b[0m\u001b[1;33m)\u001b[0m\u001b[1;33m\u001b[0m\u001b[0m\n\u001b[0;32m      5\u001b[0m     \u001b[1;32melif\u001b[0m \u001b[0mstr_arg\u001b[0m\u001b[1;33m.\u001b[0m\u001b[0misalpha\u001b[0m\u001b[1;33m(\u001b[0m\u001b[1;33m)\u001b[0m \u001b[1;33m==\u001b[0m \u001b[1;32mTrue\u001b[0m\u001b[1;33m:\u001b[0m\u001b[1;33m\u001b[0m\u001b[0m\n",
      "\u001b[1;31mValueError\u001b[0m: invalid literal for int() with base 10: 'hello'"
     ]
    }
   ],
   "source": [
    "def rainbow_or_age():\n",
    "    str_arg = input(\"input something:\")\n",
    "    if str_arg.isdigit() == True:\n",
    "        print(str_arg)\n",
    "    elif str_arg.isalpha() == True:\n",
    "        print(str_arg)\n",
    "    else:\n",
    "        print(str_arg)\n",
    "    return\n",
    "rainbow_or_age()"
   ]
  },
  {
   "cell_type": "code",
   "execution_count": 5,
   "metadata": {},
   "outputs": [
    {
     "name": "stdout",
     "output_type": "stream",
     "text": [
      "Guess which is lucky:eagle,vulture,owl,parrot,falcon,fowl,ostrich,piegon,hawk,dove,humming bird\n",
      "What is the lucky bird:chicken\n",
      "Your bird is not on the list\n"
     ]
    }
   ],
   "source": [
    "bird_names = \"Guess which is lucky:eagle,vulture,owl,parrot,falcon,fowl,ostrich,piegon,hawk,dove,humming bird\"\n",
    "bird = \"parrot\"\n",
    "print(bird_names)\n",
    "bird_guess = input(\"What is the lucky bird:\")\n",
    "if bird_guess.lower() in bird_names:\n",
    "    if bird_guess.lower() == bird:\n",
    "        print(\"Correct!\")\n",
    "    else:\n",
    "        print(\"Wrong you have two more attempts\")\n",
    "        bird_guess = input(\"What is the bird:\")\n",
    "        if bird_guess.lower() == bird:\n",
    "            print(\"Correct!\")\n",
    "        else:\n",
    "            print(\"Wrong you have one more attempt\")\n",
    "            bird_guess = input(\"What is the bird:\")\n",
    "            if bird_guess.lower() == bird:\n",
    "                print(\"Correct!\")\n",
    "            else:\n",
    "                print(\"Sorry you are out of trials.\")\n",
    "else:\n",
    "    print(\"Your bird is not on the list\")    "
   ]
  },
  {
   "cell_type": "code",
   "execution_count": 6,
   "metadata": {},
   "outputs": [
    {
     "name": "stdout",
     "output_type": "stream",
     "text": [
      "r\n",
      "r\n"
     ]
    }
   ],
   "source": [
    "x = input().lower()\n",
    "print (x)"
   ]
  },
  {
   "cell_type": "code",
   "execution_count": 9,
   "metadata": {},
   "outputs": [
    {
     "name": "stdout",
     "output_type": "stream",
     "text": [
      "Enter a word starting with'pre':6789\n",
      "It is totally invalid\n"
     ]
    }
   ],
   "source": [
    "def pre_word():\n",
    "    word = input(\"Enter a word starting with'pre':\").lower()\n",
    "    if word.startswith(\"pre\"):\n",
    "        if word.isalpha():\n",
    "            print(\"Nice word\")\n",
    "        else:\n",
    "            print(\"Not a valid \\\"pre\\\" word\")\n",
    "    else:\n",
    "        print(\"It is totally invalid\")\n",
    "    return\n",
    "pre_word()"
   ]
  },
  {
   "cell_type": "code",
   "execution_count": 24,
   "metadata": {},
   "outputs": [
    {
     "name": "stdout",
     "output_type": "stream",
     "text": [
      "Enter a word or an integer:sule\n",
      "Your input is all alphabetic\n"
     ]
    }
   ],
   "source": [
    "def str_analysis(x):\n",
    "    x = \"Wow your input is neither an integer or an alphabetic character\"\n",
    "    return x\n",
    "message = \"\"\n",
    "while message == \"\":\n",
    "    message = input(\"Enter a word or an integer:\")\n",
    "    if message.isdigit() == True:\n",
    "        if int(message) > 99:\n",
    "            print(\"Wow!\",message,\"Is a very large number\")\n",
    "        else:\n",
    "            print(\"I expected something larger than\",message)\n",
    "    if message.isdigit() != True:\n",
    "        if message.isalpha():\n",
    "            print(\"Your input is all alphabetic\")\n",
    "y = str_analysis(\"hello\")\n",
    "if message.isalpha() == False:\n",
    "    if message.isdigit() == False:\n",
    "        print(y)"
   ]
  },
  {
   "cell_type": "code",
   "execution_count": null,
   "metadata": {},
   "outputs": [],
   "source": [
    "familiar_name = input(\"Enter a name:\")\n",
    "while True:print(\"WELCOME\",familiar_name)"
   ]
  },
  {
   "cell_type": "code",
   "execution_count": null,
   "metadata": {},
   "outputs": [],
   "source": [
    "shirt_count = input(\"Enter a size(S,M,L):\")\n",
    "S = 2\n",
    "M = 4\n",
    "L = 6\n",
    "while int(shirt_count) >= 2:\n",
    "    shirt_count += shirt_count "
   ]
  },
  {
   "cell_type": "code",
   "execution_count": null,
   "metadata": {},
   "outputs": [],
   "source": [
    "message = input(\"Enter a word or an integer:\")\n",
    "if message.isdigit():\n",
    "    if int(message)  > 99 :\n",
    "        print(\"Wow that is a large number\")\n",
    "    else:\n",
    "        print(\"I thuought it will be bigger\")"
   ]
  },
  {
   "cell_type": "code",
   "execution_count": null,
   "metadata": {},
   "outputs": [],
   "source": [
    "while True:\n",
    "    message = input(\"Say something:\")\n",
    "    if message.isalpha():\n",
    "        print(\"Nice message\")\n",
    "    else:\n",
    "        print(\"Wrong\")"
   ]
  },
  {
   "cell_type": "code",
   "execution_count": null,
   "metadata": {},
   "outputs": [],
   "source": []
  }
 ],
 "metadata": {
  "kernelspec": {
   "display_name": "Python 3",
   "language": "python",
   "name": "python3"
  },
  "language_info": {
   "codemirror_mode": {
    "name": "ipython",
    "version": 3
   },
   "file_extension": ".py",
   "mimetype": "text/x-python",
   "name": "python",
   "nbconvert_exporter": "python",
   "pygments_lexer": "ipython3",
   "version": "3.6.5"
  }
 },
 "nbformat": 4,
 "nbformat_minor": 2
}
