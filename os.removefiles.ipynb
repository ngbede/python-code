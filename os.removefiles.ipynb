{
 "cells": [
  {
   "cell_type": "code",
   "execution_count": 2,
   "metadata": {},
   "outputs": [
    {
     "ename": "FileNotFoundError",
     "evalue": "[Errno 2] No such file or directory: 'parent_dir/tmp_file_to_be_deleted.txt'",
     "output_type": "error",
     "traceback": [
      "\u001b[1;31m---------------------------------------------------------------------------\u001b[0m",
      "\u001b[1;31mFileNotFoundError\u001b[0m                         Traceback (most recent call last)",
      "\u001b[1;32m<ipython-input-2-5f8a004f1400>\u001b[0m in \u001b[0;36m<module>\u001b[1;34m()\u001b[0m\n\u001b[0;32m      2\u001b[0m \u001b[1;31m# Create a file to be deleted\u001b[0m\u001b[1;33m\u001b[0m\u001b[1;33m\u001b[0m\u001b[0m\n\u001b[0;32m      3\u001b[0m \u001b[0mfile_path\u001b[0m \u001b[1;33m=\u001b[0m \u001b[1;34m\"parent_dir/tmp_file_to_be_deleted.txt\"\u001b[0m\u001b[1;33m\u001b[0m\u001b[0m\n\u001b[1;32m----> 4\u001b[1;33m \u001b[0mf\u001b[0m \u001b[1;33m=\u001b[0m \u001b[0mopen\u001b[0m\u001b[1;33m(\u001b[0m\u001b[0mfile_path\u001b[0m\u001b[1;33m,\u001b[0m \u001b[1;34m'w'\u001b[0m\u001b[1;33m)\u001b[0m\u001b[1;33m\u001b[0m\u001b[0m\n\u001b[0m\u001b[0;32m      5\u001b[0m \u001b[0mf\u001b[0m\u001b[1;33m.\u001b[0m\u001b[0mclose\u001b[0m\u001b[1;33m(\u001b[0m\u001b[1;33m)\u001b[0m\u001b[1;33m\u001b[0m\u001b[0m\n",
      "\u001b[1;31mFileNotFoundError\u001b[0m: [Errno 2] No such file or directory: 'parent_dir/tmp_file_to_be_deleted.txt'"
     ]
    }
   ],
   "source": [
    "import os \n",
    "# Create a file to be deleted \n",
    "file_path = \"parent_dir/tmp_file_to_be_deleted.txt\" \n",
    "f = open(file_path, 'w')\n",
    "f.close()"
   ]
  },
  {
   "cell_type": "code",
   "execution_count": 8,
   "metadata": {},
   "outputs": [
    {
     "ename": "FileNotFoundError",
     "evalue": "[WinError 3] The system cannot find the path specified: 'users'",
     "output_type": "error",
     "traceback": [
      "\u001b[1;31m---------------------------------------------------------------------------\u001b[0m",
      "\u001b[1;31mFileNotFoundError\u001b[0m                         Traceback (most recent call last)",
      "\u001b[1;32m<ipython-input-8-5eb2ccff908f>\u001b[0m in \u001b[0;36m<module>\u001b[1;34m()\u001b[0m\n\u001b[1;32m----> 1\u001b[1;33m \u001b[0mprint\u001b[0m\u001b[1;33m(\u001b[0m\u001b[0mos\u001b[0m\u001b[1;33m.\u001b[0m\u001b[0mlistdir\u001b[0m\u001b[1;33m(\u001b[0m\u001b[1;34m\"users\"\u001b[0m\u001b[1;33m)\u001b[0m\u001b[1;33m)\u001b[0m\u001b[1;33m\u001b[0m\u001b[0m\n\u001b[0m",
      "\u001b[1;31mFileNotFoundError\u001b[0m: [WinError 3] The system cannot find the path specified: 'users'"
     ]
    }
   ],
   "source": [
    "print(os.listdir(\"users\"))"
   ]
  },
  {
   "cell_type": "code",
   "execution_count": 9,
   "metadata": {},
   "outputs": [
    {
     "data": {
      "text/plain": [
       "'C:\\\\Users\\\\SULE'"
      ]
     },
     "execution_count": 9,
     "metadata": {},
     "output_type": "execute_result"
    }
   ],
   "source": [
    "os.getcwd()"
   ]
  },
  {
   "cell_type": "code",
   "execution_count": 13,
   "metadata": {},
   "outputs": [
    {
     "name": "stdout",
     "output_type": "stream",
     "text": [
      "Changing working dir to parent_dir\n",
      "Current working directory: C:\\Users\\SULE\\sule\n",
      "Making \"files_exercises\"\n",
      "Changing working directory to \"files_exercises\"\n",
      "Current working directory: C:\\Users\\SULE\\sule\\files_exercises\n",
      "Creating 100 text files\n",
      "Creating 5 directories\n",
      "Environment setup completed!\n",
      "Environment setup completed!\n",
      "Environment setup completed!\n",
      "Environment setup completed!\n",
      "Environment setup completed!\n"
     ]
    }
   ],
   "source": [
    "import os, random, shutil\n",
    "# Navigate to `parent_dir` directory (if not already in it)\n",
    "current_path = os.getcwd()\n",
    "if (\"parent_dir\" in current_path): \n",
    "    nb_path = current_path.split(\"parent_dir\")[0]\n",
    "else: \n",
    "    nb_path = current_path \n",
    "print(\"Changing working dir to parent_dir\") \n",
    "os.chdir(os.path.join(nb_path,'sule')) \n",
    "print(\"Current working directory:\", os.getcwd())\n",
    "# Remove the `files_exercises` directory (if it exists)\n",
    "if('files_exercises' in os.listdir()): \n",
    "    print('Removing \"files_exercises\"') \n",
    "    shutil.rmtree('files_exercises')\n",
    "# Create a new directory called `files_exercises` \n",
    "print('Making \"files_exercises\"') \n",
    "os.mkdir('files_exercises') \n",
    "# Change the working directory to `files_exercises` \n",
    "print('Changing working directory to \"files_exercises\"') \n",
    "os.chdir('files_exercises') # Display the current working directory to verify you are in the correct location \n",
    "print(\"Current working directory:\", os.getcwd()) # Create 100 text files, the first line of each file is a random number in the range [1000, 9999] \n",
    "print(\"Creating 100 text files\") \n",
    "random.seed(25000) # to get the same random numbers every time the setup runs \n",
    "for i in range(100): \n",
    "    file_name = str(i) + \".txt\" \n",
    "    f = open(file_name, 'w') \n",
    "    f.write(str(random.randint(1000, 9999)))\n",
    "    f.close() # Create 5 directories \n",
    "print(\"Creating 5 directories\") \n",
    "for i in range(1, 6): \n",
    "    os.mkdir(\"dir_\"+str(i)) \n",
    "    print(\"Environment setup completed!\")"
   ]
  },
  {
   "cell_type": "code",
   "execution_count": 15,
   "metadata": {},
   "outputs": [
    {
     "data": {
      "text/plain": [
       "'C:\\\\Users\\\\SULE\\\\sule\\\\files_exercises'"
      ]
     },
     "execution_count": 15,
     "metadata": {},
     "output_type": "execute_result"
    }
   ],
   "source": [
    "os.getcwd()"
   ]
  },
  {
   "cell_type": "code",
   "execution_count": 28,
   "metadata": {},
   "outputs": [
    {
     "ename": "TypeError",
     "evalue": "remove: path should be string, bytes or os.PathLike, not _io.TextIOWrapper",
     "output_type": "error",
     "traceback": [
      "\u001b[1;31m---------------------------------------------------------------------------\u001b[0m",
      "\u001b[1;31mTypeError\u001b[0m                                 Traceback (most recent call last)",
      "\u001b[1;32m<ipython-input-28-4c5e07c31f1e>\u001b[0m in \u001b[0;36m<module>\u001b[1;34m()\u001b[0m\n\u001b[0;32m      7\u001b[0m     \u001b[1;31m#TODO: delete the first 10 files\u001b[0m\u001b[1;33m\u001b[0m\u001b[1;33m\u001b[0m\u001b[0m\n\u001b[0;32m      8\u001b[0m \u001b[0my\u001b[0m \u001b[1;33m=\u001b[0m \u001b[0mopen\u001b[0m\u001b[1;33m(\u001b[0m\u001b[1;34m'files_exercises'\u001b[0m\u001b[1;33m,\u001b[0m\u001b[1;34m'w'\u001b[0m\u001b[1;33m)\u001b[0m\u001b[1;33m\u001b[0m\u001b[0m\n\u001b[1;32m----> 9\u001b[1;33m \u001b[0mos\u001b[0m\u001b[1;33m.\u001b[0m\u001b[0mremove\u001b[0m\u001b[1;33m(\u001b[0m\u001b[0my\u001b[0m\u001b[1;33m)\u001b[0m\u001b[1;33m\u001b[0m\u001b[0m\n\u001b[0m\u001b[0;32m     10\u001b[0m \u001b[0mprint\u001b[0m\u001b[1;33m(\u001b[0m\u001b[1;34m'Content of \"files_exercises\" after removing the files'\u001b[0m\u001b[1;33m)\u001b[0m\u001b[1;33m\u001b[0m\u001b[0m\n\u001b[0;32m     11\u001b[0m \u001b[0mprint\u001b[0m\u001b[1;33m(\u001b[0m\u001b[0mos\u001b[0m\u001b[1;33m.\u001b[0m\u001b[0mlistdir\u001b[0m\u001b[1;33m(\u001b[0m\u001b[1;33m)\u001b[0m\u001b[1;33m)\u001b[0m\u001b[1;31m# list the content of `files_exercises`\u001b[0m\u001b[1;33m\u001b[0m\u001b[0m\n",
      "\u001b[1;31mTypeError\u001b[0m: remove: path should be string, bytes or os.PathLike, not _io.TextIOWrapper"
     ]
    }
   ],
   "source": [
    "# [ ] Complete the following program to delete the first 10 files inside `files_exercises` (0.txt, 1.txt ... 9.txt) \n",
    "# Make sure the to run the environment setup code before running your own program. \n",
    "import os \n",
    "if ('files_exercises' not in os.getcwd()): \n",
    "    print(\"STOP!!!! Run the environment setup code!\") \n",
    "    print(os.listdir())  # list the content of `files_exercises` print('Content of \"files_exercises\" before removing the files')\n",
    "    #TODO: delete the first 10 files\n",
    "y = open('files_exercises','w')\n",
    "os.remove(y)\n",
    "print('Content of \"files_exercises\" after removing the files') \n",
    "print(os.listdir())# list the content of `files_exercises`"
   ]
  },
  {
   "cell_type": "code",
   "execution_count": 33,
   "metadata": {},
   "outputs": [
    {
     "name": "stdout",
     "output_type": "stream",
     "text": [
      "path does not exist\n"
     ]
    }
   ],
   "source": [
    "import os.path \n",
    "file_path = \"parent_dir/fictitious_file.txt\"\n",
    "# Removing a file \n",
    "# Check if the path exists \n",
    "if (os.path.exists(file_path)): \n",
    "    if (os.path.isfile(file_path)):\n",
    "        os.remove(file_path) \n",
    "    else:\n",
    "        print(\"Cannot remove a directory\") \n",
    "else:\n",
    "    print(\"path does not exist\")"
   ]
  },
  {
   "cell_type": "code",
   "execution_count": 35,
   "metadata": {},
   "outputs": [
    {
     "name": "stdout",
     "output_type": "stream",
     "text": [
      "say something:4\n",
      "0\n",
      "1\n",
      "2\n",
      "3\n"
     ]
    }
   ],
   "source": [
    "x = int(input(\"say something:\"))\n",
    "for t in range(x):\n",
    "    t * t\n",
    "    print(t)"
   ]
  }
 ],
 "metadata": {
  "kernelspec": {
   "display_name": "Python 3",
   "language": "python",
   "name": "python3"
  },
  "language_info": {
   "codemirror_mode": {
    "name": "ipython",
    "version": 3
   },
   "file_extension": ".py",
   "mimetype": "text/x-python",
   "name": "python",
   "nbconvert_exporter": "python",
   "pygments_lexer": "ipython3",
   "version": "3.6.4"
  }
 },
 "nbformat": 4,
 "nbformat_minor": 2
}
