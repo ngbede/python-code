{
 "cells": [
  {
   "cell_type": "code",
   "execution_count": 1,
   "metadata": {},
   "outputs": [
    {
     "name": "stdout",
     "output_type": "stream",
     "text": [
      "solid is a state of matter\n",
      "liquid is a state of matter\n",
      "gas is a state of matter\n",
      "plasma is a state of matter\n"
     ]
    }
   ],
   "source": [
    "matter_states = [\"solid\",\"liquid\",\"gas\",\"plasma\"] # list of the various states of matter\n",
    "for words in matter_states: # iterates through the list \n",
    "    print(words,\"is a state of matter\") # prints on new line with additional info"
   ]
  },
  {
   "cell_type": "code",
   "execution_count": 2,
   "metadata": {},
   "outputs": [
    {
     "name": "stdout",
     "output_type": "stream",
     "text": [
      "['turkey', 'hawk', 'chicken', 'dove', 'crow']\n",
      "\n",
      "Birds after\n",
      "turkey\n",
      "hawk\n",
      "dove\n"
     ]
    }
   ],
   "source": [
    "birds = [\"turkey\",\"hawk\",\"chicken\",\"dove\",\"crow\"] # list of birds\n",
    "print(birds) # prnts list\n",
    "print() # prints empty line\n",
    "print(\"Birds after\") # prints info\n",
    "for bird in birds: # iterates through list of birds\n",
    "    if bird.startswith(\"c\") != True: # checks if bird name starts with \"c\"\n",
    "        print(bird) # prints out names of only birds that do not start with \"c'"
   ]
  },
  {
   "cell_type": "code",
   "execution_count": 20,
   "metadata": {},
   "outputs": [
    {
     "name": "stdout",
     "output_type": "stream",
     "text": [
      "The team made 4 one pointers\n",
      "The team made 8 two pointers\n",
      "The team made 3 three pointers\n"
     ]
    }
   ],
   "source": [
    "baskets = [2,2,2,1,2,1,3,3,1,2,2,2,2,1,3] # list of numbers\n",
    "print(\"The team made\",baskets.count(1),\"one pointers\") # counts the number of one pointers and prints info\n",
    "print(\"The team made\",baskets.count(2),\"two pointers\") # counts the number of two pointers and prints info\n",
    "print(\"The team made\",baskets.count(3),\"three pointers\") # counts the number of three pointers and prints info"
   ]
  },
  {
   "cell_type": "code",
   "execution_count": 31,
   "metadata": {},
   "outputs": [
    {
     "name": "stdout",
     "output_type": "stream",
     "text": [
      "First Half\n",
      "Tuesday\n",
      "Wednesday\n",
      "February\n",
      "\n",
      "Second Half\n",
      "November\n",
      "Annual\n",
      "Calendar\n",
      "Solistice\n"
     ]
    }
   ],
   "source": [
    "spell_list = [\"Tuesday\",\"Wednesday\",\"February\",\"November\",\"Annual\",\"Calendar\",\"Solistice\"] # list of some date elements\n",
    "spell_length = len(spell_list) # stores the length of the list in spell_length\n",
    "half_1 = int(spell_length/2) # divides length by two\n",
    "print(\"First Half\") # prints info to user\n",
    "for word in range(half_1): # loops through first half\n",
    "    print(spell_list[word]) # prints first half of the list\n",
    "print() # prints empty space\n",
    "print(\"Second Half\") # prints info to user\n",
    "for words in range(half_1,spell_length): # loops through second half\n",
    "    print(spell_list[words]) # prints second half"
   ]
  },
  {
   "cell_type": "code",
   "execution_count": 32,
   "metadata": {},
   "outputs": [
    {
     "name": "stdout",
     "output_type": "stream",
     "text": [
      "HelloHelloHelloHello\n"
     ]
    }
   ],
   "source": [
    "x = \"Hello\" # x contains a string\n",
    "y = range(4) # range of x\n",
    "print(x * 4) # prints x four times"
   ]
  },
  {
   "cell_type": "code",
   "execution_count": 3,
   "metadata": {},
   "outputs": [
    {
     "name": "stdout",
     "output_type": "stream",
     "text": [
      "[20, 21, 22, 23, 24, 25, 26, 27, 28, 29]\n",
      "\n",
      "First\n",
      "20\n",
      "41\n",
      "63\n",
      "86\n",
      "110\n",
      "135\n",
      "161\n",
      "188\n",
      "216\n",
      "245\n",
      "\n",
      "Second\n",
      "20\n",
      "41\n",
      "63\n",
      "86\n",
      "110\n",
      "135\n",
      "161\n",
      "188\n",
      "216\n",
      "245\n"
     ]
    }
   ],
   "source": [
    "twenties = [] # empty string\n",
    "numbers = list(range(20,30)) # generates list of numbers from 20 to 29 and stores in a list\n",
    "new_twenties = twenties + numbers # adds two seperate lists and stores in new_twenties variable\n",
    "print(new_twenties) # prints new_twenties\n",
    "total = 0 # sets total to zero\n",
    "print() # prints empty line\n",
    "print(\"First\") # prints first\n",
    "for num in new_twenties: # iterates through list\n",
    "    total += num # adds total to individual integers\n",
    "    print(total) # prints total\n",
    "print() # empty line\n",
    "print(\"Second\") # prints second\n",
    "y = 0 # y contains 0\n",
    "for digits in range(20,30): # generates integers from 20 to 29\n",
    "    y += digits # adds y to digits\n",
    "    print(y) # prints y"
   ]
  },
  {
   "cell_type": "code",
   "execution_count": 46,
   "metadata": {},
   "outputs": [
    {
     "name": "stdout",
     "output_type": "stream",
     "text": [
      "[1, 3, 5, 7, 9, 11, 13, 15, 17, 19, 21, 23, 25]\n",
      "[25, 23, 21, 19, 17, 15, 13, 11, 9, 7, 5, 3, 1]\n"
     ]
    }
   ],
   "source": [
    "odd_numbers = list(range(1,26,2)) # list of odd numbers from 1 to 25\n",
    "print(odd_numbers) # prints odd numbers\n",
    "dec_numbers = odd_numbers # stores odd numbers in dec_numbers\n",
    "dec_numbers.reverse() # reverses the order of dec_numbers\n",
    "print(dec_numbers) # prints odd numbers in reverse"
   ]
  },
  {
   "cell_type": "code",
   "execution_count": 57,
   "metadata": {},
   "outputs": [
    {
     "name": "stdout",
     "output_type": "stream",
     "text": [
      "These are the even elements\n",
      "Helium\n",
      "Berylium\n",
      "Carbon\n",
      "Oxygen\n",
      "Neon\n",
      "Magnesium\n",
      "Silicon\n",
      "Sulphur\n",
      "Argon\n",
      "Calcium\n"
     ]
    }
   ],
   "source": [
    "# list of first 20 elements\n",
    "elements = ['Hydrogen','Helium','Lithium','Berylium','Boron','Carbon','Nitrogen','Oxygen','Fluorine','Neon','Sodium','Magnesium','Aluminium','Silicon','Phosphorus','Sulphur','Chlorine','Argon','Potassium','Calcium']\n",
    "x = len(elements) # finds the length of the list\n",
    "print(\"These are the even elements\") # prints info to user\n",
    "for element in range(1,x,2): # loops through elements that have even atomic number\n",
    "    print(elements[element]) # prints even elements"
   ]
  },
  {
   "cell_type": "code",
   "execution_count": 59,
   "metadata": {},
   "outputs": [
    {
     "name": "stdout",
     "output_type": "stream",
     "text": [
      "These are the odd elements\n",
      "Hydrogen\n",
      "Lithium\n",
      "Boron\n",
      "Nitrogen\n",
      "Fluorine\n",
      "Sodium\n",
      "Aluminium\n",
      "Phosphorus\n",
      "Chlorine\n",
      "Potassium\n",
      "Scandium\n",
      "Vanadium\n",
      "Managnese\n",
      "Cobalt\n",
      "Copper\n",
      "Gallium\n",
      "Arsenic\n",
      "Bromine\n",
      "Rubidium\n",
      "Yttrium\n"
     ]
    }
   ],
   "source": [
    "# list of first forty elements\n",
    "fourty_elements = ['Hydrogen','Helium','Lithium','Berylium','Boron','Carbon','Nitrogen','Oxygen','Fluorine','Neon','Sodium','Magnesium','Aluminium','Silicon','Phosphorus','Sulphur','Chlorine','Argon','Potassium','Calcium','Scandium','Titanium','Vanadium','Chromium','Managnese','Iron','Cobalt','Nickel','Copper','Zinc','Gallium','Germanium','Arsenic','Selenium','Bromine','Krypton','Rubidium','Strontium','Yttrium','Zicronium']\n",
    "y = len(fourty_elements) # finds the length of the list\n",
    "print(\"These are the odd elements\") # prints info to user\n",
    "for element in range(0,y,2): # loops through the odd elements\n",
    "    print(fourty_elements[element]) # prints elements having odd atomic numbers"
   ]
  },
  {
   "cell_type": "code",
   "execution_count": 61,
   "metadata": {},
   "outputs": [
    {
     "name": "stdout",
     "output_type": "stream",
     "text": [
      "[20, 21, 22, 23, 24, 25, 26, 27, 28, 29, 30, 32, 34, 36, 38, 40, 42, 44, 46, 48]\n"
     ]
    }
   ],
   "source": [
    "numbers_1 = [20,21,22,23,24,25,26,27,28,29] # list of some integers\n",
    "numbers_2 = list(range(30,50,2)) # creates a list of even nmbers from 30 to 50\n",
    "total_numbers = numbers_1 + numbers_2 # combines both lists together and saves in the same variable\n",
    "print(total_numbers) # prints new list"
   ]
  },
  {
   "cell_type": "code",
   "execution_count": 67,
   "metadata": {},
   "outputs": [
    {
     "name": "stdout",
     "output_type": "stream",
     "text": [
      "First 18 elements: ['Hydrogen', 'Helium', 'Lithium', 'Beryliumm', 'Boron', 'carbon', 'Nitrogen', 'Oxygen', 'Fluorine', 'Neon', 'Sodium', 'Magnesium', 'Aluminium', 'Silicon', 'Phosphorus', 'Sulphur', 'Chlorine', 'Argon']\n"
     ]
    }
   ],
   "source": [
    "first_row = [\"Hydrogen\",\"Helium\"] # first row of the periodic table\n",
    "second_row = [\"Lithium\",\"Beryliumm\",\"Boron\",\"carbon\",\"Nitrogen\",\"Oxygen\",\"Fluorine\",\"Neon\"] # second row of the periodic table \n",
    "third_row=[\"Sodium\",\"Magnesium\",\"Aluminium\",\"Silicon\",\"Phosphorus\",\"Sulphur\",\"Chlorine\",\"Argon\"] #third row of the periodic table\n",
    "first_row.extend(second_row) # extends the first_row by adding the second_row\n",
    "first_row.extend(third_row) # extends the first_row by adding the third_row\n",
    "print(\"First 18 elements:\",first_row) # prints first eighteen elements"
   ]
  },
  {
   "cell_type": "code",
   "execution_count": 4,
   "metadata": {},
   "outputs": [
    {
     "name": "stdout",
     "output_type": "stream",
     "text": [
      "['Jack', 'and', 'Jill', 'went', 'up', 'the', 'hill', 'To', 'fetch', 'a', 'pail', 'of', 'water']\n"
     ]
    }
   ],
   "source": [
    "jack_jill = [\"Jack\",\"and\",\"Jill\",\"went\",\"up\",\"the\",\"hill\"] # list contains a jingle\n",
    "next_line = [\"To\",\"fetch\",\"a\",\"pail\",\"of\",\"water\"] # continuation of jingle\n",
    "jack_jill.extend(next_line) # jack_jill with next_line\n",
    "print(jack_jill) # prints updated jack_jill"
   ]
  },
  {
   "cell_type": "code",
   "execution_count": 5,
   "metadata": {},
   "outputs": [
    {
     "name": "stdout",
     "output_type": "stream",
     "text": [
      "['Calcium', 'Potassium', 'Argon', 'Chlorine', 'Sulphur', 'Phosphorus', 'Silicon', 'Aluminium', 'Magnesium', 'Sodium', 'Neon', 'Fluorine', 'Oxygen', 'Nitrogen', 'Carbon', 'Boron', 'Berylium', 'Lithium', 'Helium', 'Hydrogen']\n"
     ]
    }
   ],
   "source": [
    "# list of first 20 elements\n",
    "table = ['Hydrogen','Helium','Lithium','Berylium','Boron','Carbon','Nitrogen','Oxygen','Fluorine','Neon','Sodium','Magnesium','Aluminium','Silicon','Phosphorus','Sulphur','Chlorine','Argon','Potassium','Calcium']\n",
    "table.reverse() # rverses the order of the table\n",
    "print(table) # prints table in reverse"
   ]
  },
  {
   "cell_type": "code",
   "execution_count": 80,
   "metadata": {},
   "outputs": [
    {
     "name": "stdout",
     "output_type": "stream",
     "text": [
      "['Solistice', 'Calendar', 'Annual', 'November', 'February', 'Wednesday', 'Tuesday']\n",
      "Solistice\n",
      "Wednesday\n"
     ]
    }
   ],
   "source": [
    "spell_list = [\"Tuesday\",\"Wednesday\",\"February\",\"November\",\"Annual\",\"Calendar\",\"Solistice\"] # datetime elements\n",
    "spell_list.reverse() # reverses the order of the table\n",
    "print(spell_list) # prints table in reverse\n",
    "for letters in spell_list: # loops through items in the list\n",
    "    if len(letters) > 8: # checks if the length of the items is greater than 8\n",
    "        print(letters) # prints out letters whose length is greater than eight"
   ]
  },
  {
   "cell_type": "code",
   "execution_count": 82,
   "metadata": {},
   "outputs": [
    {
     "name": "stdout",
     "output_type": "stream",
     "text": [
      "These are the elements in alphabetical order: ['Aluminium', 'Argon', 'Berylium', 'Boron', 'Calcium', 'Carbon', 'Chlorine', 'Fluorine', 'Helium', 'Hydrogen', 'Lithium', 'Magnesium', 'Neon', 'Nitrogen', 'Oxygen', 'Phosphorus', 'Potassium', 'Silicon', 'Sodium', 'Sulphur']\n"
     ]
    }
   ],
   "source": [
    "# list of first twenty elements\n",
    "hello = ['Hydrogen','Helium','Lithium','Berylium','Boron','Carbon','Nitrogen','Oxygen','Fluorine','Neon','Sodium','Magnesium','Aluminium','Silicon','Phosphorus','Sulphur','Chlorine','Argon','Potassium','Calcium']\n",
    "hello.sort() # sorts the first twenty elements in alphabetical order\n",
    "print(\"These are the elements in alphabetical order:\",hello) # prints out sorted list"
   ]
  },
  {
   "cell_type": "code",
   "execution_count": 83,
   "metadata": {},
   "outputs": [
    {
     "name": "stdout",
     "output_type": "stream",
     "text": [
      "[2, 2, 2, 1, 2, 1, 3, 3, 1, 2, 2, 2, 2, 1, 3]\n",
      "[1, 1, 1, 1, 2, 2, 2, 2, 2, 2, 2, 2, 3, 3, 3]\n"
     ]
    }
   ],
   "source": [
    "numbers_row = [2,2,2,1,2,1,3,3,1,2,2,2,2,1,3] # list of integers \n",
    "sorted_numbers_row = sorted(numbers_row) # sorts the elements inthe list and stores in a variable\n",
    "print(numbers_row) # prints unordered list\n",
    "print(sorted_numbers_row) # prints sorted list"
   ]
  },
  {
   "cell_type": "code",
   "execution_count": 11,
   "metadata": {},
   "outputs": [
    {
     "name": "stdout",
     "output_type": "stream",
     "text": [
      "DID\n",
      "YOU\n",
      "KNOW\n",
      "THAT\n",
      "THERE\n",
      "ARE\n",
      "1.4\n",
      "BILLION\n",
      "STUDENTS\n",
      "IN\n",
      "THE\n",
      "WORLD?\n"
     ]
    }
   ],
   "source": [
    "daily_fact = \"Did you know that there are 1.4 billion students in the world?\" # string of info\n",
    "y = daily_fact.split() # converts the variable of strings to a list based on the space\n",
    "for words in y: # loops through list\n",
    "    print(words.upper()) # prints items in the list in upper case"
   ]
  },
  {
   "cell_type": "code",
   "execution_count": 90,
   "metadata": {},
   "outputs": [
    {
     "name": "stdout",
     "output_type": "stream",
     "text": [
      "['It is g', '', 'd t', ' save y', 'ur c', 'de all the time']\n"
     ]
    }
   ],
   "source": [
    "code_tip = \"It is good to save your code all the time\" # string stored in variable\n",
    "a = code_tip.split(\"o\") # splits string at 'o' and stores in a variable as a list\n",
    "print(a) # prints list"
   ]
  },
  {
   "cell_type": "code",
   "execution_count": 91,
   "metadata": {},
   "outputs": [
    {
     "name": "stdout",
     "output_type": "stream",
     "text": [
      "\n",
      "RIGHT \n",
      "RAIN HAS \n",
      "RAIN\n"
     ]
    }
   ],
   "source": [
    "poem = \"bright brain has brain\" # variable contains a string\n",
    "poem_words = poem.split(\"b\") # splits string at 'b' and stores in a variable \n",
    "for word in poem_words: # loops through list\n",
    "    print(word.upper()) # prints items in upper case"
   ]
  },
  {
   "cell_type": "code",
   "execution_count": 12,
   "metadata": {},
   "outputs": [
    {
     "name": "stdout",
     "output_type": "stream",
     "text": [
      "These are the halogens: Chlorine,Fluorine,Bromine,Iodine\n"
     ]
    }
   ],
   "source": [
    "halogens = [\"Chlorine\",\"Fluorine\",\"Bromine\",\"Iodine\"] # list of some elements\n",
    "new = \",\".join(halogens) # joins list with a comma\n",
    "print(\"These are the halogens:\",new) # prints items seperated by a comma"
   ]
  },
  {
   "cell_type": "code",
   "execution_count": 13,
   "metadata": {},
   "outputs": [
    {
     "name": "stdout",
     "output_type": "stream",
     "text": [
      "['READ', 'CODE', 'ALOUD', 'OR', 'EXPLAIN', 'THE', 'CODE', 'STEP', 'BY', 'STEP', 'TO', 'A', 'PEER']\n",
      "READCODEALOUDOREXPLAINTHECODESTEPBYSTEPTOAPEER\n"
     ]
    }
   ],
   "source": [
    "code_advice = \"Read code aloud or explain the code step by step to a peer\" # variable contains a string\n",
    "words_list = code_advice.upper().split() # converts to list at empty space\n",
    "print(words_list) # prints list\n",
    "new_list = \"\".join(words_list) # joins items at empty space\n",
    "print(new_list) # prints new_list"
   ]
  },
  {
   "cell_type": "code",
   "execution_count": 4,
   "metadata": {},
   "outputs": [
    {
     "name": "stdout",
     "output_type": "stream",
     "text": [
      "D\n",
      "E\n",
      "C\n",
      "L\n",
      "E\n",
      "R\n",
      "A\n",
      "T\n",
      "I\n",
      "N\n",
      "G\n"
     ]
    }
   ],
   "source": [
    "long_word = \"declerating\"\n",
    "long_word.split()\n",
    "for alpha in long_word:\n",
    "    print(alpha.upper())"
   ]
  },
  {
   "cell_type": "code",
   "execution_count": 14,
   "metadata": {},
   "outputs": [
    {
     "name": "stdout",
     "output_type": "stream",
     "text": [
      "[\"What's the closest planet to the sun?\", 'How deep do dolphins swim?', 'What time is it?']\n",
      "What's the closest planet to the sun?\n",
      "How deep do dolphins swim?\n",
      "What time is it?\n"
     ]
    }
   ],
   "source": [
    "questions = [\"What's the closest planet to the sun?\",\"How deep do dolphins swim?\",\"What time is it?\"] # list contains questions \n",
    "\"?\".join(questions) # joins items in the list\n",
    "print(\"QUESTIONS\") # prints info\n",
    "for line in questions: # loops through items in the list\n",
    "    print(line) # prints questions on seperate line"
   ]
  },
  {
   "cell_type": "code",
   "execution_count": 17,
   "metadata": {},
   "outputs": [
    {
     "name": "stdout",
     "output_type": "stream",
     "text": [
      "calcaneus\n",
      "talus\n",
      "cuboid\n",
      "navicular\n",
      "LATERAL CUNEIFORM\n",
      "INTERMEDIATE CUNEIFORM\n",
      "MEDIAL CUNEIFORM\n"
     ]
    }
   ],
   "source": [
    "# list of bones inthe foot\n",
    "foot_bones = [\"calcaneus\",\"talus\",\"cuboid\",\"navicular\",\"lateral cuneiform\",\"intermediate cuneiform\",\"medial cuneiform\"]\n",
    "for bone in foot_bones: # loops through items in the list\n",
    "    if len(bone) > 9: # if length of item is greater than 9\n",
    "        print(bone.upper()) # prints item in upper case\n",
    "    elif len(bone) <= 9: # if bone is lesser than or equal to 9\n",
    "        print(bone.lower()) # prints bone in lower case"
   ]
  }
 ],
 "metadata": {
  "kernelspec": {
   "display_name": "Python 3",
   "language": "python",
   "name": "python3"
  },
  "language_info": {
   "codemirror_mode": {
    "name": "ipython",
    "version": 3
   },
   "file_extension": ".py",
   "mimetype": "text/x-python",
   "name": "python",
   "nbconvert_exporter": "python",
   "pygments_lexer": "ipython3",
   "version": "3.6.4"
  }
 },
 "nbformat": 4,
 "nbformat_minor": 2
}
