{
 "cells": [
  {
   "cell_type": "code",
   "execution_count": 1,
   "metadata": {},
   "outputs": [],
   "source": [
    "def hello_hi(): # creates function with 0 arguements\n",
    "    print(\"hello World\") # prints info\n",
    "    print(\"say hi\") # prints info"
   ]
  },
  {
   "cell_type": "code",
   "execution_count": 2,
   "metadata": {},
   "outputs": [
    {
     "name": "stdout",
     "output_type": "stream",
     "text": [
      "hello World\n",
      "say hi\n"
     ]
    }
   ],
   "source": [
    "hello_hi() # calls function"
   ]
  },
  {
   "cell_type": "code",
   "execution_count": 4,
   "metadata": {},
   "outputs": [],
   "source": [
    "def student_name(): # function contains 0 arguements\n",
    "    print(\"My name is Emmanuel Sule\") # prints info\n",
    "    x = input(\"what is your name:\") # collects user input\n",
    "    print(\"is this your name\",'\"'+x.upper()+'\"') # prints some additional info"
   ]
  },
  {
   "cell_type": "code",
   "execution_count": 5,
   "metadata": {},
   "outputs": [
    {
     "name": "stdout",
     "output_type": "stream",
     "text": [
      "My name is Emmanuel Sule\n",
      "what is your name:chinonso\n",
      "is this your name \"CHINONSO\"\n"
     ]
    }
   ],
   "source": [
    "student_name() # calls function"
   ]
  },
  {
   "cell_type": "code",
   "execution_count": null,
   "metadata": {},
   "outputs": [],
   "source": []
  },
  {
   "cell_type": "code",
   "execution_count": 1,
   "metadata": {},
   "outputs": [
    {
     "name": "stdout",
     "output_type": "stream",
     "text": [
      "HELLO is a string\n",
      "\"I AM A CHILD OF GOD\" is a string\n"
     ]
    }
   ],
   "source": [
    "def default_arguement(phrase = '\"I am a child of God\"'): # function contains 1 arguement and auto arguement\n",
    "    print(phrase.upper(),\"is a string\") # prints string in upper case\n",
    "default_arguement(\"Hello\") # calls function\n",
    "default_arguement() # calls function"
   ]
  },
  {
   "cell_type": "code",
   "execution_count": 19,
   "metadata": {},
   "outputs": [
    {
     "name": "stdout",
     "output_type": "stream",
     "text": [
      "Emmanuel hello I am your flight assistant\n"
     ]
    }
   ],
   "source": [
    "def msg_key(messenger_app): # creates function \n",
    "    x = messenger_app+\" \"+\"hello\" # adds some info to arguement\n",
    "    return x # returns x\n",
    "y = msg_key(\"Emmanuel\") # calls function with one arguement\n",
    "print(y, \"I am your flight assistant\") # prints some info"
   ]
  },
  {
   "cell_type": "code",
   "execution_count": 17,
   "metadata": {},
   "outputs": [
    {
     "data": {
      "text/plain": [
       "90"
      ]
     },
     "execution_count": 17,
     "metadata": {},
     "output_type": "execute_result"
    }
   ],
   "source": [
    "def simple_multiplication(value): # creates a function with zero arguements\n",
    "    return value * 2 # multiply arguement by 2 and returns\n",
    "simple_multiplication(45) # calls function"
   ]
  },
  {
   "cell_type": "code",
   "execution_count": 10,
   "metadata": {},
   "outputs": [
    {
     "name": "stdout",
     "output_type": "stream",
     "text": [
      "Name:Emmanuel Sule\n",
      "Level:100\n",
      "Matriculation Number:17010301033\n",
      "Age:17\n"
     ]
    }
   ],
   "source": [
    "def student_id(name,level,matriculation_number,age): # creates a function with four arguements\n",
    "    # adds some items to arguement\n",
    "    info = \"Name:\"+name+\"\\nLevel:\"+str(level)+\"\\nMatriculation Number:\"+str(matriculation_number)+\"\\nAge:\"+str(age) \n",
    "    return info # returns info\n",
    "details = student_id(\"Emmanuel Sule\",100,17010301033,17) # calls function\n",
    "print(details) # prints info to user"
   ]
  },
  {
   "cell_type": "code",
   "execution_count": 28,
   "metadata": {},
   "outputs": [
    {
     "data": {
      "text/plain": [
       "'0b1011010'"
      ]
     },
     "execution_count": 28,
     "metadata": {},
     "output_type": "execute_result"
    }
   ],
   "source": [
    "bin(90) # converts to binary"
   ]
  },
  {
   "cell_type": "code",
   "execution_count": 3,
   "metadata": {},
   "outputs": [
    {
     "name": "stdout",
     "output_type": "stream",
     "text": [
      "Not True means do something else\n"
     ]
    }
   ],
   "source": [
    "if not True: # if True\n",
    "    print('True means do something') # print this line\n",
    "else: # if False\n",
    "    print('Not True means do something else') # print this line"
   ]
  },
  {
   "cell_type": "code",
   "execution_count": 2,
   "metadata": {},
   "outputs": [
    {
     "name": "stdout",
     "output_type": "stream",
     "text": [
      "enjoy some tea, and perhaps try hot tea next time.\n"
     ]
    }
   ],
   "source": [
    "hot_tea = not True # hot_tea = False\n",
    "if hot_tea: # if True\n",
    "    print('enjoy some hot tea') # print this line\n",
    "else: # if False\n",
    "    print('enjoy some tea, and perhaps try hot tea next time.') # print this line"
   ]
  },
  {
   "cell_type": "code",
   "execution_count": 9,
   "metadata": {},
   "outputs": [
    {
     "name": "stdout",
     "output_type": "stream",
     "text": [
      "hello\n"
     ]
    }
   ],
   "source": [
    "someone_I_know = False # variable equals False\n",
    "if someone_I_know: # if True\n",
    "    print(\"I know that guy\") # print this line\n",
    "else: # if False\n",
    "    print(\"hello\") # print this line"
   ]
  },
  {
   "cell_type": "code",
   "execution_count": 3,
   "metadata": {},
   "outputs": [
    {
     "name": "stdout",
     "output_type": "stream",
     "text": [
      "All indications point today as being a rainy day\n"
     ]
    }
   ],
   "source": [
    "sunny_today = False # variable equal to False\n",
    "if sunny_today: # if True\n",
    "    print('According to our satelite today is going to be a suuny day') # line runs\n",
    "else: # if False\n",
    "    print(\"All indications point today as being a rainy day\") # line runs"
   ]
  },
  {
   "cell_type": "code",
   "execution_count": 14,
   "metadata": {},
   "outputs": [
    {
     "name": "stdout",
     "output_type": "stream",
     "text": [
      "Enter the title of your book:hello world\n",
      "hello world :Please format this text properly\n"
     ]
    }
   ],
   "source": [
    "favourite_book = input(\"Enter the title of your book:\") # collects user input\n",
    "if favourite_book.istitle(): # checks if input is title case\n",
    "    print(favourite_book,\":Nice way of formating your text\") # prints info to user\n",
    "else: # when False\n",
    "    print(favourite_book,\":Please format this text properly\") # prints info to user"
   ]
  },
  {
   "cell_type": "code",
   "execution_count": 1,
   "metadata": {},
   "outputs": [
    {
     "name": "stdout",
     "output_type": "stream",
     "text": [
      "What is your favourite number:5\n",
      "5 is a positive integer\n"
     ]
    }
   ],
   "source": [
    "a_number = input('What is your favourite number:') # collects user input\n",
    "if a_number.isdigit(): # checks if it is all digits\n",
    "    print(a_number, \"is a positive integer\") # prints info to user\n",
    "else: # else\n",
    "    print(a_number, \"is not a positive integer\") # prints info to user\n",
    "if a_number.isalpha(): # \n",
    "    print(a_number,\"is more of a word\")\n",
    "else:\n",
    "    pass"
   ]
  },
  {
   "cell_type": "code",
   "execution_count": 21,
   "metadata": {},
   "outputs": [
    {
     "name": "stdout",
     "output_type": "stream",
     "text": [
      "welcome is in lower case\n"
     ]
    }
   ],
   "source": [
    "test_string_1 = \"welcome\"\n",
    "test_string_2 = \"I Have $3\"\n",
    "if test_string_1.islower():\n",
    "    print(test_string_1, \"is in lower case\")\n",
    "else:\n",
    "    print(test_string_1,\"is not in lower case\")"
   ]
  },
  {
   "cell_type": "code",
   "execution_count": 31,
   "metadata": {},
   "outputs": [
    {
     "name": "stdout",
     "output_type": "stream",
     "text": [
      "welcome begins with the letter 'w'\n"
     ]
    }
   ],
   "source": [
    "def w_start_test():\n",
    "    test_string_1 = \"welcome\"\n",
    "    test_string_2 = \"I have $3\"\n",
    "    test_string_3 = \"With a function it's efficient to repeat code\"\n",
    "if test_string_1.startswith('w'):\n",
    "    print(test_string_1,\"begins with the letter 'w'\")\n",
    "else:\n",
    "    print(test_string_1,\"does not begin with the letter 'w'\")\n",
    "    "
   ]
  },
  {
   "cell_type": "code",
   "execution_count": 34,
   "metadata": {},
   "outputs": [],
   "source": [
    "w_start_test()"
   ]
  },
  {
   "cell_type": "code",
   "execution_count": null,
   "metadata": {},
   "outputs": [],
   "source": []
  }
 ],
 "metadata": {
  "kernelspec": {
   "display_name": "Python 3",
   "language": "python",
   "name": "python3"
  },
  "language_info": {
   "codemirror_mode": {
    "name": "ipython",
    "version": 3
   },
   "file_extension": ".py",
   "mimetype": "text/x-python",
   "name": "python",
   "nbconvert_exporter": "python",
   "pygments_lexer": "ipython3",
   "version": "3.6.4"
  }
 },
 "nbformat": 4,
 "nbformat_minor": 2
}
