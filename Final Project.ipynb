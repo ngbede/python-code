{
 "cells": [
  {
   "cell_type": "code",
   "execution_count": 3,
   "metadata": {},
   "outputs": [
    {
     "name": "stdout",
     "output_type": "stream",
     "text": [
      "Enter an integer or \"Q\"(to quit)4\n",
      "Enter an integer or \"Q\"(to quit)5\n",
      "Enter an integer or \"Q\"(to quit)Q\n",
      "Items \n",
      "4\n",
      "5 \n",
      "Total\n",
      " 9\n"
     ]
    }
   ],
   "source": [
    "def adding_report(arg = \"T\"): # creates a function\n",
    "    total = 0 # sets total variable to zero\n",
    "    item = \"\" # empty string\n",
    "    while True: # forever loop \n",
    "        value = input(\"Enter an integer or \\\"Q\\\"(to quit)\") # runs until user inputs a valid input\n",
    "        if value.isdigit(): # if statement\n",
    "            total += int(value) # adds user input to total\n",
    "            if \"A\" in arg.upper(): # checks if arguement starts with A\n",
    "                item += \"\\n\" + value # adds value and new line to item\n",
    "        elif value.startswith(\"q\") or value.startswith(\"Q\"): # checks if input starts with \"q\" or \"Q\"\n",
    "            if \"A\" in arg.upper(): # checks if arg starts with \"A\"\n",
    "                print(\"Items\", item, \"\\nTotal\\n\", total) # # prints message\n",
    "            if \"T\" in arg.upper(): # checks if arg starts with \"T\"\n",
    "                print(\"Total\\n\",total) # prints total message\n",
    "            break\n",
    "        else:\n",
    "            print(\"Invalid input\")\n",
    "adding_report(\"A\")"
   ]
  },
  {
   "cell_type": "code",
   "execution_count": null,
   "metadata": {},
   "outputs": [],
   "source": []
  }
 ],
 "metadata": {
  "kernelspec": {
   "display_name": "Python 3",
   "language": "python",
   "name": "python3"
  },
  "language_info": {
   "codemirror_mode": {
    "name": "ipython",
    "version": 3
   },
   "file_extension": ".py",
   "mimetype": "text/x-python",
   "name": "python",
   "nbconvert_exporter": "python",
   "pygments_lexer": "ipython3",
   "version": "3.6.4"
  }
 },
 "nbformat": 4,
 "nbformat_minor": 2
}
