{
 "cells": [
  {
   "cell_type": "code",
   "execution_count": 16,
   "metadata": {},
   "outputs": [
    {
     "name": "stdout",
     "output_type": "stream",
     "text": [
      "Shedrack is a boy?(T/F):t\n",
      "correct\n"
     ]
    }
   ],
   "source": [
    "def tf_quiz(arg_1,arg_2): # function contains two arguements\n",
    "    x = \"correct\" # x \n",
    "    return x\n",
    "question = input(\"Shedrack is a boy?(T/F):\")\n",
    "correct_answer = \"T\"\n",
    "y = tf_quiz(\"True\",\"False\")\n",
    "if question.upper() == correct_answer:\n",
    "    print(y)\n",
    "else:\n",
    "    print(\"incorrect\")"
   ]
  }
 ],
 "metadata": {
  "kernelspec": {
   "display_name": "Python 3",
   "language": "python",
   "name": "python3"
  },
  "language_info": {
   "codemirror_mode": {
    "name": "ipython",
    "version": 3
   },
   "file_extension": ".py",
   "mimetype": "text/x-python",
   "name": "python",
   "nbconvert_exporter": "python",
   "pygments_lexer": "ipython3",
   "version": "3.6.4"
  }
 },
 "nbformat": 4,
 "nbformat_minor": 2
}
