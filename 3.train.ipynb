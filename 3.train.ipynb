{
 "cells": [
  {
   "cell_type": "code",
   "execution_count": 3,
   "metadata": {},
   "outputs": [
    {
     "name": "stdout",
     "output_type": "stream",
     "text": [
      "0\n",
      "1\n",
      "2\n",
      "3\n",
      "4\n",
      "5\n"
     ]
    }
   ],
   "source": [
    "x = 6 # variable x contains integer 6\n",
    "for numbers in range(x): # loops throgh numbers from 0 to 5\n",
    "    print(numbers) # prints numbers on new lines"
   ]
  },
  {
   "cell_type": "code",
   "execution_count": 11,
   "metadata": {},
   "outputs": [
    {
     "name": "stdout",
     "output_type": "stream",
     "text": [
      "0\n",
      "1\n",
      "4\n",
      "9\n",
      "16\n",
      "25\n",
      "36\n",
      "49\n"
     ]
    }
   ],
   "source": [
    "x = 8 # x contains integer 8\n",
    "for no in range(x): # loops through x from 0 to 7\n",
    "    y = no * no # multiplys \n",
    "    print (y) # prints ouy y"
   ]
  },
  {
   "cell_type": "code",
   "execution_count": 28,
   "metadata": {},
   "outputs": [
    {
     "name": "stdout",
     "output_type": "stream",
     "text": [
      "Wednesday\n",
      "Tuesday\n",
      "February\n"
     ]
    }
   ],
   "source": [
    "spell_list = [\"Wednesday\",\"Tuesday\",\"February\",\"November\",\"Annual\",\"Calender\",\"Solstice\"] # list containing date objects\n",
    "second_half = int(len(spell_list)/2) # divides list into two halve\n",
    "for word in range(second_half): # loops through the first half\n",
    "    print(spell_list[word]) # prints out first half"
   ]
  },
  {
   "cell_type": "code",
   "execution_count": 30,
   "metadata": {},
   "outputs": [
    {
     "name": "stdout",
     "output_type": "stream",
     "text": [
      "[5, 6, 7, 8, 9, 10, 11, 12, 13, 14]\n"
     ]
    }
   ],
   "source": [
    "five_fifteen = range(5,15) # generates integers from 5 to 14\n",
    "print(list(five_fifteen)) # turns variable to a list"
   ]
  },
  {
   "cell_type": "code",
   "execution_count": null,
   "metadata": {},
   "outputs": [],
   "source": [
    "spell_list = [\"Wednesday\",\"Tuesday\",\"February\",\"November\",\"Annual\",\"Calender\",\"Solstice\"]\n",
    "y = spell_list[-1]\n",
    "new = int(len(y)/2)\n",
    "for stuff in new:\n",
    "    print()"
   ]
  }
 ],
 "metadata": {
  "kernelspec": {
   "display_name": "Python 3",
   "language": "python",
   "name": "python3"
  },
  "language_info": {
   "codemirror_mode": {
    "name": "ipython",
    "version": 3
   },
   "file_extension": ".py",
   "mimetype": "text/x-python",
   "name": "python",
   "nbconvert_exporter": "python",
   "pygments_lexer": "ipython3",
   "version": "3.6.4"
  }
 },
 "nbformat": 4,
 "nbformat_minor": 2
}
