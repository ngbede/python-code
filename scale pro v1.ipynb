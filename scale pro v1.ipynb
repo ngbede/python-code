{
 "cells": [
  {
   "cell_type": "code",
   "execution_count": null,
   "metadata": {},
   "outputs": [],
   "source": [
    "from math import ceil,sqrt\n",
    "from datetime import datetime\n",
    "from random import randint\n",
    "import os\n",
    "def dir_count():\n",
    "    current_minute = datetime.today()\n",
    "    new = int(current_minute.strftime(\"%M\"))\n",
    "    root = sqrt(new) + 15\n",
    "    rounds = ceil(root)\n",
    "    return rounds\n",
    "def name_generator():\n",
    "    cur_date = datetime.today()\n",
    "    y = str(randint(10000,50000))\n",
    "    new = cur_date.strftime(\"%m_%d_%y_\"+y)\n",
    "    return (new)\n",
    "def directory_creator(name):\n",
    "    os.mkdir(name)\n",
    "def create():\n",
    "    print(\"Number of directories to be made:\",dir_count())\n",
    "    directory_creator(name_generator())"
   ]
  },
  {
   "cell_type": "code",
   "execution_count": null,
   "metadata": {},
   "outputs": [],
   "source": [
    "create()"
   ]
  },
  {
   "cell_type": "code",
   "execution_count": 2,
   "metadata": {},
   "outputs": [
    {
     "data": {
      "text/plain": [
       "4"
      ]
     },
     "execution_count": 2,
     "metadata": {},
     "output_type": "execute_result"
    }
   ],
   "source": [
    "2 + 2"
   ]
  },
  {
   "cell_type": "code",
   "execution_count": 3,
   "metadata": {},
   "outputs": [
    {
     "data": {
      "text/plain": [
       "601"
      ]
     },
     "execution_count": 3,
     "metadata": {},
     "output_type": "execute_result"
    }
   ],
   "source": [
    "567 + 34"
   ]
  },
  {
   "cell_type": "code",
   "execution_count": null,
   "metadata": {},
   "outputs": [],
   "source": []
  }
 ],
 "metadata": {
  "kernelspec": {
   "display_name": "Python 3",
   "language": "python",
   "name": "python3"
  },
  "language_info": {
   "codemirror_mode": {
    "name": "ipython",
    "version": 3
   },
   "file_extension": ".py",
   "mimetype": "text/x-python",
   "name": "python",
   "nbconvert_exporter": "python",
   "pygments_lexer": "ipython3",
   "version": "3.6.4"
  }
 },
 "nbformat": 4,
 "nbformat_minor": 2
}
