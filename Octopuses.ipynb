{
 "cells": [
  {
   "cell_type": "code",
   "execution_count": 4,
   "metadata": {},
   "outputs": [
    {
     "name": "stdout",
     "output_type": "stream",
     "text": [
      "(T/F)Octopuses have green blood?:t\n",
      "wrong\n"
     ]
    }
   ],
   "source": [
    "def tf_quiz(answer1,answer2): # creates a function\n",
    "    ask = input(\"(T/F)Octopuses have green blood?:\") # collects user input\n",
    "    return ask # returns ask\n",
    "quiz_eval = tf_quiz(\"octopuses have green blood\",\"f\") # calls function and stores in quiz_eval\n",
    "if quiz_eval.lower() == \"f\": # checks if user input equal to \"f\"\n",
    "    print(\"correct\") # runs when True\n",
    "else: # else\n",
    "    print('wrong') # runs when False"
   ]
  },
  {
   "cell_type": "code",
   "execution_count": 3,
   "metadata": {},
   "outputs": [
    {
     "name": "stdout",
     "output_type": "stream",
     "text": [
      "Apple\n"
     ]
    }
   ],
   "source": [
    "if True: \n",
    "    if False:\n",
    "        print(\"Banana\")\n",
    "    else:\n",
    "        print(\"Apple\")\n",
    "else:\n",
    "    if True:\n",
    "        print(\"Dates\")\n",
    "    else:\n",
    "        print(\"corn\")"
   ]
  }
 ],
 "metadata": {
  "kernelspec": {
   "display_name": "Python 3",
   "language": "python",
   "name": "python3"
  },
  "language_info": {
   "codemirror_mode": {
    "name": "ipython",
    "version": 3
   },
   "file_extension": ".py",
   "mimetype": "text/x-python",
   "name": "python",
   "nbconvert_exporter": "python",
   "pygments_lexer": "ipython3",
   "version": "3.6.4"
  }
 },
 "nbformat": 4,
 "nbformat_minor": 2
}
