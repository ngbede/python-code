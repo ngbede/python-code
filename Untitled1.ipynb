{
 "cells": [
  {
   "cell_type": "code",
   "execution_count": 15,
   "metadata": {},
   "outputs": [],
   "source": [
    "def adding_report():\n",
    "    total = 0 \n",
    "    item = \"\"\n",
    "    report_type = \"\"\n",
    "    while True:\n",
    "        value = input(\"Enter an integer or \\\"Q\\\"(to quit)\")\n",
    "        if value.isdigit():\n",
    "            total += int(value)\n",
    "            if \"A\" in report_type.upper():\n",
    "                item += \"\\n\" + value \n",
    "        elif value.startswith(\"q\"):\n",
    "            if \"A\" in report_type.upper():\n",
    "                print(\"Items\", item, \"\\nTotal\\n\", total)\n",
    "            else:\n",
    "                print(\"Total\\n\",total)\n",
    "            break\n",
    "        else:\n",
    "            print(\"Invalid input\")"
   ]
  },
  {
   "cell_type": "code",
   "execution_count": 16,
   "metadata": {},
   "outputs": [
    {
     "name": "stdout",
     "output_type": "stream",
     "text": [
      "okay\n",
      "Enter an integer or \"Q\"(to quit)s\n",
      "Invalid input\n",
      "okay\n",
      "Enter an integer or \"Q\"(to quit)d\n",
      "Invalid input\n",
      "okay\n",
      "Enter an integer or \"Q\"(to quit)q\n",
      "Total\n",
      " 0\n"
     ]
    }
   ],
   "source": [
    "adding_report()"
   ]
  }
 ],
 "metadata": {
  "kernelspec": {
   "display_name": "Python 3",
   "language": "python",
   "name": "python3"
  },
  "language_info": {
   "codemirror_mode": {
    "name": "ipython",
    "version": 3
   },
   "file_extension": ".py",
   "mimetype": "text/x-python",
   "name": "python",
   "nbconvert_exporter": "python",
   "pygments_lexer": "ipython3",
   "version": "3.6.4"
  }
 },
 "nbformat": 4,
 "nbformat_minor": 2
}
