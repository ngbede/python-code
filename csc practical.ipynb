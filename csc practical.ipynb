{
 "cells": [
  {
   "cell_type": "code",
   "execution_count": 26,
   "metadata": {},
   "outputs": [
    {
     "name": "stdout",
     "output_type": "stream",
     "text": [
      "what is your name:34568\n",
      "how much do you earn:6000\n",
      "360.0\n"
     ]
    }
   ],
   "source": [
    "name = input(\"what is your name:\") # collects user input\n",
    "income = int(input(\"how much do you earn:\")) # collects user input\n",
    "if income >= 6000: # is income greater or equal to 6000\n",
    "    p = (6/100) * 6000 # six percent of income\n",
    "    print(p) # prints six percent of income as bonus\n",
    "else: # else\n",
    "    b = income + 250 # adds 250 to current income\n",
    "    print(b) # prints total salary for the month"
   ]
  },
  {
   "cell_type": "code",
   "execution_count": 21,
   "metadata": {},
   "outputs": [
    {
     "name": "stdout",
     "output_type": "stream",
     "text": [
      "an integer:6\n",
      "an integer:7\n",
      "an integer:9\n",
      "9 is the largest of the three numbers\n"
     ]
    }
   ],
   "source": [
    "a = int(input(\"an integer:\")) # collects user input\n",
    "b = int(input(\"an integer:\")) # collects user input\n",
    "c = int(input(\"an integer:\")) # collects user input\n",
    "if (a > b) and (a > c): # is a greater than both b and c\n",
    "    print(a,\"is the largest of the three numbers\") # prints info to user\n",
    "elif (b > a) and (b > c): # is b greater than both a and c\n",
    "    print(b,\"is the largest of the three numbers\") # prints info to user\n",
    "elif (c > a) and (c > b): # is c greater than both a and b\n",
    "    print(c,\"is the largest of the three numbers\") # prints info to user"
   ]
  },
  {
   "cell_type": "code",
   "execution_count": 15,
   "metadata": {},
   "outputs": [
    {
     "name": "stdout",
     "output_type": "stream",
     "text": [
      "say something:923\n",
      "923 is a prime number\n"
     ]
    }
   ],
   "source": [
    "x = int(input(\"say something:\")) # collects user input\n",
    "if (x % 2 == 0) or (x % 3 == 0): # if x is a factor of 2 and 3\n",
    "    print(x,\"is not a prime number\") # prints info to user\n",
    "elif (x % 4 == 0) or (x % 5 == 0): # if x is a factor of 4 and 5\n",
    "    print(x,\"is not a prime number\") # prints info to user\n",
    "elif (x % 6 == 0) or (x % 7 == 0): # if x is a factor of 6 and 7\n",
    "    print(x,\"is not a prime number\") # prints info to user\n",
    "elif (x % 8 == 0) or (x % 9 == 0): # if x is a factor of 8 and 9 \n",
    "    print(x,\"is not a prime number\") # prints info to user\n",
    "else: # else\n",
    "    print(x,\"is a prime number\") # prints info to user"
   ]
  },
  {
   "cell_type": "code",
   "execution_count": 20,
   "metadata": {},
   "outputs": [
    {
     "name": "stdout",
     "output_type": "stream",
     "text": [
      "enter a number4\n",
      "24\n"
     ]
    }
   ],
   "source": [
    "n = int(input(\"enter a number\")) # collects user input\n",
    "m = 1 # 1 stored in m\n",
    "f = 1 # 1 stored in f\n",
    "while True: # loop\n",
    "    m += 1 # m + 1 and stores in m\n",
    "    f = f * m # f * m and stores in f\n",
    "    if m == n: # if m equals to user input\n",
    "        print(f) # print factorial\n",
    "        break # stop"
   ]
  }
 ],
 "metadata": {
  "kernelspec": {
   "display_name": "Python 3",
   "language": "python",
   "name": "python3"
  },
  "language_info": {
   "codemirror_mode": {
    "name": "ipython",
    "version": 3
   },
   "file_extension": ".py",
   "mimetype": "text/x-python",
   "name": "python",
   "nbconvert_exporter": "python",
   "pygments_lexer": "ipython3",
   "version": "3.6.4"
  }
 },
 "nbformat": 4,
 "nbformat_minor": 2
}
