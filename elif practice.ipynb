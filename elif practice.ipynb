{
 "cells": [
  {
   "cell_type": "code",
   "execution_count": null,
   "metadata": {},
   "outputs": [],
   "source": [
    "print(\"Small t-shirt = $6\",\"\\nMedium t-shirt = $7\",\"\\nLarge t-shirt = $8\") # prints message\n",
    "size = input('(S,M,L):') # collects user input\n",
    "if size.upper() == \"S\": # if statement\n",
    "    print(\"Your stock will be avalaible in the next few hours.\") # runs when True\n",
    "elif size.upper() == \"M\": # elif statement\n",
    "    print(\"You selected a medium T-shirt which will be delivered to your address shortly.\") # runs when True\n",
    "elif size.upper() == \"L\": # elif statement\n",
    "    print(\"Wow! you are really big. Your order will be delivered soon.\") # runs when True\n",
    "else: # else statement\n",
    "    print(\"ERORR MESSAGE: Sorry your input is not in the list.\") # runs when False"
   ]
  },
  {
   "cell_type": "code",
   "execution_count": 10,
   "metadata": {},
   "outputs": [
    {
     "name": "stdout",
     "output_type": "stream",
     "text": [
      "36\n"
     ]
    }
   ],
   "source": [
    "str_number = \"11\" # variable contains a string\n",
    "str_number_2 = \"15\" # variable contains a string\n",
    "str_number_3 = 10 # variable contains an integer\n",
    "x = int(str_number) + int(str_number_2) +str_number_3 # adding objects via casting\n",
    "print(x) # prints x"
   ]
  },
  {
   "cell_type": "code",
   "execution_count": 1,
   "metadata": {},
   "outputs": [
    {
     "name": "stdout",
     "output_type": "stream",
     "text": [
      "what is the first number:8\n",
      "what is the second number0\n",
      "8\n"
     ]
    }
   ],
   "source": [
    "first_number = input(\"what is the first number:\") # collects user input\n",
    "second_number = input(\"what is the second number\") # collects user input\n",
    "output = int(first_number) + int(second_number) # Adding objects via casting\n",
    "print(output) # prints output"
   ]
  },
  {
   "cell_type": "code",
   "execution_count": 14,
   "metadata": {},
   "outputs": [
    {
     "data": {
      "text/plain": [
       "30"
      ]
     },
     "execution_count": 14,
     "metadata": {},
     "output_type": "execute_result"
    }
   ],
   "source": [
    "43 - 13 # subtraction"
   ]
  },
  {
   "cell_type": "code",
   "execution_count": 15,
   "metadata": {},
   "outputs": [
    {
     "data": {
      "text/plain": [
       "645"
      ]
     },
     "execution_count": 15,
     "metadata": {},
     "output_type": "execute_result"
    }
   ],
   "source": [
    "15 * 43 # multiplication"
   ]
  },
  {
   "cell_type": "code",
   "execution_count": 16,
   "metadata": {},
   "outputs": [
    {
     "data": {
      "text/plain": [
       "13.0"
      ]
     },
     "execution_count": 16,
     "metadata": {},
     "output_type": "execute_result"
    }
   ],
   "source": [
    "156/12 # division"
   ]
  },
  {
   "cell_type": "code",
   "execution_count": 17,
   "metadata": {},
   "outputs": [
    {
     "data": {
      "text/plain": [
       "42.0"
      ]
     },
     "execution_count": 17,
     "metadata": {},
     "output_type": "execute_result"
    }
   ],
   "source": [
    "21/0.5 # division"
   ]
  },
  {
   "cell_type": "code",
   "execution_count": 18,
   "metadata": {},
   "outputs": [
    {
     "data": {
      "text/plain": [
       "150"
      ]
     },
     "execution_count": 18,
     "metadata": {},
     "output_type": "execute_result"
    }
   ],
   "source": [
    "(111 + 84) - 45 # operator presedence"
   ]
  },
  {
   "cell_type": "code",
   "execution_count": 19,
   "metadata": {},
   "outputs": [
    {
     "data": {
      "text/plain": [
       "100"
      ]
     },
     "execution_count": 19,
     "metadata": {},
     "output_type": "execute_result"
    }
   ],
   "source": [
    "(21 + 4) * 4 # operator prsedence"
   ]
  },
  {
   "cell_type": "code",
   "execution_count": 7,
   "metadata": {},
   "outputs": [
    {
     "name": "stdout",
     "output_type": "stream",
     "text": [
      "First value:7\n",
      "Second value:3\n",
      "This is what you get after multiplying: 21\n",
      "This is what you get after division: 2.3333333333333335\n"
     ]
    }
   ],
   "source": [
    "def multiply(a,b): # creates a function\n",
    "    x = a * b  # multiplys input \n",
    "    return x # returns multiplication value\n",
    "value = input(\"First value:\") # collects user input\n",
    "value_2 = input(\"Second value:\") # collects user input\n",
    "y = multiply(int(value),int(value_2)) # casts user input into multiply function\n",
    "print('This is what you get after multiplying:',y) # prints out output\n",
    "z = int(value) / int(value_2) # cast objects and divides\n",
    "if z == int(value) / int(value_2)  : # if statement\n",
    "    print(\"This is what you get after division:\",z) # runs when True"
   ]
  },
  {
   "cell_type": "code",
   "execution_count": 2,
   "metadata": {},
   "outputs": [
    {
     "name": "stdout",
     "output_type": "stream",
     "text": [
      "enter name:felix\n",
      "Felix Congratulations, names starting with 'F' you get to go first today!\n"
     ]
    }
   ],
   "source": [
    "student_name = input(\"enter name:\").capitalize() # collects user input and makes input all upper case \n",
    "if student_name.startswith(\"F\"): # checks if name starts with F\n",
    "    print(student_name,\"Congratulations, names starting with 'F' you get to go first today!\") # runs when True\n",
    "elif student_name.startswith(\"G\"): # checks if user input starts with G\n",
    "    print(student_name,\"Congratulations, names starting with 'G' you get to go second today!\") # runs when True\n",
    "else: # else\n",
    "    print(student_name,\"please wait for students with name starting with 'F' and 'G' go first\") # runs when False"
   ]
  },
  {
   "cell_type": "code",
   "execution_count": 4,
   "metadata": {},
   "outputs": [
    {
     "data": {
      "text/plain": [
       "False"
      ]
     },
     "execution_count": 4,
     "metadata": {},
     "output_type": "execute_result"
    }
   ],
   "source": [
    "def bird_test(available): # creates a function\n",
    "    birds_available = \"parrot,eagle,crow,ostrich,vulture,owl\" # list of birds available \n",
    "    return available.lower() in birds_available # returns True if found   \n",
    "bird_test(\"fox\") # testing function"
   ]
  },
  {
   "cell_type": "code",
   "execution_count": 4,
   "metadata": {},
   "outputs": [
    {
     "name": "stdout",
     "output_type": "stream",
     "text": [
      "What bird do you want:parrot\n",
      "parrot is available for sale\n"
     ]
    }
   ],
   "source": [
    "x = input(\"What bird do you want:\") # collects user input\n",
    "if x == \"parrot\": # if statement\n",
    "    print(x,\"is available for sale\") # runs if True\n",
    "else: # else\n",
    "    print(\"We are out of \\\"\" + x +'\"') # runs if False"
   ]
  },
  {
   "cell_type": "code",
   "execution_count": 5,
   "metadata": {},
   "outputs": [
    {
     "data": {
      "text/plain": [
       "3075000.0"
      ]
     },
     "execution_count": 5,
     "metadata": {},
     "output_type": "execute_result"
    }
   ],
   "source": [
    "(100000 * 369) / 12 # operator presedence"
   ]
  }
 ],
 "metadata": {
  "kernelspec": {
   "display_name": "Python 3",
   "language": "python",
   "name": "python3"
  },
  "language_info": {
   "codemirror_mode": {
    "name": "ipython",
    "version": 3
   },
   "file_extension": ".py",
   "mimetype": "text/x-python",
   "name": "python",
   "nbconvert_exporter": "python",
   "pygments_lexer": "ipython3",
   "version": "3.6.4"
  }
 },
 "nbformat": 4,
 "nbformat_minor": 2
}
