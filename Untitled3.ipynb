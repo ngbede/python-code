{
 "cells": [
  {
   "cell_type": "code",
   "execution_count": 1,
   "metadata": {},
   "outputs": [
    {
     "name": "stdout",
     "output_type": "stream",
     "text": [
      "vulture\n",
      "parrot\n",
      "eagle\n",
      "hawk\n",
      "falcon\n",
      "owl\n"
     ]
    }
   ],
   "source": [
    "birds = [\"vulture\",\"parrot\",\"eagle\",\"hawk\",\"falcon\",\"owl\"]\n",
    "for bird in birds:\n",
    "    print(bird)"
   ]
  },
  {
   "cell_type": "code",
   "execution_count": 4,
   "metadata": {},
   "outputs": [
    {
     "name": "stdout",
     "output_type": "stream",
     "text": [
      "6\n",
      "20\n",
      "24\n",
      "28\n",
      "32\n",
      "36\n",
      "58\n"
     ]
    }
   ],
   "source": [
    "player_points = [3,10,12,14,16,18,29]\n",
    "for player in player_points:\n",
    "    print(player * 2)"
   ]
  },
  {
   "cell_type": "code",
   "execution_count": 9,
   "metadata": {},
   "outputs": [
    {
     "name": "stdout",
     "output_type": "stream",
     "text": [
      "['vulture', 'parrot', 'eagle', 'hawk', 'falcon', 'owl', 'lion', 'python']\n"
     ]
    }
   ],
   "source": [
    "birds\n",
    "long_list = birds + [\"lion\",\"python\"] \n",
    "print(long_list)"
   ]
  },
  {
   "cell_type": "code",
   "execution_count": 16,
   "metadata": {},
   "outputs": [
    {
     "name": "stdout",
     "output_type": "stream",
     "text": [
      "Benue\n",
      "Bayelsa\n",
      "Borno\n"
     ]
    }
   ],
   "source": [
    "cities = [\"Abuja\",\"Benue\",\"Cross River\",\"Delta\",\"Enugu\",\"Bayelsa\",\"Borno\"]\n",
    "for city in cities:\n",
    "    if city.startswith(\"B\"):\n",
    "        print(city)\n"
   ]
  },
  {
   "cell_type": "code",
   "execution_count": 21,
   "metadata": {},
   "outputs": [
    {
     "name": "stdout",
     "output_type": "stream",
     "text": [
      "['Abuja', 'Benue', 'Cross River', 'Delta', 'Enugu', 'Bayelsa', 'Borno']\n",
      "AbujaBenueEnugu\n",
      "Cross RiverDeltaBayelsaBorno\n"
     ]
    }
   ],
   "source": [
    "print(cities)\n",
    "u_city = \"\"\n",
    "no_u_city = \"\"\n",
    "for city in cities:\n",
    "    if \"u\" in city.lower():\n",
    "        u_city += city\n",
    "    else:\n",
    "        no_u_city += city\n",
    "print(u_city)\n",
    "print(no_u_city)"
   ]
  }
 ],
 "metadata": {
  "kernelspec": {
   "display_name": "Python 3",
   "language": "python",
   "name": "python3"
  },
  "language_info": {
   "codemirror_mode": {
    "name": "ipython",
    "version": 3
   },
   "file_extension": ".py",
   "mimetype": "text/x-python",
   "name": "python",
   "nbconvert_exporter": "python",
   "pygments_lexer": "ipython3",
   "version": "3.6.4"
  }
 },
 "nbformat": 4,
 "nbformat_minor": 2
}
