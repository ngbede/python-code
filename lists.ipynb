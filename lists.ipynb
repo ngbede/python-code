{
 "cells": [
  {
   "cell_type": "code",
   "execution_count": 3,
   "metadata": {},
   "outputs": [
    {
     "name": "stdout",
     "output_type": "stream",
     "text": [
      "['Martins', 'Sule', 'Edima', 'Mordi', 'Dideke', 'Ndong', 'Yibis', 'Biplang', 'Okopi', 'Kwaltom']\n",
      "[1, 2, 3, 4, 'abc', 'chinonso', 5.4]\n"
     ]
    }
   ],
   "source": [
    "team_names = [\"Martins\",\"Sule\",\"Edima\",\"Mordi\",\"Dideke\",\"Ndong\",\"Yibis\",\"Biplang\",\"Okopi\",\"Kwaltom\"] # list of footballers\n",
    "print(team_names) # prints team list\n",
    "items = [1,2,3,4,\"abc\",\"chinonso\",5.4] # list of some random items\n",
    "print(items) # prints items"
   ]
  },
  {
   "cell_type": "code",
   "execution_count": 5,
   "metadata": {},
   "outputs": [
    {
     "name": "stdout",
     "output_type": "stream",
     "text": [
      "['emma', 'titi', 'shedrack', 'agbenu', 'ojilima', 'ehi']\n",
      "there is no parking on emma and ojilima streets\n"
     ]
    }
   ],
   "source": [
    "streets = [\"emma\",\"titi\",\"shedrack\",\"agbenu\",\"ojilima\",\"ehi\"] # list of some street names\n",
    "print(streets) # prints street name\n",
    "print(\"there is no parking on\",streets[0],\"and\",streets[4],\"streets\") # prints out info to user"
   ]
  },
  {
   "cell_type": "code",
   "execution_count": 8,
   "metadata": {},
   "outputs": [
    {
     "name": "stdout",
     "output_type": "stream",
     "text": [
      "[1, 14, 5, 17, 24, 3, 10, 18]\n",
      "92\n"
     ]
    }
   ],
   "source": [
    "num_2 = [1,14,5,17,24,3,10,18] # list of some integers\n",
    "print(num_2) # prints out list\n",
    "print(num_2[0] + num_2[1] + num_2[2] + num_2[3] + num_2[4] + num_2[5] + num_2[6] + num_2[7]) # adds up items in the list"
   ]
  },
  {
   "cell_type": "code",
   "execution_count": 18,
   "metadata": {},
   "outputs": [
    {
     "name": "stdout",
     "output_type": "stream",
     "text": [
      "[0.1, 1, 5, 6]\n",
      "[0.1, 1, 5, 6, '$']\n"
     ]
    }
   ],
   "source": [
    "cur_values = [0.1,1,5,6,] # list of some integers\n",
    "print(cur_values) # prints out list\n",
    "cur_values.append(\"$\") # adds doolar sign to the list\n",
    "print(cur_values) # prints updated list"
   ]
  },
  {
   "cell_type": "code",
   "execution_count": 31,
   "metadata": {},
   "outputs": [
    {
     "name": "stdout",
     "output_type": "stream",
     "text": [
      "['naira', 'dollar', 'euro', 'yen', 'pounds']\n",
      "['naira', 'dollar', 'euro', 'yen', 'pounds', 'rand', 'sari']\n",
      "yo\n",
      "['naira', 'dollar', 'euro', 'yen', 'pounds', 'rand', 'sari', 'yo']\n"
     ]
    }
   ],
   "source": [
    "cur_names = [\"naira\",\"dollar\",\"euro\",\"yen\",\"pounds\"] # list of some currencies\n",
    "print(cur_names) # prints list of currencies\n",
    "cur_names.append(\"rand\") # adds the south african currency to the list \n",
    "cur_names.append(\"sari\") # adds the idian currency to the list\n",
    "print(cur_names) # prints updated list\n",
    "y = input() # coolects user input\n",
    "cur_names.append(y) # appends user input to list of currencies\n",
    "print(cur_names) # prints updated list"
   ]
  },
  {
   "cell_type": "code",
   "execution_count": 32,
   "metadata": {},
   "outputs": [],
   "source": [
    "bday_survey = \"\""
   ]
  },
  {
   "cell_type": "code",
   "execution_count": 1,
   "metadata": {},
   "outputs": [
    {
     "name": "stdout",
     "output_type": "stream",
     "text": [
      "[3, 4, 5]\n",
      "['small', 4, 5]\n"
     ]
    }
   ],
   "source": [
    "three_num = [3,4,5] # list of numbers\n",
    "print(three_num) # prints out the list\n",
    "if three_num[0] < 5: # if first item in list is greater than 5\n",
    "    three_num[0] = \"small\" # index zero will be assigned to \"small\"\n",
    "elif three_num[1] < 5: # if second item in list is less than 5\n",
    "    three_num[1] = \"wow\" # index 1 will be assigned to \"wow\"\n",
    "else: # else\n",
    "    three_num[1] = \"big boy\" # index one will be assigned to \"big boy\"\n",
    "print(three_num) # prinnts updated list"
   ]
  },
  {
   "cell_type": "code",
   "execution_count": null,
   "metadata": {},
   "outputs": [],
   "source": []
  }
 ],
 "metadata": {
  "kernelspec": {
   "display_name": "Python 3",
   "language": "python",
   "name": "python3"
  },
  "language_info": {
   "codemirror_mode": {
    "name": "ipython",
    "version": 3
   },
   "file_extension": ".py",
   "mimetype": "text/x-python",
   "name": "python",
   "nbconvert_exporter": "python",
   "pygments_lexer": "ipython3",
   "version": "3.6.4"
  }
 },
 "nbformat": 4,
 "nbformat_minor": 2
}
