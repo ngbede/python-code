{
 "cells": [
  {
   "cell_type": "code",
   "execution_count": 5,
   "metadata": {},
   "outputs": [
    {
     "name": "stdout",
     "output_type": "stream",
     "text": [
      "The time is 8 : 45 am\n",
      "8 pm\n"
     ]
    }
   ],
   "source": [
    "from datetime import time # imports time function from datetime module\n",
    "current_time = time(hour = 8,minute = 45) # input time values\n",
    "h = current_time.hour # creates an hour variable\n",
    "m = current_time.minute # creates a minutes variable\n",
    "print(\"The time is\",h,\":\",m,\"am\") # prints out time message\n",
    "print(h,\"pm\") # prints out corresponding time"
   ]
  },
  {
   "cell_type": "code",
   "execution_count": 9,
   "metadata": {},
   "outputs": [
    {
     "name": "stdout",
     "output_type": "stream",
     "text": [
      "08:45:01.000150 PM\n"
     ]
    }
   ],
   "source": [
    "from datetime import time # imports time from datetime\n",
    "t = time(8,45,1,150) # values listed in correct order\n",
    "print(t,\"PM\") # time message"
   ]
  },
  {
   "cell_type": "code",
   "execution_count": 16,
   "metadata": {},
   "outputs": [
    {
     "name": "stdout",
     "output_type": "stream",
     "text": [
      "old time: 15:10:00\n",
      "new time: 04:10:00\n"
     ]
    }
   ],
   "source": [
    "from datetime import time # imports time function from datetime module\n",
    "t3 = time(hour = 15,minute = 10,second = 0) # enter time values\n",
    "print(\"old time:\",t3) # prints out old time message\n",
    "t3 = t3.replace(hour = 4,minute = 10) # replacing the values of the previous time\n",
    "print(\"new time:\",t3) # prints new time message"
   ]
  },
  {
   "cell_type": "code",
   "execution_count": 1,
   "metadata": {},
   "outputs": [
    {
     "name": "stdout",
     "output_type": "stream",
     "text": [
      "2018-04-03\n"
     ]
    }
   ],
   "source": [
    "from datetime import date # imports date from datetime\n",
    "hi = date.today() # extracts the current date from my computer\n",
    "print(hi) # prints out the current date on my laptop"
   ]
  },
  {
   "cell_type": "code",
   "execution_count": 4,
   "metadata": {},
   "outputs": [
    {
     "name": "stdout",
     "output_type": "stream",
     "text": [
      "2012-03-12\n"
     ]
    }
   ],
   "source": [
    "from datetime import date # imports date function from the datetime module\n",
    "day = date(day = 12, month = 3, year = 2012) # date values\n",
    "print(day) # prints out date information"
   ]
  },
  {
   "cell_type": "code",
   "execution_count": 28,
   "metadata": {},
   "outputs": [
    {
     "name": "stdout",
     "output_type": "stream",
     "text": [
      "What is today:2\n",
      "what is the month:4\n",
      "According to you todays date is: 2018-04-02\n"
     ]
    }
   ],
   "source": [
    "from datetime import date # imports date function from the datetime module\n",
    "d = int(input(\"What is today:\")) # collects integer input on current day and stores in \"d\" variable\n",
    "m = int(input(\"what is the month:\")) # collects integer input on current month and stores in \"m\" variable\n",
    "day = date(day = d, month = m, year = 2018) # stores the user input in variable \"day\"\n",
    "print(\"According to you todays date is:\",day) # prints out message info"
   ]
  },
  {
   "cell_type": "code",
   "execution_count": 2,
   "metadata": {},
   "outputs": [
    {
     "name": "stdout",
     "output_type": "stream",
     "text": [
      "2012-03-28 12:55:10.000030\n"
     ]
    }
   ],
   "source": [
    "from datetime import datetime # imports the datetime function\n",
    "time = datetime(2012,3,28,12,55,10,30) # datetime values\n",
    "print(time) # prints out the values stored in the variable"
   ]
  },
  {
   "cell_type": "code",
   "execution_count": 1,
   "metadata": {},
   "outputs": [
    {
     "name": "stdout",
     "output_type": "stream",
     "text": [
      "2018-04-29 14:41:59.447190\n"
     ]
    }
   ],
   "source": [
    "from datetime import datetime # imports datetime\n",
    "x = datetime.today() # extracts the current date and time of today from the laptop\n",
    "print(x) # prints out todays date and time"
   ]
  },
  {
   "cell_type": "code",
   "execution_count": 2,
   "metadata": {},
   "outputs": [
    {
     "name": "stdout",
     "output_type": "stream",
     "text": [
      "Current time: 14 : 42 : 27 : 613979\n",
      "Current date: 2018 : 4 : 29\n"
     ]
    }
   ],
   "source": [
    "from datetime import datetime # imports the datetime function\n",
    "a = datetime.today() # assigns the function to a\n",
    "h = a.hour # specifies hour to h variable\n",
    "y = a.year # specifies year to y variable\n",
    "m = a.month # specifies month to m variable\n",
    "d = a.day # specifies day to d variable\n",
    "mt = a.minute # specifies minute to mt variable\n",
    "ms = a.microsecond # specifies microsecond to ms variable\n",
    "s = a.second # specifies second to s variable\n",
    "print('Current time:',h,\":\",mt,\":\",s,\":\",ms) # prints out only the current time\n",
    "print('Current date:',y,\":\",m,\":\",d) # prints out only the current date"
   ]
  },
  {
   "cell_type": "code",
   "execution_count": 123,
   "metadata": {},
   "outputs": [
    {
     "name": "stdout",
     "output_type": "stream",
     "text": [
      "What is the hour:3\n",
      "What is the minute:14\n",
      "2018-04-03 03:14:00\n"
     ]
    }
   ],
   "source": [
    "from datetime import date,time,datetime # impors date,time,datetime from datetime module\n",
    "h = int(input(\"What is the hour:\")) # collects user input for hour\n",
    "m = int(input(\"What is the minute:\")) # collects user input for minute\n",
    "tm = time(hour = h,minute = m) # assigns hour to h and m to minute\n",
    "day = date.today() # exttracts the current date of today\n",
    "new = datetime.combine(date = day,time = tm) # combins both user input's and todays date\n",
    "print(new) # prints out the result"
   ]
  },
  {
   "cell_type": "markdown",
   "metadata": {},
   "source": [
    "# [ ] Write a program that displays the time: (17:39:10) as: # 1) 05:39:10 PM # 2) 17:39:10"
   ]
  },
  {
   "cell_type": "code",
   "execution_count": 6,
   "metadata": {},
   "outputs": [
    {
     "name": "stdout",
     "output_type": "stream",
     "text": [
      "05:39:10 PM\n",
      "17:39:10\n"
     ]
    }
   ],
   "source": [
    "from datetime import time # imports time from datetime\n",
    "a = time(hour = 17, minute = 39, second = 10) # sets time object to desired content\n",
    "x = a.strftime(\"%I:%M:%S %p\") # formats time objects\n",
    "y = a.strftime(\"%H:%M:%S\") # formats time objects\n",
    "print(x) # prints out x\n",
    "print(y) # prints out y"
   ]
  },
  {
   "cell_type": "markdown",
   "metadata": {},
   "source": [
    "# [ ] Write a program that displays the date: (October 23rd 2018) as: # 1) Oct 23, 2018 # 2) 10/23/18 # 3) 23/October/2018 # 4) Tuesday October 23"
   ]
  },
  {
   "cell_type": "code",
   "execution_count": 15,
   "metadata": {},
   "outputs": [
    {
     "name": "stdout",
     "output_type": "stream",
     "text": [
      "Oct 23,2018\n",
      "10/23/18\n",
      "23/October/2018\n",
      "Tuesday October 23\n"
     ]
    }
   ],
   "source": [
    "from datetime import date # imports date function\n",
    "b = date(month = 10, day = 23, year = 2018) # sets date objects to desired value\n",
    "new_1 = b.strftime(\"%b %d,%Y\") # formats date objects\n",
    "new_2 = b.strftime(\"%m/%d/%y\") # formats date objects\n",
    "new_3 = b.strftime(\"%d/%B/%Y\") # formats date objects\n",
    "new_4 = b.strftime(\"%A %B %d\") # formats date objects\n",
    "print(new_1) # prints new_1\n",
    "print(new_2) # prints new_2\n",
    "print(new_3) # prints new_3\n",
    "print(new_4) # prints new_4"
   ]
  },
  {
   "cell_type": "markdown",
   "metadata": {},
   "source": [
    "# [ ] Complete the function `weekday` to return the weekday name of `some_date` # Use the function to find the weekday on which you were born"
   ]
  },
  {
   "cell_type": "code",
   "execution_count": 2,
   "metadata": {},
   "outputs": [
    {
     "name": "stdout",
     "output_type": "stream",
     "text": [
      "What day where you given birth to:15\n",
      "What is your birth month:5\n",
      "what year where you given birth to:2018\n"
     ]
    },
    {
     "data": {
      "text/plain": [
       "'You were given birth to on a Tuesday'"
      ]
     },
     "execution_count": 2,
     "metadata": {},
     "output_type": "execute_result"
    }
   ],
   "source": [
    "from datetime import date # inports the date function\n",
    "def week_day(some_day): # creating a function\n",
    "    return some_day.strftime(\"You were given birth to on a %A\") # returns message\n",
    "d = int(input(\"What day where you given birth to:\")) # collects user input on day of birth\n",
    "m = int(input(\"What is your birth month:\")) # collects user input on month of birth\n",
    "y = int(input(\"what year where you given birth to:\")) # collects user input on year of birth\n",
    "your_day = date(month = m, day = d, year = y) # stores date objects in your_day\n",
    "week_day(your_day) # calls the week_day function using user input"
   ]
  },
  {
   "cell_type": "markdown",
   "metadata": {},
   "source": [
    "# [ ] Create a `timedelta` object that contains: 2 hours, 3 minutes, and 1 week"
   ]
  },
  {
   "cell_type": "code",
   "execution_count": 36,
   "metadata": {},
   "outputs": [
    {
     "name": "stdout",
     "output_type": "stream",
     "text": [
      "7 days, 2:03:00\n"
     ]
    }
   ],
   "source": [
    "from datetime import timedelta # imports timedelta function\n",
    "td = timedelta( hours = 2, minutes = 3, weeks = 1) # sets timedelata objects\n",
    "print(td) # prints td"
   ]
  },
  {
   "cell_type": "markdown",
   "metadata": {},
   "source": [
    "# [ ] Use a `timedelta` object to calculate the total number of seconds in: 1 hour and 15 minutes"
   ]
  },
  {
   "cell_type": "code",
   "execution_count": 42,
   "metadata": {},
   "outputs": [
    {
     "name": "stdout",
     "output_type": "stream",
     "text": [
      "4500 seconds are in 1 hour 15 minutes\n"
     ]
    }
   ],
   "source": [
    "from datetime import timedelta # imports timedelta function\n",
    "sec = timedelta(hours = 1, minutes = 15) # sets timedelta objects\n",
    "sec = sec.seconds # converts to seconds\n",
    "print(sec,\"seconds are in 1 hour 15 minutes\") # prints sec"
   ]
  },
  {
   "cell_type": "markdown",
   "metadata": {},
   "source": [
    "# Use a `timedelta` object to find out how many days are left until your upcoming birthday"
   ]
  },
  {
   "cell_type": "code",
   "execution_count": 3,
   "metadata": {},
   "outputs": [
    {
     "name": "stdout",
     "output_type": "stream",
     "text": [
      "What is your birth month:7\n",
      "What is your birthday28\n",
      "Your next birthday will be in the next 97 days\n"
     ]
    }
   ],
   "source": [
    "from datetime import timedelta,date # imports timedelta and date function\n",
    "d_2 = date.today() # imports current date and time from system\n",
    "m = int(input(\"What is your birth month:\")) # collects user data\n",
    "d = int(input(\"What is your birthday\")) # collects user data\n",
    "d_1 = date(year = 2018, month = m, day = d) # sets date objects\n",
    "d_final = d_1 - d_2 # calculates time until upcoming birthday\n",
    "d_final = d_final.days # converts to days\n",
    "print(\"Your next birthday will be in the next\",d_final,\"days\") # prints info about your upcoming birthday"
   ]
  },
  {
   "cell_type": "markdown",
   "metadata": {},
   "source": [
    "# [ ] Write a program to compute the date 3 weeks before your birthday # to help you remember when to send the invitations\n",
    "# [ ] Write a program that computes the number of days from the current date till the 3 weeks reminder # 1) Create a `timedelta` object (td1) for the period between the current date and your upcoming birthday # 2) Create a `timedelta` object (td2) containing 3 weeks # 3) Use the `timedelta` objects (td) from 1 and 2 to compute the required number of days"
   ]
  },
  {
   "cell_type": "code",
   "execution_count": 2,
   "metadata": {},
   "outputs": [
    {
     "name": "stdout",
     "output_type": "stream",
     "text": [
      "What is your birth month:2\n",
      "What is your birthday:20\n",
      "What is the year of your next birthday:2019\n",
      "You have 277 days, 0:00:00 until your reminder to start sending invitation cards.\n",
      "You can start sending out invitation cards from 30th January, 2019\n"
     ]
    }
   ],
   "source": [
    "from datetime import date,timedelta # imports date and timedelta function\n",
    "from math import fabs\n",
    "current_date = date.today() # imports current date from laptop\n",
    "three_weeks = timedelta(weeks = 3) # sets timedelta objects\n",
    "b_month = int(input(\"What is your birth month:\")) # collects user data\n",
    "b_day = int(input(\"What is your birthday:\")) # collects user data\n",
    "next_birthday = int(input(\"What is the year of your next birthday:\")) # collects user data\n",
    "your_day = date(month = b_month, day = b_day, year = next_birthday) # sets date objects\n",
    "send = your_day - three_weeks # gets date three weeks before birthday\n",
    "td1 = your_day - current_date # subtracts your birthday from current date\n",
    "reminder = td1 - three_weeks # reminder\n",
    "print(\"You have\",reminder,\"until your reminder to start sending invitation cards.\") # prints message info\n",
    "print(\"You can start sending out invitation cards from\",send.strftime(\"%dth %B, %Y\")) # prints date about when to send cards"
   ]
  },
  {
   "cell_type": "markdown",
   "metadata": {},
   "source": [
    "# [ ] Write a program to find out if 4th of July of this year has passed or not"
   ]
  },
  {
   "cell_type": "code",
   "execution_count": 28,
   "metadata": {},
   "outputs": [
    {
     "name": "stdout",
     "output_type": "stream",
     "text": [
      "Sorry but we are not yet in the fourth day of the month of july.\n"
     ]
    }
   ],
   "source": [
    "from datetime import date # imports the date function\n",
    "current = date.today() # gets current dta from pc\n",
    "fourth_of_july = date(month = 7,day = 4,year = 2018) # stes date objects\n",
    "if current < fourth_of_july: # if statement\n",
    "    print(\"Sorry but we are not yet in the fourth day of the month of july.\") # message runs if statement evaluates to true\n",
    "elif current == fourth_of_july: # an elif statement\n",
    "    print(\"Welcome to the fourth day of july.\") # runs if elif results to True\n",
    "else: # else\n",
    "    print(\"Sorry but july 4th has already passed.\") # runs unless it results to False"
   ]
  },
  {
   "cell_type": "code",
   "execution_count": 39,
   "metadata": {},
   "outputs": [
    {
     "name": "stdout",
     "output_type": "stream",
     "text": [
      "Person 1 please what is your name:e\n",
      "Person 2 what is your name:e\n",
      "Person 1 please what is the day of your birth?3\n",
      "Person 1 what is your month of birth?4\n",
      "Person 1 what is your year of birth?1000\n",
      "Person 2 please what is the day of your birth?2\n",
      "Person 2 what is your month of birth?4\n",
      "Person 2 what is your year of birth?2000\n",
      "E is older than E\n"
     ]
    }
   ],
   "source": [
    "from datetime import date # imports date function\n",
    "first = input(\"Person 1 please what is your name:\") # collects user input\n",
    "second = input(\"Person 2 what is your name:\") # collects user input\n",
    "d_1 = int(input(\"Person 1 please what is the day of your birth?\")) # collects user input\n",
    "m_1 = int(input(\"Person 1 what is your month of birth?\")) # collects user input\n",
    "y_1 = int(input(\"Person 1 what is your year of birth?\")) # collects user input\n",
    "d_2 = int(input(\"Person 2 please what is the day of your birth?\")) # collects user input\n",
    "m_2 = int(input(\"Person 2 what is your month of birth?\")) # collects user input\n",
    "y_2 = int(input(\"Person 2 what is your year of birth?\")) # collects user input\n",
    "person_1 = date(month = m_1, day = d_1, year = y_1) # stes date objects\n",
    "person_2 = date(month = m_2, day = d_2, year = y_2) # stes date objects\n",
    "if person_1 < person_2: # if statement\n",
    "    print(first.title(),\"is older than\",second.title()) # runs if True\n",
    "elif person_1 == person_2: # elif statement\n",
    "    print(first.title(),\"and\",second.title(),\"are both the same age.\") # runs if True\n",
    "elif person_2 < person_1: # elif statement \n",
    "    print(second.title(),\"is older then\",first.title()) # runs if True"
   ]
  },
  {
   "cell_type": "markdown",
   "metadata": {},
   "source": [
    "# [ ] Complete the following program to find out if you are closer to the current year's June or December solstice # Define today's date now = datetime.today() # Define the December solstice december_solstice = datetime(month = 12, day = 21, year = now.year) # Define the June solstice june_solstice = datetime(month = 6, day = 21, year = now.year) # Find out which solstice is closer"
   ]
  },
  {
   "cell_type": "code",
   "execution_count": 62,
   "metadata": {},
   "outputs": [
    {
     "name": "stdout",
     "output_type": "stream",
     "text": [
      "The June Solstice is closer to you.\n"
     ]
    }
   ],
   "source": [
    "from datetime import datetime # imports datetime function\n",
    "date_now = datetime.today() # collects current dta e from pc\n",
    "december_solstice = datetime(month = 12, day = 21, year = now.year) # sets datetime objects\n",
    "june_solstice = datetime(month =6, day = 21, year = now.year) # stes datetime objects\n",
    "if date_now < june_solstice: # if statement\n",
    "    if date_now < december_solstice: # nested if statement\n",
    "        print(\"The June Solstice is closer to you.\") # runs when True\n",
    "elif date_now < december_solstice: # elif statement\n",
    "    if date_now > june_solstice: # nested if statement\n",
    "        print(\"The December Solstice is closer to you.\") # runs when True"
   ]
  },
  {
   "cell_type": "code",
   "execution_count": 3,
   "metadata": {},
   "outputs": [
    {
     "data": {
      "text/plain": [
       "12.0"
      ]
     },
     "execution_count": 3,
     "metadata": {},
     "output_type": "execute_result"
    }
   ],
   "source": [
    "from math import fabs # imports absolute value\n",
    "fabs(-12) # runs absolute value\n"
   ]
  },
  {
   "cell_type": "code",
   "execution_count": 1,
   "metadata": {},
   "outputs": [
    {
     "data": {
      "text/plain": [
       "334"
      ]
     },
     "execution_count": 1,
     "metadata": {},
     "output_type": "execute_result"
    }
   ],
   "source": [
    "216+118"
   ]
  }
 ],
 "metadata": {
  "kernelspec": {
   "display_name": "Python 3",
   "language": "python",
   "name": "python3"
  },
  "language_info": {
   "codemirror_mode": {
    "name": "ipython",
    "version": 3
   },
   "file_extension": ".py",
   "mimetype": "text/x-python",
   "name": "python",
   "nbconvert_exporter": "python",
   "pygments_lexer": "ipython3",
   "version": "3.6.4"
  }
 },
 "nbformat": 4,
 "nbformat_minor": 2
}
