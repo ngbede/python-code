{
 "cells": [
  {
   "cell_type": "code",
   "execution_count": 11,
   "metadata": {
    "scrolled": true
   },
   "outputs": [
    {
     "name": "stdout",
     "output_type": "stream",
     "text": [
      "What is your  favourite \"Quote\":where ever you go go with your heart\n",
      "WHERE\n",
      "YOU\n",
      "WITH\n",
      "YOUR\n"
     ]
    }
   ],
   "source": [
    "quote = input(\"What is your  favourite \\\"Quote\\\":\") # collects user input\n",
    "word = \"\" # variable contains empty string\n",
    "for characters in quote: # loops through quote\n",
    "    if characters.isalpha(): # checks if characters are all alphabetical\n",
    "        word += characters # adds word to characters\n",
    "    else: # else\n",
    "        if word[0].upper() > \"G\": # nested if checks if index zero is greater than \"G\" alphabeticaly\n",
    "            print(word.upper()) # prints word in upper case\n",
    "            word = \"\" # word contains empty string\n",
    "        else: # else\n",
    "            word = \"\" # word contains empty string\n",
    "            if word.lower() > \"g\": # checks if \n",
    "                print(word.upper())"
   ]
  }
 ],
 "metadata": {
  "kernelspec": {
   "display_name": "Python 3",
   "language": "python",
   "name": "python3"
  },
  "language_info": {
   "codemirror_mode": {
    "name": "ipython",
    "version": 3
   },
   "file_extension": ".py",
   "mimetype": "text/x-python",
   "name": "python",
   "nbconvert_exporter": "python",
   "pygments_lexer": "ipython3",
   "version": "3.6.4"
  }
 },
 "nbformat": 4,
 "nbformat_minor": 2
}
