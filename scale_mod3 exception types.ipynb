{
 "cells": [
  {
   "cell_type": "code",
   "execution_count": 1,
   "metadata": {},
   "outputs": [
    {
     "name": "stdout",
     "output_type": "stream",
     "text": [
      "Cannot divide by zero!\n",
      "Program is still running\n"
     ]
    }
   ],
   "source": [
    "try: # try the folllowing code that may result in error\n",
    "    5/0 # code line returns zerodivisionerror\n",
    "except ZeroDivisionError: # except that error type\n",
    "    print(\"Cannot divide by zero!\") # prints error message\n",
    "print(\"Program is still running\") # prints info to user"
   ]
  },
  {
   "cell_type": "markdown",
   "metadata": {},
   "source": [
    "Handling multiple exceptions The following example shows a program that divides all the elements of a list by their associated indices. You can see that when an exception is raised, the program ignores the rest of the code inside the tryblock (print(\"print executed\")), jumps to the relevant except code block, and executes it. Then the program continues normal execution, so it goes through the next loop iteration and executes the tryblock again."
   ]
  },
  {
   "cell_type": "code",
   "execution_count": 3,
   "metadata": {},
   "outputs": [
    {
     "name": "stdout",
     "output_type": "stream",
     "text": [
      "Cannot divide strings\n",
      "5.0\n",
      "print executed\n",
      "6.0\n",
      "print executed\n",
      "Cannot access out of range elements\n",
      "Cannot access out of range elements\n"
     ]
    }
   ],
   "source": [
    "lst = ['text', 5, 12] # list of some info\n",
    "for i in range(5): # iterates through range\n",
    "    try: # try\n",
    "        print(lst[i] / i) # divides item in list by itself\n",
    "        print(\"print executed\") # prints info to user\n",
    "    except TypeError: # except typeerror\n",
    "        print(\"Cannot divide strings\") # prints line\n",
    "    except IndexError: # except indexerror\n",
    "        print(\"Cannot access out of range elements\") # prints line"
   ]
  },
  {
   "cell_type": "markdown",
   "metadata": {},
   "source": [
    "Handling unexpected exceptions If a program encounters unhandled exceptions, it will terminate and display an error message."
   ]
  },
  {
   "cell_type": "code",
   "execution_count": 6,
   "metadata": {},
   "outputs": [
    {
     "name": "stdout",
     "output_type": "stream",
     "text": [
      "Cannot divide by zero!\n"
     ]
    }
   ],
   "source": [
    "x = [5] # list contains one item\n",
    "for num in x: # for num in range of x \n",
    "    try: # try\n",
    "        num / 0 # number divided by zero \n",
    "    except ZeroDivisionError: # except zerodivisionerror\n",
    "        print(\"Cannot divide by zero!\") # print line\n"
   ]
  },
  {
   "cell_type": "code",
   "execution_count": 9,
   "metadata": {},
   "outputs": [
    {
     "name": "stdout",
     "output_type": "stream",
     "text": [
      "Unexpected error\n"
     ]
    }
   ],
   "source": [
    "x = [5] # list contains 1 item\n",
    "try: # try\n",
    "    x / 0 # divides by zero\n",
    "except ZeroDivisionError: # except zerodivisionerror\n",
    "    print(\"Cannot divide by zero!\") # prints line\n",
    "except: # except \n",
    "    print(\"Unexpected error\") # runs when no error is specified"
   ]
  },
  {
   "cell_type": "markdown",
   "metadata": {},
   "source": [
    "Handling multiple and unexpected exceptions\n",
    "In the following example, the number 12 is divided by the elements of old_lst. The code encounters several exceptions (TypeError, ZeroDivisionError, and IndexError) that it handles explicitly by type. The code never stops running. When an unexpected exception (IndexError) is raised, the last except clause handles it by displaying a friendly error message."
   ]
  },
  {
   "cell_type": "code",
   "execution_count": 10,
   "metadata": {},
   "outputs": [
    {
     "name": "stdout",
     "output_type": "stream",
     "text": [
      "List appended with 2.0\n",
      "Cannot divide 12 by <class 'str'>\n",
      "Cannot divide 12 by <class 'list'>\n",
      "Cannot divide by 0\n",
      "List appended with 4.0\n",
      "Unexpected error: list index out of range\n",
      "\n",
      "The new list is: [2.0, 4.0]\n"
     ]
    }
   ],
   "source": [
    "old_lst = [6, 'word', [2, 5], 0, 3] # list of items\n",
    "new_lst = [] # empty list\n",
    "for i in range(6): # numbers from 1 to 5 \n",
    "    try: # try\n",
    "        tmp = 12 / old_lst[i] # divides 12 by items in old_lst \n",
    "        new_lst.append(tmp) # adds items old_lst to new_lst\n",
    "        print(\"List appended with\", tmp) # prints info to user \n",
    "    except TypeError: # except type error\n",
    "        print(\"Cannot divide {0:d} by {1:}\".format(12, type(old_lst[i]))) # prints info to user \n",
    "    except ZeroDivisionError: # zerodivisionerror\n",
    "        print(\"Cannot divide by 0\") # prints info to user \n",
    "    except Exception as exception_object: # Handling unexpected exceptions, by showing the associated error message\n",
    "        print(\"Unexpected error: {0:}\".format(exception_object)) # prints info\n",
    "print() # empty line\n",
    "print(\"The new list is:\", new_lst) # prints new list"
   ]
  },
  {
   "cell_type": "markdown",
   "metadata": {},
   "source": [
    "Handling exceptions raised by other functions\n",
    "The sqrt function from the math module expect a positive number for an argument. Passing a negative number to sqrt will raise a ValueError exception.\n",
    "The sqrtfunction doesn't handle the exception internally, so your code should handle it or raise it to an upper level."
   ]
  },
  {
   "cell_type": "code",
   "execution_count": 11,
   "metadata": {},
   "outputs": [
    {
     "ename": "ValueError",
     "evalue": "math domain error",
     "output_type": "error",
     "traceback": [
      "\u001b[1;31m---------------------------------------------------------------------------\u001b[0m",
      "\u001b[1;31mValueError\u001b[0m                                Traceback (most recent call last)",
      "\u001b[1;32m<ipython-input-11-572bc8eeddbb>\u001b[0m in \u001b[0;36m<module>\u001b[1;34m()\u001b[0m\n\u001b[0;32m      2\u001b[0m \u001b[1;32mfrom\u001b[0m \u001b[0mmath\u001b[0m \u001b[1;32mimport\u001b[0m \u001b[0msqrt\u001b[0m \u001b[1;31m# imports square root function from math\u001b[0m\u001b[1;33m\u001b[0m\u001b[0m\n\u001b[0;32m      3\u001b[0m \u001b[0mx\u001b[0m \u001b[1;33m=\u001b[0m \u001b[1;33m-\u001b[0m\u001b[1;36m3\u001b[0m \u001b[1;31m# x contains negative number\u001b[0m\u001b[1;33m\u001b[0m\u001b[0m\n\u001b[1;32m----> 4\u001b[1;33m \u001b[0msqrt\u001b[0m\u001b[1;33m(\u001b[0m\u001b[0mx\u001b[0m\u001b[1;33m)\u001b[0m \u001b[1;31m# square root of negative number\u001b[0m\u001b[1;33m\u001b[0m\u001b[0m\n\u001b[0m",
      "\u001b[1;31mValueError\u001b[0m: math domain error"
     ]
    }
   ],
   "source": [
    "# Without exception handling\n",
    "from math import sqrt # imports square root function from math\n",
    "x = -3 # x contains negative number\n",
    "sqrt(x) # square root of negative number"
   ]
  },
  {
   "cell_type": "code",
   "execution_count": 13,
   "metadata": {},
   "outputs": [
    {
     "name": "stdout",
     "output_type": "stream",
     "text": [
      "math domain error\n"
     ]
    }
   ],
   "source": [
    "## With exception handling \n",
    "from math import sqrt # imports square root function from math\n",
    "x = -3 # x contains negative number\n",
    "try: # try\n",
    "    sqrt(x) # square root of negative number\n",
    "except ValueError as e: # Storing the error message in exception_object print(exception_object)\n",
    "    print(e) # prints error message"
   ]
  },
  {
   "cell_type": "code",
   "execution_count": 14,
   "metadata": {},
   "outputs": [
    {
     "name": "stdout",
     "output_type": "stream",
     "text": [
      "Unexpected error\n",
      "Unexpected error\n",
      "list is out of range\n",
      "list is out of range\n",
      "[1, 11, 'hellogoodbye']\n"
     ]
    }
   ],
   "source": [
    "lst1 = [-4, -5, 6, [6], \"hello\"] # list of some items\n",
    "lst2 = [ 5, 16, [6], \"hello\", \"goodbye\"] # another list\n",
    "new_lst = [] # empty list\n",
    "for i in range(7): # numbers 1 to 6\n",
    "    try: # try\n",
    "        x = lst1[i] + lst2[i] # adds list to list\n",
    "        new_lst.append(x) # appends to empty list\n",
    "    except TypeError: # except type error\n",
    "        print(\"Unexpected error\") # prints info\n",
    "    except IndexError: # except index error\n",
    "        print(\"list is out of range\") # prints info to user\n",
    "print(new_lst) # prints new list"
   ]
  },
  {
   "cell_type": "markdown",
   "metadata": {},
   "source": [
    "# [ ] The following program asks the user for an integer then prints the result of dividing it by 2.\n",
    "# If the user enters an invalid value (i.e. \"4.3\" or \"Hello\"), the program terminates. \n",
    "# Use exception handling to deal with unexpected user input and display a meaningful message."
   ]
  },
  {
   "cell_type": "code",
   "execution_count": 15,
   "metadata": {},
   "outputs": [
    {
     "name": "stdout",
     "output_type": "stream",
     "text": [
      "Enter an integer:4\n",
      "4 / 2 = 4.00\n",
      "Done!\n"
     ]
    }
   ],
   "source": [
    "try: # try\n",
    "    x = int(input(\"Enter an integer:\")) # collects user input\n",
    "    x / 2 # divides input by 2\n",
    "    print(\"{:d} / 2 = {:.2f}\".format(x,y))  # prints info to user\n",
    "except ValueError: # except value error\n",
    "    print(\"Invalid input\") # prints info to user\n",
    "except TypeError: # except type error\n",
    "    print(\"Invalid input\") # prints info to user\n",
    "except: # other errors\n",
    "    print(\"Invalid Input\") # prints general message\n",
    "print(\"Done!\") # done"
   ]
  },
  {
   "cell_type": "markdown",
   "metadata": {},
   "source": [
    "# [ ] The following program asks the user for an integer `x` then assigns `y` as the result of dividing `x` by 2. \n",
    "# If the user enters an invalid value (i.e. \"4.3\" or \"Hello\"), the program terminates. \n",
    "# Use exception handling to deal with unexpected user inputs, then use an `else` clause to calculate the value of `y`."
   ]
  },
  {
   "cell_type": "code",
   "execution_count": 18,
   "metadata": {},
   "outputs": [
    {
     "name": "stdout",
     "output_type": "stream",
     "text": [
      "Enter an integer: e\n",
      "Unexpected User input\n",
      "An exception was raised, y cannot be used\n"
     ]
    }
   ],
   "source": [
    "try: # try\n",
    "    x = input(\"Enter an integer: \") # collects user input \n",
    "    y = None # nothing\n",
    "    x = int(x) # converts x to an integer\n",
    "    y = x / 2; # divides by 2\n",
    "except ValueError: # except value error\n",
    "    print(\"Unexpected User input\") # line runs\n",
    "if y is not None: # when y is TRUE\n",
    "    print(\"No exceptions were raised, you can use y =\", y) # line runs \n",
    "else: # else \n",
    "    print(\"An exception was raised, y cannot be used\") # line runs"
   ]
  },
  {
   "cell_type": "markdown",
   "metadata": {},
   "source": [
    "# [ ] The following program tries to write to a file opened for reading. \n",
    "# The program will terminate before closing the file, and the file resources will not be released. \n",
    "# Use exception handling with a `finally` clause to make sure the file is closed. \n",
    "# Open a text file for reading"
   ]
  },
  {
   "cell_type": "code",
   "execution_count": 21,
   "metadata": {},
   "outputs": [
    {
     "name": "stdout",
     "output_type": "stream",
     "text": [
      "Sorry file does not exist\n"
     ]
    }
   ],
   "source": [
    "try: # try\n",
    "    f = open(\"parent_dir/text_file.txt\", 'r') # opens document\n",
    "    f.write(\"This string will not be written\")# Try to write to a file open for reading (will raise an exception)\n",
    "    f.close()# Close the file (will not be reached if an exception was raised)\n",
    "    print(\"File closed\") # prints info\n",
    "except FileNotFoundError: # except error\n",
    "    print(\"Sorry file does not exist\") # line runs"
   ]
  },
  {
   "cell_type": "code",
   "execution_count": null,
   "metadata": {},
   "outputs": [],
   "source": [
    "valid = False\n",
    "while not valid:\n",
    "    try: \n",
    "        x = int(input(\"Enter a number between 1 and 10: \"))\n",
    "        if ((x < 1) or (x > 10)): \n",
    "            raise ValueError(\"The number is outside of the acceptable range\") \n",
    "        valid = True \n",
    "    except ValueError as except_object:\n",
    "        print(\"{}\".format(except_object))\n",
    "    print(\"{:d} was accepted\".format(x))"
   ]
  },
  {
   "cell_type": "code",
   "execution_count": null,
   "metadata": {},
   "outputs": [],
   "source": [
    "def isValid(num):\n",
    "    if ((num < 1) or (num > 10)): \n",
    "        raise ValueError(\"The number is outside of the acceptable range\")\n",
    "    else:\n",
    "        return num \n",
    "valid = False\n",
    "while not valid:\n",
    "    try: \n",
    "        x = int(input(\"Enter a number between 1 and 10: \"))\n",
    "        x = isValid(x)\n",
    "        valid = True \n",
    "    except ValueError as except_object: \n",
    "        print(\"{}\".format(except_object))\n",
    "    print(\"{:d} was accepted\".format(x))"
   ]
  },
  {
   "cell_type": "markdown",
   "metadata": {},
   "source": [
    "# [ ] Write a program to keep prompting the user for an odd positive number until a valid number is entered.\n",
    "# Your program should raise an exception with an appropriate message if the input is not valid."
   ]
  },
  {
   "cell_type": "code",
   "execution_count": 2,
   "metadata": {},
   "outputs": [
    {
     "name": "stdout",
     "output_type": "stream",
     "text": [
      "Enter an odd number\n",
      "invalid input. Please follow the rule\n",
      "Enter an odd number\n",
      "invalid input. Please follow the rule\n",
      "Enter an odd number\n",
      "invalid input. Please follow the rule\n",
      "Enter an odd number748\n",
      "748 is an even number\n",
      "Enter an odd number!@#\n",
      "invalid input. Please follow the rule\n",
      "Enter an odd number3\n",
      "3 is a valid odd number\n"
     ]
    }
   ],
   "source": [
    "while True:\n",
    "    try:\n",
    "        user_input = int(input(\"Enter an odd number:\"))\n",
    "        if (user_input % 2 != 0):\n",
    "            print(user_input,\"is a valid odd number\")\n",
    "            break\n",
    "        else:\n",
    "            print(user_input,\"is an even number\")\n",
    "    except ValueError:\n",
    "        print(\"invalid input. Please follow the rule\")"
   ]
  },
  {
   "cell_type": "markdown",
   "metadata": {},
   "source": [
    "# [ ] Complete the function `isValid` to test the validity of a user input. A valid input should be an odd positive integer. \n",
    "# The function should raise an exception with an appropriate message if the input is not valid. \n",
    "# The function need not handle the exception."
   ]
  },
  {
   "cell_type": "code",
   "execution_count": 13,
   "metadata": {},
   "outputs": [],
   "source": [
    "def isValid(num): \n",
    "    y = int(num)\n",
    "    if (y > 0) and (y % 2 != 0):\n",
    "        raise ValueError(\"The input is invalid\")\n",
    "    else:\n",
    "        return num"
   ]
  },
  {
   "cell_type": "code",
   "execution_count": 17,
   "metadata": {},
   "outputs": [
    {
     "ename": "ValueError",
     "evalue": "The input is invalid",
     "output_type": "error",
     "traceback": [
      "\u001b[1;31m---------------------------------------------------------------------------\u001b[0m",
      "\u001b[1;31mValueError\u001b[0m                                Traceback (most recent call last)",
      "\u001b[1;32m<ipython-input-17-feaac9786992>\u001b[0m in \u001b[0;36m<module>\u001b[1;34m()\u001b[0m\n\u001b[1;32m----> 1\u001b[1;33m \u001b[0misValid\u001b[0m\u001b[1;33m(\u001b[0m\u001b[1;36m7\u001b[0m\u001b[1;33m)\u001b[0m\u001b[1;33m\u001b[0m\u001b[0m\n\u001b[0m",
      "\u001b[1;32m<ipython-input-13-8419b2e19de7>\u001b[0m in \u001b[0;36misValid\u001b[1;34m(num)\u001b[0m\n\u001b[0;32m      2\u001b[0m     \u001b[0my\u001b[0m \u001b[1;33m=\u001b[0m \u001b[0mint\u001b[0m\u001b[1;33m(\u001b[0m\u001b[0mnum\u001b[0m\u001b[1;33m)\u001b[0m\u001b[1;33m\u001b[0m\u001b[0m\n\u001b[0;32m      3\u001b[0m     \u001b[1;32mif\u001b[0m \u001b[1;33m(\u001b[0m\u001b[0my\u001b[0m \u001b[1;33m>\u001b[0m \u001b[1;36m0\u001b[0m\u001b[1;33m)\u001b[0m \u001b[1;32mand\u001b[0m \u001b[1;33m(\u001b[0m\u001b[0my\u001b[0m \u001b[1;33m%\u001b[0m \u001b[1;36m2\u001b[0m \u001b[1;33m!=\u001b[0m \u001b[1;36m0\u001b[0m\u001b[1;33m)\u001b[0m\u001b[1;33m:\u001b[0m\u001b[1;33m\u001b[0m\u001b[0m\n\u001b[1;32m----> 4\u001b[1;33m         \u001b[1;32mraise\u001b[0m \u001b[0mValueError\u001b[0m\u001b[1;33m(\u001b[0m\u001b[1;34m\"The input is invalid\"\u001b[0m\u001b[1;33m)\u001b[0m\u001b[1;33m\u001b[0m\u001b[0m\n\u001b[0m\u001b[0;32m      5\u001b[0m     \u001b[1;32melse\u001b[0m\u001b[1;33m:\u001b[0m\u001b[1;33m\u001b[0m\u001b[0m\n\u001b[0;32m      6\u001b[0m         \u001b[1;32mreturn\u001b[0m \u001b[0mnum\u001b[0m\u001b[1;33m\u001b[0m\u001b[0m\n",
      "\u001b[1;31mValueError\u001b[0m: The input is invalid"
     ]
    }
   ],
   "source": [
    "isValid(7)"
   ]
  },
  {
   "cell_type": "code",
   "execution_count": 5,
   "metadata": {},
   "outputs": [
    {
     "name": "stdout",
     "output_type": "stream",
     "text": [
      "say something:4\n",
      "not a prime number\n",
      "prime number\n",
      "not a prime number\n",
      "prime number\n",
      "prime number\n",
      "prime number\n",
      "prime number\n",
      "prime number\n"
     ]
    }
   ],
   "source": [
    "y = int(input(\"say something:\"))\n",
    "for i in range(2,10):\n",
    "    if (y % i == 0):\n",
    "        print(\"not a prime number\")\n",
    "    else:\n",
    "        print(\"prime number\")"
   ]
  }
 ],
 "metadata": {
  "kernelspec": {
   "display_name": "Python 3",
   "language": "python",
   "name": "python3"
  },
  "language_info": {
   "codemirror_mode": {
    "name": "ipython",
    "version": 3
   },
   "file_extension": ".py",
   "mimetype": "text/x-python",
   "name": "python",
   "nbconvert_exporter": "python",
   "pygments_lexer": "ipython3",
   "version": "3.6.4"
  }
 },
 "nbformat": 4,
 "nbformat_minor": 2
}
